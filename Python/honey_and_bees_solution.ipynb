{
 "cells": [
  {
   "cell_type": "markdown",
   "source": [
    "# TechAcademy: Honey and Bees Python Solution"
   ],
   "metadata": {
    "collapsed": false
   }
  },
  {
   "cell_type": "markdown",
   "source": [
    " # Exlporatory Data Analysis (EDA)"
   ],
   "metadata": {
    "collapsed": false
   }
  },
  {
   "cell_type": "markdown",
   "source": [
    "## Import Packages"
   ],
   "metadata": {
    "collapsed": false
   }
  },
  {
   "cell_type": "code",
   "execution_count": 24,
   "metadata": {
    "collapsed": true
   },
   "outputs": [],
   "source": [
    "import pandas as pd\n",
    "import numpy as np\n",
    "from matplotlib import pyplot as plt\n",
    "from matplotlib import dates as mdates\n",
    "import plotly.express as px"
   ]
  },
  {
   "cell_type": "markdown",
   "source": [
    "## Plot Styles"
   ],
   "metadata": {
    "collapsed": false
   }
  },
  {
   "cell_type": "code",
   "execution_count": 2,
   "outputs": [],
   "source": [
    "plt.style.use('./styles/ta.mplstyle')  # TA-Style\n",
    "myFmt = mdates.DateFormatter('%Y-%m')"
   ],
   "metadata": {
    "collapsed": false,
    "pycharm": {
     "name": "#%%\n"
    }
   }
  },
  {
   "cell_type": "markdown",
   "source": [
    "## Load the data"
   ],
   "metadata": {
    "collapsed": false
   }
  },
  {
   "cell_type": "code",
   "execution_count": 3,
   "outputs": [],
   "source": [
    "# Bees\n",
    "bees = pd.read_csv('https://drive.google.com/uc?export=download&id=1lop3qnrSve5A13jNcL6wCehGpDaCrGRO', index_col=0)\n",
    "# Honey\n",
    "honey = pd.read_csv('https://drive.google.com/uc?export=download&id=1bQtWQluwwGUIgZuDOsJOE-4Om7x4HOxP', index_col=0)\n",
    "# Weather\n",
    "weather = pd.read_csv('https://drive.google.com/uc?export=download&id=130q2nv8-4S769iEEAsunGmiF16tahNmT', index_col=0)"
   ],
   "metadata": {
    "collapsed": false,
    "pycharm": {
     "name": "#%%\n"
    }
   }
  },
  {
   "cell_type": "markdown",
   "source": [
    "## Rename the weather index nicely"
   ],
   "metadata": {
    "collapsed": false
   }
  },
  {
   "cell_type": "code",
   "execution_count": 4,
   "outputs": [],
   "source": [
    "# enjoy this link to rename the weather index https://gist.github.com/rogerallen/1583593\n",
    "us_state_to_abbrev = {\n",
    "    \"Alabama\": \"AL\",\n",
    "    \"Alaska\": \"AK\",\n",
    "    \"Arizona\": \"AZ\",\n",
    "    \"Arkansas\": \"AR\",\n",
    "    \"California\": \"CA\",\n",
    "    \"Colorado\": \"CO\",\n",
    "    \"Connecticut\": \"CT\",\n",
    "    \"Delaware\": \"DE\",\n",
    "    \"Florida\": \"FL\",\n",
    "    \"Georgia\": \"GA\",\n",
    "    \"Hawaii\": \"HI\",\n",
    "    \"Idaho\": \"ID\",\n",
    "    \"Illinois\": \"IL\",\n",
    "    \"Indiana\": \"IN\",\n",
    "    \"Iowa\": \"IA\",\n",
    "    \"Kansas\": \"KS\",\n",
    "    \"Kentucky\": \"KY\",\n",
    "    \"Louisiana\": \"LA\",\n",
    "    \"Maine\": \"ME\",\n",
    "    \"Maryland\": \"MD\",\n",
    "    \"Massachusetts\": \"MA\",\n",
    "    \"Michigan\": \"MI\",\n",
    "    \"Minnesota\": \"MN\",\n",
    "    \"Mississippi\": \"MS\",\n",
    "    \"Missouri\": \"MO\",\n",
    "    \"Montana\": \"MT\",\n",
    "    \"Nebraska\": \"NE\",\n",
    "    \"Nevada\": \"NV\",\n",
    "    \"New Hampshire\": \"NH\",\n",
    "    \"New Jersey\": \"NJ\",\n",
    "    \"New Mexico\": \"NM\",\n",
    "    \"New York\": \"NY\",\n",
    "    \"North Carolina\": \"NC\",\n",
    "    \"North Dakota\": \"ND\",\n",
    "    \"Ohio\": \"OH\",\n",
    "    \"Oklahoma\": \"OK\",\n",
    "    \"Oregon\": \"OR\",\n",
    "    \"Pennsylvania\": \"PA\",\n",
    "    \"Rhode Island\": \"RI\",\n",
    "    \"South Carolina\": \"SC\",\n",
    "    \"South Dakota\": \"SD\",\n",
    "    \"Tennessee\": \"TN\",\n",
    "    \"Texas\": \"TX\",\n",
    "    \"Utah\": \"UT\",\n",
    "    \"Vermont\": \"VT\",\n",
    "    \"Virginia\": \"VA\",\n",
    "    \"Washington\": \"WA\",\n",
    "    \"West Virginia\": \"WV\",\n",
    "    \"Wisconsin\": \"WI\",\n",
    "    \"Wyoming\": \"WY\",\n",
    "    \"District of Columbia\": \"DC\",\n",
    "    \"American Samoa\": \"AS\",\n",
    "    \"Guam\": \"GU\",\n",
    "    \"Northern Mariana Islands\": \"MP\",\n",
    "    \"Puerto Rico\": \"PR\",\n",
    "    \"United States Minor Outlying Islands\": \"UM\",\n",
    "    \"U.S. Virgin Islands\": \"VI\",\n",
    "}\n",
    "\n",
    "# invert the dictionary\n",
    "abbrev_to_us_state = dict(map(reversed, us_state_to_abbrev.items()))\n",
    "weather.rename(index=abbrev_to_us_state, inplace=True)"
   ],
   "metadata": {
    "collapsed": false,
    "pycharm": {
     "name": "#%%\n"
    }
   }
  },
  {
   "cell_type": "markdown",
   "source": [
    "## Get a feeling for the data"
   ],
   "metadata": {
    "collapsed": false
   }
  },
  {
   "cell_type": "code",
   "execution_count": 5,
   "outputs": [
    {
     "name": "stdout",
     "output_type": "stream",
     "text": [
      "            Date Starting Colonies Maximum Colonies Lost Colonies  \\\n",
      "State                                                               \n",
      "Alabama  2015-Q3              8500             9000          1400   \n",
      "Alabama  2015-Q4              8000             8000           610   \n",
      "Alabama  2016-Q1              7500             7500          1700   \n",
      "Alabama  2015-Q2              7500             7500           860   \n",
      "Alabama  2015-Q1              7000             7000          1800   \n",
      "\n",
      "        Added Colonies Renovated Colonies Percent Renovated  \\\n",
      "State                                                         \n",
      "Alabama            160                260                 3   \n",
      "Alabama             80                 60                 1   \n",
      "Alabama           2100                 90                 1   \n",
      "Alabama           1900                680                 9   \n",
      "Alabama           2800                250                 4   \n",
      "\n",
      "        Varroa Mites (Percent) Other pests and parasites (Percent)  \\\n",
      "State                                                                \n",
      "Alabama                   63.1                                70.6   \n",
      "Alabama                    3.1                                 6.4   \n",
      "Alabama                   24.2                                  22   \n",
      "Alabama                   16.7                                42.5   \n",
      "Alabama                     10                                 5.4   \n",
      "\n",
      "        Diseases (percent) Pesticides (percent) Other (percent)  \\\n",
      "State                                                             \n",
      "Alabama                (Z)                  2.6             2.2   \n",
      "Alabama                0.2                  0.2             2.8   \n",
      "Alabama                4.3                  8.1             2.4   \n",
      "Alabama                (Z)                  2.3             3.2   \n",
      "Alabama                (Z)                  2.2             9.1   \n",
      "\n",
      "        Unknown (percent) State_code   Latitude  Longitude  \n",
      "State                                                       \n",
      "Alabama              17.7         AL  32.601011 -86.680736  \n",
      "Alabama               1.9         AL  32.601011 -86.680736  \n",
      "Alabama              11.3         AL  32.601011 -86.680736  \n",
      "Alabama               4.1         AL  32.601011 -86.680736  \n",
      "Alabama               9.4         AL  32.601011 -86.680736  \n",
      "            Honey producing colonies (thousand)  Yield per colony (pounds)  \\\n",
      "State                                                                        \n",
      "Alabama                                       7                       47.0   \n",
      "Arizona                                      26                       49.0   \n",
      "Arkansas                                     24                       72.0   \n",
      "California                                  275                       30.0   \n",
      "Colorado                                     29                       51.0   \n",
      "\n",
      "            Production (1,000 pounds)  Stocks December 15  (1,000 pounds)   \\\n",
      "State                                                                        \n",
      "Alabama                           329                                   13   \n",
      "Arizona                          1274                                  306   \n",
      "Arkansas                         1728                                  121   \n",
      "California                       8250                                 1485   \n",
      "Colorado                         1479                                  399   \n",
      "\n",
      "            Average price per pound (dollars)  \\\n",
      "State                                           \n",
      "Alabama                                  3.83   \n",
      "Arizona                                  2.17   \n",
      "Arkansas                                 2.02   \n",
      "California                               2.04   \n",
      "Colorado                                 2.18   \n",
      "\n",
      "            Value of production (1,000 dollars)  Year  \n",
      "State                                                  \n",
      "Alabama                                    1260  2015  \n",
      "Arizona                                    2765  2015  \n",
      "Arkansas                                   3491  2015  \n",
      "California                                16830  2015  \n",
      "Colorado                                   3224  2015  \n",
      "            latitude  longitude    datetime  tempmax  tempmin  temp  \\\n",
      "State_code                                                            \n",
      "Alaska        61.303   -158.775  2015-01-01     -1.0     -7.0  -3.6   \n",
      "Alaska        61.303   -158.775  2015-01-02     -7.0    -14.0 -11.4   \n",
      "Alaska        61.303   -158.775  2015-01-03    -14.0    -19.0 -16.7   \n",
      "Alaska        61.303   -158.775  2015-01-04    -18.0    -22.0 -20.4   \n",
      "Alaska        61.303   -158.775  2015-01-05    -17.0    -20.0 -17.8   \n",
      "\n",
      "            feelslikemax  feelslikemin  feelslike   dew  ...  winddir  \\\n",
      "State_code                                               ...            \n",
      "Alaska              -1.0          -7.0       -3.6  -4.6  ...      0.0   \n",
      "Alaska              -7.0         -14.0      -11.4 -12.7  ...      0.0   \n",
      "Alaska             -14.0         -19.0      -16.7 -18.4  ...      0.0   \n",
      "Alaska             -18.0         -22.0      -20.4 -22.3  ...      0.0   \n",
      "Alaska             -17.0         -26.5      -20.6 -21.0  ...    130.0   \n",
      "\n",
      "            sealevelpressure  cloudcover  visibility  solarradiation  \\\n",
      "State_code                                                             \n",
      "Alaska                   NaN        94.5        11.3             NaN   \n",
      "Alaska                   NaN        28.0        14.0             NaN   \n",
      "Alaska                   NaN        29.9        16.0             NaN   \n",
      "Alaska                   NaN         0.0        16.0             NaN   \n",
      "Alaska                   NaN        12.5        16.0             NaN   \n",
      "\n",
      "            solarenergy  uvindex  severerisk  Group4  Group3  \n",
      "State_code                                                    \n",
      "Alaska              NaN      NaN         NaN     NaN     NaN  \n",
      "Alaska              NaN      NaN         NaN     NaN     NaN  \n",
      "Alaska              NaN      NaN         NaN     NaN     NaN  \n",
      "Alaska              NaN      NaN         NaN     NaN     NaN  \n",
      "Alaska              NaN      NaN         NaN     NaN     NaN  \n",
      "\n",
      "[5 rows x 29 columns]\n",
      "count     1125\n",
      "unique     238\n",
      "top       (NA)\n",
      "freq        45\n",
      "Name: Starting Colonies, dtype: object\n",
      "Date                                    object\n",
      "Starting Colonies                       object\n",
      "Maximum Colonies                        object\n",
      "Lost Colonies                           object\n",
      "Added Colonies                          object\n",
      "Renovated Colonies                      object\n",
      "Percent Renovated                       object\n",
      "Varroa Mites (Percent)                  object\n",
      "Other pests and parasites (Percent)     object\n",
      "Diseases (percent)                      object\n",
      "Pesticides (percent)                    object\n",
      "Other (percent)                         object\n",
      "Unknown (percent)                       object\n",
      "State_code                              object\n",
      "Latitude                               float64\n",
      "Longitude                              float64\n",
      "dtype: object\n",
      "Honey producing colonies (thousand)      int64\n",
      "Yield per colony (pounds)              float64\n",
      "Production (1,000 pounds)                int64\n",
      "Stocks December 15  (1,000 pounds)       int64\n",
      "Average price per pound (dollars)      float64\n",
      "Value of production (1,000 dollars)      int64\n",
      "Year                                     int64\n",
      "dtype: object\n",
      "latitude            float64\n",
      "longitude           float64\n",
      "datetime             object\n",
      "tempmax             float64\n",
      "tempmin             float64\n",
      "temp                float64\n",
      "feelslikemax        float64\n",
      "feelslikemin        float64\n",
      "feelslike           float64\n",
      "dew                 float64\n",
      "humidity            float64\n",
      "precip              float64\n",
      "precipprob          float64\n",
      "precipcover         float64\n",
      "preciptype          float64\n",
      "snow                float64\n",
      "snowdepth           float64\n",
      "windgust            float64\n",
      "windspeed           float64\n",
      "winddir             float64\n",
      "sealevelpressure    float64\n",
      "cloudcover          float64\n",
      "visibility          float64\n",
      "solarradiation      float64\n",
      "solarenergy         float64\n",
      "uvindex             float64\n",
      "severerisk          float64\n",
      "Group4              float64\n",
      "Group3              float64\n",
      "dtype: object\n"
     ]
    }
   ],
   "source": [
    "print(bees.head())\n",
    "print(honey.head())\n",
    "print(weather.head())\n",
    "print(bees[\"Starting Colonies\"].describe())\n",
    "\n",
    "print(bees.dtypes)\n",
    "print(honey.dtypes)\n",
    "print(weather.dtypes)"
   ],
   "metadata": {
    "collapsed": false,
    "pycharm": {
     "name": "#%%\n"
    }
   }
  },
  {
   "cell_type": "markdown",
   "source": [
    "## Task 1: Convert from pounds to kg and prices to $/kg"
   ],
   "metadata": {
    "collapsed": false
   }
  },
  {
   "cell_type": "code",
   "execution_count": 6,
   "outputs": [],
   "source": [
    "honey[\"honey_producing_colonies\"] = honey[\"Honey producing colonies (thousand)\"] # * 1000\n",
    "honey[\"yield_colony_kg\"] = honey[\"Yield per colony (pounds)\"] * 0.453592\n",
    "honey[\"production_kg\"] = honey[\"Production (1,000 pounds)\"] * 0.453592  # * 1000\n",
    "honey[\"stock_price_kg\"] = honey[\"Stocks December 15  (1,000 pounds) \"] /1000 * 0.453592 * 100\n",
    "honey[\"avg_price_kk\"] = honey[\"Average price per pound (dollars)\"] * 0.453592\n",
    "honey[\"prod_value\"] = honey[\"Value of production (1,000 dollars)\"]  # * 1000\n",
    "\n",
    "honey.drop(\n",
    "    [\"Honey producing colonies (thousand)\", \"Yield per colony (pounds)\", \"Production (1,000 pounds)\",\n",
    "     \"Stocks December 15  (1,000 pounds) \", \"Average price per pound (dollars)\", \"Value of production (1,000 dollars)\"],\n",
    "    axis=1,\n",
    "    inplace=True,\n",
    ")"
   ],
   "metadata": {
    "collapsed": false,
    "pycharm": {
     "name": "#%%\n"
    }
   }
  },
  {
   "cell_type": "code",
   "execution_count": 7,
   "outputs": [
    {
     "data": {
      "text/plain": "State\nAlabama             0.589670\nArizona            13.879915\nArkansas            5.488463\nCalifornia         67.358412\nColorado           18.098321\n                    ...     \nWest Virginia       2.630834\nWisconsin          38.782116\nWyoming            27.578394\nOther              13.743838\nUnited States    1801.440628\nName: stock_price_kg, Length: 252, dtype: float64"
     },
     "execution_count": 7,
     "metadata": {},
     "output_type": "execute_result"
    }
   ],
   "source": [
    "honey[\"stock_price_kg\"]"
   ],
   "metadata": {
    "collapsed": false,
    "pycharm": {
     "name": "#%%\n"
    }
   }
  },
  {
   "cell_type": "markdown",
   "source": [
    "## Task 2: write loop to round up to the decimal place you prefer (does not make sense for Python really)"
   ],
   "metadata": {
    "collapsed": false
   }
  },
  {
   "cell_type": "code",
   "execution_count": 8,
   "outputs": [],
   "source": [
    "honey = honey.round(2)"
   ],
   "metadata": {
    "collapsed": false,
    "pycharm": {
     "name": "#%%\n"
    }
   }
  },
  {
   "cell_type": "markdown",
   "source": [
    "## Task 3: Years in date format"
   ],
   "metadata": {
    "collapsed": false
   }
  },
  {
   "cell_type": "code",
   "execution_count": 9,
   "outputs": [],
   "source": [
    "honey.Year = pd.to_datetime(honey.Year, format=\"%Y\")  # assumes start of year 01.01 by convention\n",
    "bees.Date = pd.to_datetime(bees.Date)\n",
    "weather.datetime = pd.to_datetime(weather.datetime)"
   ],
   "metadata": {
    "collapsed": false,
    "pycharm": {
     "name": "#%%\n"
    }
   }
  },
  {
   "cell_type": "markdown",
   "source": [
    "## Task 4: numbers into numeric format, numeric should be a loop"
   ],
   "metadata": {
    "collapsed": false
   }
  },
  {
   "cell_type": "code",
   "execution_count": 9,
   "outputs": [],
   "source": [],
   "metadata": {
    "collapsed": false,
    "pycharm": {
     "name": "#%%\n"
    }
   }
  },
  {
   "cell_type": "markdown",
   "source": [
    "## Task 5: Calculate the percentage of lost colonies & round, why id you decide to round the way you have to?"
   ],
   "metadata": {
    "collapsed": false
   }
  },
  {
   "cell_type": "code",
   "execution_count": 9,
   "outputs": [],
   "source": [],
   "metadata": {
    "collapsed": false,
    "pycharm": {
     "name": "#%%\n"
    }
   }
  },
  {
   "cell_type": "markdown",
   "source": [
    "## Other stuff"
   ],
   "metadata": {
    "collapsed": false
   }
  },
  {
   "cell_type": "code",
   "execution_count": 10,
   "outputs": [],
   "source": [
    "# average production by state\n",
    "avg_state_prod = honey.groupby(honey.index)[\"production_kg\"].mean()\n",
    "\n",
    "# production by state and year\n",
    "state_year_prod = honey.groupby([honey.index, honey.Year])[\"production_kg\"].sum()\n"
   ],
   "metadata": {
    "collapsed": false,
    "pycharm": {
     "name": "#%%\n"
    }
   }
  },
  {
   "cell_type": "code",
   "execution_count": 11,
   "outputs": [
    {
     "data": {
      "text/plain": "<Figure size 864x432 with 2 Axes>",
      "image/png": "[encoded data removed]"
     },
     "metadata": {},
     "output_type": "display_data"
    }
   ],
   "source": [
    "state = \"Wyoming\"\n",
    "suptitle = \"Honey and Bees\"\n",
    "title = f\"Honey production in {state} over time\"\n",
    "fig, ax = plt.subplots(figsize=(12,6))\n",
    "plt.suptitle(suptitle, size=30, y=1, c='#3C4EE0', fontweight=\"bold\")\n",
    "plt.title(title, fontsize=15)\n",
    "plt.xlabel('Year')\n",
    "plt.ylabel('Production [1000 kg]')\n",
    "\n",
    "# plot data\n",
    "df = state_year_prod[state:state]\n",
    "ax.plot(df.index.get_level_values('Year'), df.values)\n",
    "\n",
    "# TA Logo\n",
    "im = plt.imread(\"../logos/TA_Logo_Vertical1.png\")\n",
    "newax = fig.add_axes([.75, .2, .2, 0.6], anchor='NE', zorder=1)\n",
    "newax.imshow(im, alpha=1)\n",
    "newax.axis('off')\n",
    "# date formatting\n",
    "ax.xaxis.set_major_formatter(myFmt)\n",
    "plt.savefig(f\"../Leitfaden/plot/{title}.jpg\", bbox_inches=\"tight\", dpi=800)"
   ],
   "metadata": {
    "collapsed": false,
    "pycharm": {
     "name": "#%%\n"
    }
   }
  },
  {
   "cell_type": "markdown",
   "source": [
    "## Bienenpopulation (starting colonies) ; sorted by lowest to highest, + Strich representing mean"
   ],
   "metadata": {
    "collapsed": false
   }
  },
  {
   "cell_type": "code",
   "execution_count": 12,
   "outputs": [],
   "source": [
    "# Only most recent, January 2021, observations\n",
    "jan21_bee_pop = pd.DataFrame(bees.loc[bees.Date >= '2021'])\n",
    "# change string bojects to numerics\n",
    "jan21_bee_pop[\"Starting Colonies\"] = pd.to_numeric(jan21_bee_pop[\"Starting Colonies\"])\n",
    "# sort ascending (this wont work as intended if the value are string objects)\n",
    "jan21_bee_pop = jan21_bee_pop.sort_values(by=\"Starting Colonies\")"
   ],
   "metadata": {
    "collapsed": false,
    "pycharm": {
     "name": "#%%\n"
    }
   }
  },
  {
   "cell_type": "code",
   "execution_count": 13,
   "outputs": [
    {
     "data": {
      "text/plain": "State\nMaine                2900\nColorado             3000\nNew Mexico           3500\nConnecticut          4200\nMassachusetts        5000\nKansas               5000\nMissouri             5500\nWest Virginia        7000\nVirginia             7000\nMaryland             7000\nVermont              7500\nIllinois             9500\nKentucky             9500\nAlabama             10000\nIndiana             10000\nNebraska            11000\nTennessee           12000\nWyoming             13000\nNew Jersey          14000\nIowa                15000\nSouth Carolina      15500\nUtah                17500\nOhio                17500\nNorth Carolina      18000\nHawaii              19500\nPennsylvania        20000\nArkansas            21000\nWisconsin           25000\nOklahoma            28000\nSouth Dakota        28000\nArizona             29000\nNew York            30000\nMississippi         33000\nMontana             40000\nMinnesota           41000\nWashington          48000\nNorth Dakota        51000\nLouisiana           51000\nOregon              76000\nMichigan            78000\nGeorgia            120000\nIdaho              168000\nTexas              240000\nFlorida            300000\nCalifornia        1240000\nName: Starting Colonies, dtype: int64"
     },
     "execution_count": 13,
     "metadata": {},
     "output_type": "execute_result"
    }
   ],
   "source": [
    "jan21_bee_pop[\"Starting Colonies\"]"
   ],
   "metadata": {
    "collapsed": false,
    "pycharm": {
     "name": "#%%\n"
    }
   }
  },
  {
   "cell_type": "code",
   "execution_count": 14,
   "outputs": [
    {
     "data": {
      "text/plain": "<Figure size 864x432 with 2 Axes>",
      "image/png": "[encoded data removed]"
     },
     "metadata": {},
     "output_type": "display_data"
    }
   ],
   "source": [
    "suptitle = \"Honey and Bees\"\n",
    "title = f\"Starting Colonies in January 2021\"\n",
    "fig, ax = plt.subplots(figsize=(12,6))\n",
    "plt.suptitle(suptitle, size=30, y=1, c='#3C4EE0', fontweight=\"bold\")\n",
    "plt.title(title, fontsize=15)\n",
    "plt.xticks(rotation=90)\n",
    "plt.xlabel('State')\n",
    "plt.ylabel('Number in thousands')\n",
    "\n",
    "# plot data\n",
    "ax.bar(jan21_bee_pop.index, jan21_bee_pop[\"Starting Colonies\"]/1000)\n",
    "\n",
    "# TA Logo\n",
    "im = plt.imread(\"../logos/TA_Logo_Vertical1.png\")\n",
    "newax = fig.add_axes([.75, .2, .2, 0.6], anchor='NE', zorder=1)\n",
    "newax.imshow(im, alpha=1)\n",
    "newax.axis('off')\n",
    "\n",
    "plt.savefig(f\"../Leitfaden/plot/{title}.jpg\", bbox_inches=\"tight\", dpi=800)"
   ],
   "metadata": {
    "collapsed": false,
    "pycharm": {
     "name": "#%%\n"
    }
   }
  },
  {
   "cell_type": "code",
   "execution_count": 49,
   "outputs": [
    {
     "data": {
      "application/vnd.plotly.v1+json": {
       "data": [
        {
         "coloraxis": "coloraxis",
         "geo": "geo",
         "hovertemplate": "Date=2015-01-01<br>State=%{location}<br>Starting Colonies=%{z}<extra></extra>",
         "ids": [
          10.819778284410283,
          8.85366542803745,
          9.711115659888671,
          9.159047077588632,
          10.839580911706463,
          9.546812608597396,
          9.159047077588632,
          10.4341158035983,
          8.922658299524402,
          14.180153671552183,
          9.259130536145614,
          9.433483923290392,
          10.46310334047155,
          8.699514748210191,
          8.45531778769815,
          9.392661928770137,
          9.798127036878302,
          8.268731832117737,
          9.047821442478408,
          8.699514748210191,
          9.472704636443673,
          11.251560700835821,
          10.858998997563564,
          8.433811582477187,
          12.160028707028767,
          8.987196820661973,
          9.210340371976184,
          11.55214617812351,
          9.740968623038354,
          10.950806546816688,
          12.628067055589549,
          8.699514748210191,
          9.711115659888671,
          8.612503371220562,
          10.085809109330082,
          8.85366542803745,
          11.302204433654575,
          7.9724660159745655,
          9.104979856318357,
          8.612503371220562,
          8.922658299524402,
          8.039157390473237,
          8.160518247477505,
          10.203592144986466,
          10.239959789157341
         ],
         "locationmode": "USA-states",
         "locations": [
          "SD",
          "NM",
          "WI",
          "OK",
          "LA",
          "PA",
          "TN",
          "MS",
          "KY",
          "CA",
          "HI",
          "IA",
          "AZ",
          "NJ",
          "WV",
          "MO",
          "OH",
          "CT",
          "MT",
          "UT",
          "AR",
          "OR",
          "WA",
          "KS",
          "TX",
          "VA",
          "NE",
          "GA",
          "SC",
          "ND",
          "FL",
          "IL",
          "MI",
          "VT",
          "NC",
          "AL",
          "ID",
          "MA",
          "IN",
          "WY",
          "MD",
          "ME",
          "CO",
          "NY",
          "MN"
         ],
         "name": "",
         "z": [
          10.819778284410283,
          8.85366542803745,
          9.711115659888671,
          9.159047077588632,
          10.839580911706463,
          9.546812608597396,
          9.159047077588632,
          10.4341158035983,
          8.922658299524402,
          14.180153671552183,
          9.259130536145614,
          9.433483923290392,
          10.46310334047155,
          8.699514748210191,
          8.45531778769815,
          9.392661928770137,
          9.798127036878302,
          8.268731832117737,
          9.047821442478408,
          8.699514748210191,
          9.472704636443673,
          11.251560700835821,
          10.858998997563564,
          8.433811582477187,
          12.160028707028767,
          8.987196820661973,
          9.210340371976184,
          11.55214617812351,
          9.740968623038354,
          10.950806546816688,
          12.628067055589549,
          8.699514748210191,
          9.711115659888671,
          8.612503371220562,
          10.085809109330082,
          8.85366542803745,
          11.302204433654575,
          7.9724660159745655,
          9.104979856318357,
          8.612503371220562,
          8.922658299524402,
          8.039157390473237,
          8.160518247477505,
          10.203592144986466,
          10.239959789157341
         ],
         "type": "choropleth"
        }
       ],
       "layout": {
        "template": {
         "data": {
          "bar": [
           {
            "error_x": {
             "color": "#2a3f5f"
            },
            "error_y": {
             "color": "#2a3f5f"
            },
            "marker": {
             "line": {
              "color": "#E5ECF6",
              "width": 0.5
             },
             "pattern": {
              "fillmode": "overlay",
              "size": 10,
              "solidity": 0.2
             }
            },
            "type": "bar"
           }
          ],
          "barpolar": [
           {
            "marker": {
             "line": {
              "color": "#E5ECF6",
              "width": 0.5
             },
             "pattern": {
              "fillmode": "overlay",
              "size": 10,
              "solidity": 0.2
             }
            },
            "type": "barpolar"
           }
          ],
          "carpet": [
           {
            "aaxis": {
             "endlinecolor": "#2a3f5f",
             "gridcolor": "white",
             "linecolor": "white",
             "minorgridcolor": "white",
             "startlinecolor": "#2a3f5f"
            },
            "baxis": {
             "endlinecolor": "#2a3f5f",
             "gridcolor": "white",
             "linecolor": "white",
             "minorgridcolor": "white",
             "startlinecolor": "#2a3f5f"
            },
            "type": "carpet"
           }
          ],
          "choropleth": [
           {
            "colorbar": {
             "outlinewidth": 0,
             "ticks": ""
            },
            "type": "choropleth"
           }
          ],
          "contour": [
           {
            "colorbar": {
             "outlinewidth": 0,
             "ticks": ""
            },
            "colorscale": [
             [
              0.0,
              "#0d0887"
             ],
             [
              0.1111111111111111,
              "#46039f"
             ],
             [
              0.2222222222222222,
              "#7201a8"
             ],
             [
              0.3333333333333333,
              "#9c179e"
             ],
             [
              0.4444444444444444,
              "#bd3786"
             ],
             [
              0.5555555555555556,
              "#d8576b"
             ],
             [
              0.6666666666666666,
              "#ed7953"
             ],
             [
              0.7777777777777778,
              "#fb9f3a"
             ],
             [
              0.8888888888888888,
              "#fdca26"
             ],
             [
              1.0,
              "#f0f921"
             ]
            ],
            "type": "contour"
           }
          ],
          "contourcarpet": [
           {
            "colorbar": {
             "outlinewidth": 0,
             "ticks": ""
            },
            "type": "contourcarpet"
           }
          ],
          "heatmap": [
           {
            "colorbar": {
             "outlinewidth": 0,
             "ticks": ""
            },
            "colorscale": [
             [
              0.0,
              "#0d0887"
             ],
             [
              0.1111111111111111,
              "#46039f"
             ],
             [
              0.2222222222222222,
              "#7201a8"
             ],
             [
              0.3333333333333333,
              "#9c179e"
             ],
             [
              0.4444444444444444,
              "#bd3786"
             ],
             [
              0.5555555555555556,
              "#d8576b"
             ],
             [
              0.6666666666666666,
              "#ed7953"
             ],
             [
              0.7777777777777778,
              "#fb9f3a"
             ],
             [
              0.8888888888888888,
              "#fdca26"
             ],
             [
              1.0,
              "#f0f921"
             ]
            ],
            "type": "heatmap"
           }
          ],
          "heatmapgl": [
           {
            "colorbar": {
             "outlinewidth": 0,
             "ticks": ""
            },
            "colorscale": [
             [
              0.0,
              "#0d0887"
             ],
             [
              0.1111111111111111,
              "#46039f"
             ],
             [
              0.2222222222222222,
              "#7201a8"
             ],
             [
              0.3333333333333333,
              "#9c179e"
             ],
             [
              0.4444444444444444,
              "#bd3786"
             ],
             [
              0.5555555555555556,
              "#d8576b"
             ],
             [
              0.6666666666666666,
              "#ed7953"
             ],
             [
              0.7777777777777778,
              "#fb9f3a"
             ],
             [
              0.8888888888888888,
              "#fdca26"
             ],
             [
              1.0,
              "#f0f921"
             ]
            ],
            "type": "heatmapgl"
           }
          ],
          "histogram": [
           {
            "marker": {
             "pattern": {
              "fillmode": "overlay",
              "size": 10,
              "solidity": 0.2
             }
            },
            "type": "histogram"
           }
          ],
          "histogram2d": [
           {
            "colorbar": {
             "outlinewidth": 0,
             "ticks": ""
            },
            "colorscale": [
             [
              0.0,
              "#0d0887"
             ],
             [
              0.1111111111111111,
              "#46039f"
             ],
             [
              0.2222222222222222,
              "#7201a8"
             ],
             [
              0.3333333333333333,
              "#9c179e"
             ],
             [
              0.4444444444444444,
              "#bd3786"
             ],
             [
              0.5555555555555556,
              "#d8576b"
             ],
             [
              0.6666666666666666,
              "#ed7953"
             ],
             [
              0.7777777777777778,
              "#fb9f3a"
             ],
             [
              0.8888888888888888,
              "#fdca26"
             ],
             [
              1.0,
              "#f0f921"
             ]
            ],
            "type": "histogram2d"
           }
          ],
          "histogram2dcontour": [
           {
            "colorbar": {
             "outlinewidth": 0,
             "ticks": ""
            },
            "colorscale": [
             [
              0.0,
              "#0d0887"
             ],
             [
              0.1111111111111111,
              "#46039f"
             ],
             [
              0.2222222222222222,
              "#7201a8"
             ],
             [
              0.3333333333333333,
              "#9c179e"
             ],
             [
              0.4444444444444444,
              "#bd3786"
             ],
             [
              0.5555555555555556,
              "#d8576b"
             ],
             [
              0.6666666666666666,
              "#ed7953"
             ],
             [
              0.7777777777777778,
              "#fb9f3a"
             ],
             [
              0.8888888888888888,
              "#fdca26"
             ],
             [
              1.0,
              "#f0f921"
             ]
            ],
            "type": "histogram2dcontour"
           }
          ],
          "mesh3d": [
           {
            "colorbar": {
             "outlinewidth": 0,
             "ticks": ""
            },
            "type": "mesh3d"
           }
          ],
          "parcoords": [
           {
            "line": {
             "colorbar": {
              "outlinewidth": 0,
              "ticks": ""
             }
            },
            "type": "parcoords"
           }
          ],
          "pie": [
           {
            "automargin": true,
            "type": "pie"
           }
          ],
          "scatter": [
           {
            "marker": {
             "colorbar": {
              "outlinewidth": 0,
              "ticks": ""
             }
            },
            "type": "scatter"
           }
          ],
          "scatter3d": [
           {
            "line": {
             "colorbar": {
              "outlinewidth": 0,
              "ticks": ""
             }
            },
            "marker": {
             "colorbar": {
              "outlinewidth": 0,
              "ticks": ""
             }
            },
            "type": "scatter3d"
           }
          ],
          "scattercarpet": [
           {
            "marker": {
             "colorbar": {
              "outlinewidth": 0,
              "ticks": ""
             }
            },
            "type": "scattercarpet"
           }
          ],
          "scattergeo": [
           {
            "marker": {
             "colorbar": {
              "outlinewidth": 0,
              "ticks": ""
             }
            },
            "type": "scattergeo"
           }
          ],
          "scattergl": [
           {
            "marker": {
             "colorbar": {
              "outlinewidth": 0,
              "ticks": ""
             }
            },
            "type": "scattergl"
           }
          ],
          "scattermapbox": [
           {
            "marker": {
             "colorbar": {
              "outlinewidth": 0,
              "ticks": ""
             }
            },
            "type": "scattermapbox"
           }
          ],
          "scatterpolar": [
           {
            "marker": {
             "colorbar": {
              "outlinewidth": 0,
              "ticks": ""
             }
            },
            "type": "scatterpolar"
           }
          ],
          "scatterpolargl": [
           {
            "marker": {
             "colorbar": {
              "outlinewidth": 0,
              "ticks": ""
             }
            },
            "type": "scatterpolargl"
           }
          ],
          "scatterternary": [
           {
            "marker": {
             "colorbar": {
              "outlinewidth": 0,
              "ticks": ""
             }
            },
            "type": "scatterternary"
           }
          ],
          "surface": [
           {
            "colorbar": {
             "outlinewidth": 0,
             "ticks": ""
            },
            "colorscale": [
             [
              0.0,
              "#0d0887"
             ],
             [
              0.1111111111111111,
              "#46039f"
             ],
             [
              0.2222222222222222,
              "#7201a8"
             ],
             [
              0.3333333333333333,
              "#9c179e"
             ],
             [
              0.4444444444444444,
              "#bd3786"
             ],
             [
              0.5555555555555556,
              "#d8576b"
             ],
             [
              0.6666666666666666,
              "#ed7953"
             ],
             [
              0.7777777777777778,
              "#fb9f3a"
             ],
             [
              0.8888888888888888,
              "#fdca26"
             ],
             [
              1.0,
              "#f0f921"
             ]
            ],
            "type": "surface"
           }
          ],
          "table": [
           {
            "cells": {
             "fill": {
              "color": "#EBF0F8"
             },
             "line": {
              "color": "white"
             }
            },
            "header": {
             "fill": {
              "color": "#C8D4E3"
             },
             "line": {
              "color": "white"
             }
            },
            "type": "table"
           }
          ]
         },
         "layout": {
          "annotationdefaults": {
           "arrowcolor": "#2a3f5f",
           "arrowhead": 0,
           "arrowwidth": 1
          },
          "autotypenumbers": "strict",
          "coloraxis": {
           "colorbar": {
            "outlinewidth": 0,
            "ticks": ""
           }
          },
          "colorscale": {
           "diverging": [
            [
             0,
             "#8e0152"
            ],
            [
             0.1,
             "#c51b7d"
            ],
            [
             0.2,
             "#de77ae"
            ],
            [
             0.3,
             "#f1b6da"
            ],
            [
             0.4,
             "#fde0ef"
            ],
            [
             0.5,
             "#f7f7f7"
            ],
            [
             0.6,
             "#e6f5d0"
            ],
            [
             0.7,
             "#b8e186"
            ],
            [
             0.8,
             "#7fbc41"
            ],
            [
             0.9,
             "#4d9221"
            ],
            [
             1,
             "#276419"
            ]
           ],
           "sequential": [
            [
             0.0,
             "#0d0887"
            ],
            [
             0.1111111111111111,
             "#46039f"
            ],
            [
             0.2222222222222222,
             "#7201a8"
            ],
            [
             0.3333333333333333,
             "#9c179e"
            ],
            [
             0.4444444444444444,
             "#bd3786"
            ],
            [
             0.5555555555555556,
             "#d8576b"
            ],
            [
             0.6666666666666666,
             "#ed7953"
            ],
            [
             0.7777777777777778,
             "#fb9f3a"
            ],
            [
             0.8888888888888888,
             "#fdca26"
            ],
            [
             1.0,
             "#f0f921"
            ]
           ],
           "sequentialminus": [
            [
             0.0,
             "#0d0887"
            ],
            [
             0.1111111111111111,
             "#46039f"
            ],
            [
             0.2222222222222222,
             "#7201a8"
            ],
            [
             0.3333333333333333,
             "#9c179e"
            ],
            [
             0.4444444444444444,
             "#bd3786"
            ],
            [
             0.5555555555555556,
             "#d8576b"
            ],
            [
             0.6666666666666666,
             "#ed7953"
            ],
            [
             0.7777777777777778,
             "#fb9f3a"
            ],
            [
             0.8888888888888888,
             "#fdca26"
            ],
            [
             1.0,
             "#f0f921"
            ]
           ]
          },
          "colorway": [
           "#636efa",
           "#EF553B",
           "#00cc96",
           "#ab63fa",
           "#FFA15A",
           "#19d3f3",
           "#FF6692",
           "#B6E880",
           "#FF97FF",
           "#FECB52"
          ],
          "font": {
           "color": "#2a3f5f"
          },
          "geo": {
           "bgcolor": "white",
           "lakecolor": "white",
           "landcolor": "#E5ECF6",
           "showlakes": true,
           "showland": true,
           "subunitcolor": "white"
          },
          "hoverlabel": {
           "align": "left"
          },
          "hovermode": "closest",
          "mapbox": {
           "style": "light"
          },
          "paper_bgcolor": "white",
          "plot_bgcolor": "#E5ECF6",
          "polar": {
           "angularaxis": {
            "gridcolor": "white",
            "linecolor": "white",
            "ticks": ""
           },
           "bgcolor": "#E5ECF6",
           "radialaxis": {
            "gridcolor": "white",
            "linecolor": "white",
            "ticks": ""
           }
          },
          "scene": {
           "xaxis": {
            "backgroundcolor": "#E5ECF6",
            "gridcolor": "white",
            "gridwidth": 2,
            "linecolor": "white",
            "showbackground": true,
            "ticks": "",
            "zerolinecolor": "white"
           },
           "yaxis": {
            "backgroundcolor": "#E5ECF6",
            "gridcolor": "white",
            "gridwidth": 2,
            "linecolor": "white",
            "showbackground": true,
            "ticks": "",
            "zerolinecolor": "white"
           },
           "zaxis": {
            "backgroundcolor": "#E5ECF6",
            "gridcolor": "white",
            "gridwidth": 2,
            "linecolor": "white",
            "showbackground": true,
            "ticks": "",
            "zerolinecolor": "white"
           }
          },
          "shapedefaults": {
           "line": {
            "color": "#2a3f5f"
           }
          },
          "ternary": {
           "aaxis": {
            "gridcolor": "white",
            "linecolor": "white",
            "ticks": ""
           },
           "baxis": {
            "gridcolor": "white",
            "linecolor": "white",
            "ticks": ""
           },
           "bgcolor": "#E5ECF6",
           "caxis": {
            "gridcolor": "white",
            "linecolor": "white",
            "ticks": ""
           }
          },
          "title": {
           "x": 0.05
          },
          "xaxis": {
           "automargin": true,
           "gridcolor": "white",
           "linecolor": "white",
           "ticks": "",
           "title": {
            "standoff": 15
           },
           "zerolinecolor": "white",
           "zerolinewidth": 2
          },
          "yaxis": {
           "automargin": true,
           "gridcolor": "white",
           "linecolor": "white",
           "ticks": "",
           "title": {
            "standoff": 15
           },
           "zerolinecolor": "white",
           "zerolinewidth": 2
          }
         }
        },
        "geo": {
         "domain": {
          "x": [
           0.0,
           1.0
          ],
          "y": [
           0.0,
           1.0
          ]
         },
         "center": {},
         "scope": "usa"
        },
        "coloraxis": {
         "colorbar": {
          "title": {
           "text": "Starting Colonies"
          }
         },
         "colorscale": [
          [
           0.0,
           "rgb(75, 41, 145)"
          ],
          [
           0.16666666666666666,
           "rgb(135, 44, 162)"
          ],
          [
           0.3333333333333333,
           "rgb(192, 54, 157)"
          ],
          [
           0.5,
           "rgb(234, 79, 136)"
          ],
          [
           0.6666666666666666,
           "rgb(250, 120, 118)"
          ],
          [
           0.8333333333333334,
           "rgb(246, 169, 122)"
          ],
          [
           1.0,
           "rgb(237, 217, 163)"
          ]
         ]
        },
        "legend": {
         "tracegroupgap": 0
        },
        "margin": {
         "t": 60
        },
        "updatemenus": [
         {
          "buttons": [
           {
            "args": [
             null,
             {
              "frame": {
               "duration": 500,
               "redraw": true
              },
              "mode": "immediate",
              "fromcurrent": true,
              "transition": {
               "duration": 500,
               "easing": "linear"
              }
             }
            ],
            "label": "&#9654;",
            "method": "animate"
           },
           {
            "args": [
             [
              null
             ],
             {
              "frame": {
               "duration": 0,
               "redraw": true
              },
              "mode": "immediate",
              "fromcurrent": true,
              "transition": {
               "duration": 0,
               "easing": "linear"
              }
             }
            ],
            "label": "&#9724;",
            "method": "animate"
           }
          ],
          "direction": "left",
          "pad": {
           "r": 10,
           "t": 70
          },
          "showactive": false,
          "type": "buttons",
          "x": 0.1,
          "xanchor": "right",
          "y": 0,
          "yanchor": "top"
         }
        ],
        "sliders": [
         {
          "active": 0,
          "currentvalue": {
           "prefix": "Date="
          },
          "len": 0.9,
          "pad": {
           "b": 10,
           "t": 60
          },
          "steps": [
           {
            "args": [
             [
              "2015-01-01"
             ],
             {
              "frame": {
               "duration": 0,
               "redraw": true
              },
              "mode": "immediate",
              "fromcurrent": true,
              "transition": {
               "duration": 0,
               "easing": "linear"
              }
             }
            ],
            "label": "2015-01-01",
            "method": "animate"
           },
           {
            "args": [
             [
              "2015-04-01"
             ],
             {
              "frame": {
               "duration": 0,
               "redraw": true
              },
              "mode": "immediate",
              "fromcurrent": true,
              "transition": {
               "duration": 0,
               "easing": "linear"
              }
             }
            ],
            "label": "2015-04-01",
            "method": "animate"
           },
           {
            "args": [
             [
              "2015-07-01"
             ],
             {
              "frame": {
               "duration": 0,
               "redraw": true
              },
              "mode": "immediate",
              "fromcurrent": true,
              "transition": {
               "duration": 0,
               "easing": "linear"
              }
             }
            ],
            "label": "2015-07-01",
            "method": "animate"
           },
           {
            "args": [
             [
              "2015-10-01"
             ],
             {
              "frame": {
               "duration": 0,
               "redraw": true
              },
              "mode": "immediate",
              "fromcurrent": true,
              "transition": {
               "duration": 0,
               "easing": "linear"
              }
             }
            ],
            "label": "2015-10-01",
            "method": "animate"
           },
           {
            "args": [
             [
              "2016-01-01"
             ],
             {
              "frame": {
               "duration": 0,
               "redraw": true
              },
              "mode": "immediate",
              "fromcurrent": true,
              "transition": {
               "duration": 0,
               "easing": "linear"
              }
             }
            ],
            "label": "2016-01-01",
            "method": "animate"
           },
           {
            "args": [
             [
              "2016-04-01"
             ],
             {
              "frame": {
               "duration": 0,
               "redraw": true
              },
              "mode": "immediate",
              "fromcurrent": true,
              "transition": {
               "duration": 0,
               "easing": "linear"
              }
             }
            ],
            "label": "2016-04-01",
            "method": "animate"
           },
           {
            "args": [
             [
              "2016-07-01"
             ],
             {
              "frame": {
               "duration": 0,
               "redraw": true
              },
              "mode": "immediate",
              "fromcurrent": true,
              "transition": {
               "duration": 0,
               "easing": "linear"
              }
             }
            ],
            "label": "2016-07-01",
            "method": "animate"
           },
           {
            "args": [
             [
              "2016-10-01"
             ],
             {
              "frame": {
               "duration": 0,
               "redraw": true
              },
              "mode": "immediate",
              "fromcurrent": true,
              "transition": {
               "duration": 0,
               "easing": "linear"
              }
             }
            ],
            "label": "2016-10-01",
            "method": "animate"
           },
           {
            "args": [
             [
              "2017-01-01"
             ],
             {
              "frame": {
               "duration": 0,
               "redraw": true
              },
              "mode": "immediate",
              "fromcurrent": true,
              "transition": {
               "duration": 0,
               "easing": "linear"
              }
             }
            ],
            "label": "2017-01-01",
            "method": "animate"
           },
           {
            "args": [
             [
              "2017-04-01"
             ],
             {
              "frame": {
               "duration": 0,
               "redraw": true
              },
              "mode": "immediate",
              "fromcurrent": true,
              "transition": {
               "duration": 0,
               "easing": "linear"
              }
             }
            ],
            "label": "2017-04-01",
            "method": "animate"
           },
           {
            "args": [
             [
              "2017-07-01"
             ],
             {
              "frame": {
               "duration": 0,
               "redraw": true
              },
              "mode": "immediate",
              "fromcurrent": true,
              "transition": {
               "duration": 0,
               "easing": "linear"
              }
             }
            ],
            "label": "2017-07-01",
            "method": "animate"
           },
           {
            "args": [
             [
              "2017-10-01"
             ],
             {
              "frame": {
               "duration": 0,
               "redraw": true
              },
              "mode": "immediate",
              "fromcurrent": true,
              "transition": {
               "duration": 0,
               "easing": "linear"
              }
             }
            ],
            "label": "2017-10-01",
            "method": "animate"
           },
           {
            "args": [
             [
              "2018-01-01"
             ],
             {
              "frame": {
               "duration": 0,
               "redraw": true
              },
              "mode": "immediate",
              "fromcurrent": true,
              "transition": {
               "duration": 0,
               "easing": "linear"
              }
             }
            ],
            "label": "2018-01-01",
            "method": "animate"
           },
           {
            "args": [
             [
              "2018-04-01"
             ],
             {
              "frame": {
               "duration": 0,
               "redraw": true
              },
              "mode": "immediate",
              "fromcurrent": true,
              "transition": {
               "duration": 0,
               "easing": "linear"
              }
             }
            ],
            "label": "2018-04-01",
            "method": "animate"
           },
           {
            "args": [
             [
              "2018-07-01"
             ],
             {
              "frame": {
               "duration": 0,
               "redraw": true
              },
              "mode": "immediate",
              "fromcurrent": true,
              "transition": {
               "duration": 0,
               "easing": "linear"
              }
             }
            ],
            "label": "2018-07-01",
            "method": "animate"
           },
           {
            "args": [
             [
              "2018-10-01"
             ],
             {
              "frame": {
               "duration": 0,
               "redraw": true
              },
              "mode": "immediate",
              "fromcurrent": true,
              "transition": {
               "duration": 0,
               "easing": "linear"
              }
             }
            ],
            "label": "2018-10-01",
            "method": "animate"
           },
           {
            "args": [
             [
              "2019-01-01"
             ],
             {
              "frame": {
               "duration": 0,
               "redraw": true
              },
              "mode": "immediate",
              "fromcurrent": true,
              "transition": {
               "duration": 0,
               "easing": "linear"
              }
             }
            ],
            "label": "2019-01-01",
            "method": "animate"
           },
           {
            "args": [
             [
              "2019-04-01"
             ],
             {
              "frame": {
               "duration": 0,
               "redraw": true
              },
              "mode": "immediate",
              "fromcurrent": true,
              "transition": {
               "duration": 0,
               "easing": "linear"
              }
             }
            ],
            "label": "2019-04-01",
            "method": "animate"
           },
           {
            "args": [
             [
              "2019-07-01"
             ],
             {
              "frame": {
               "duration": 0,
               "redraw": true
              },
              "mode": "immediate",
              "fromcurrent": true,
              "transition": {
               "duration": 0,
               "easing": "linear"
              }
             }
            ],
            "label": "2019-07-01",
            "method": "animate"
           },
           {
            "args": [
             [
              "2019-10-01"
             ],
             {
              "frame": {
               "duration": 0,
               "redraw": true
              },
              "mode": "immediate",
              "fromcurrent": true,
              "transition": {
               "duration": 0,
               "easing": "linear"
              }
             }
            ],
            "label": "2019-10-01",
            "method": "animate"
           },
           {
            "args": [
             [
              "2020-01-01"
             ],
             {
              "frame": {
               "duration": 0,
               "redraw": true
              },
              "mode": "immediate",
              "fromcurrent": true,
              "transition": {
               "duration": 0,
               "easing": "linear"
              }
             }
            ],
            "label": "2020-01-01",
            "method": "animate"
           },
           {
            "args": [
             [
              "2020-04-01"
             ],
             {
              "frame": {
               "duration": 0,
               "redraw": true
              },
              "mode": "immediate",
              "fromcurrent": true,
              "transition": {
               "duration": 0,
               "easing": "linear"
              }
             }
            ],
            "label": "2020-04-01",
            "method": "animate"
           },
           {
            "args": [
             [
              "2020-07-01"
             ],
             {
              "frame": {
               "duration": 0,
               "redraw": true
              },
              "mode": "immediate",
              "fromcurrent": true,
              "transition": {
               "duration": 0,
               "easing": "linear"
              }
             }
            ],
            "label": "2020-07-01",
            "method": "animate"
           },
           {
            "args": [
             [
              "2020-10-01"
             ],
             {
              "frame": {
               "duration": 0,
               "redraw": true
              },
              "mode": "immediate",
              "fromcurrent": true,
              "transition": {
               "duration": 0,
               "easing": "linear"
              }
             }
            ],
            "label": "2020-10-01",
            "method": "animate"
           },
           {
            "args": [
             [
              "2021-01-01"
             ],
             {
              "frame": {
               "duration": 0,
               "redraw": true
              },
              "mode": "immediate",
              "fromcurrent": true,
              "transition": {
               "duration": 0,
               "easing": "linear"
              }
             }
            ],
            "label": "2021-01-01",
            "method": "animate"
           }
          ],
          "x": 0.1,
          "xanchor": "left",
          "y": 0,
          "yanchor": "top"
         }
        ],
        "title": {
         "font": {
          "family": "Times New Roman",
          "size": 22,
          "color": "black"
         },
         "text": "Bee starting colonies in the U.S. states over time",
         "x": 0.45
        }
       },
       "frames": [
        {
         "data": [
          {
           "coloraxis": "coloraxis",
           "geo": "geo",
           "hovertemplate": "Date=2015-01-01<br>State=%{location}<br>Starting Colonies=%{z}<extra></extra>",
           "ids": [
            10.819778284410283,
            8.85366542803745,
            9.711115659888671,
            9.159047077588632,
            10.839580911706463,
            9.546812608597396,
            9.159047077588632,
            10.4341158035983,
            8.922658299524402,
            14.180153671552183,
            9.259130536145614,
            9.433483923290392,
            10.46310334047155,
            8.699514748210191,
            8.45531778769815,
            9.392661928770137,
            9.798127036878302,
            8.268731832117737,
            9.047821442478408,
            8.699514748210191,
            9.472704636443673,
            11.251560700835821,
            10.858998997563564,
            8.433811582477187,
            12.160028707028767,
            8.987196820661973,
            9.210340371976184,
            11.55214617812351,
            9.740968623038354,
            10.950806546816688,
            12.628067055589549,
            8.699514748210191,
            9.711115659888671,
            8.612503371220562,
            10.085809109330082,
            8.85366542803745,
            11.302204433654575,
            7.9724660159745655,
            9.104979856318357,
            8.612503371220562,
            8.922658299524402,
            8.039157390473237,
            8.160518247477505,
            10.203592144986466,
            10.239959789157341
           ],
           "locationmode": "USA-states",
           "locations": [
            "SD",
            "NM",
            "WI",
            "OK",
            "LA",
            "PA",
            "TN",
            "MS",
            "KY",
            "CA",
            "HI",
            "IA",
            "AZ",
            "NJ",
            "WV",
            "MO",
            "OH",
            "CT",
            "MT",
            "UT",
            "AR",
            "OR",
            "WA",
            "KS",
            "TX",
            "VA",
            "NE",
            "GA",
            "SC",
            "ND",
            "FL",
            "IL",
            "MI",
            "VT",
            "NC",
            "AL",
            "ID",
            "MA",
            "IN",
            "WY",
            "MD",
            "ME",
            "CO",
            "NY",
            "MN"
           ],
           "name": "",
           "z": [
            10.819778284410283,
            8.85366542803745,
            9.711115659888671,
            9.159047077588632,
            10.839580911706463,
            9.546812608597396,
            9.159047077588632,
            10.4341158035983,
            8.922658299524402,
            14.180153671552183,
            9.259130536145614,
            9.433483923290392,
            10.46310334047155,
            8.699514748210191,
            8.45531778769815,
            9.392661928770137,
            9.798127036878302,
            8.268731832117737,
            9.047821442478408,
            8.699514748210191,
            9.472704636443673,
            11.251560700835821,
            10.858998997563564,
            8.433811582477187,
            12.160028707028767,
            8.987196820661973,
            9.210340371976184,
            11.55214617812351,
            9.740968623038354,
            10.950806546816688,
            12.628067055589549,
            8.699514748210191,
            9.711115659888671,
            8.612503371220562,
            10.085809109330082,
            8.85366542803745,
            11.302204433654575,
            7.9724660159745655,
            9.104979856318357,
            8.612503371220562,
            8.922658299524402,
            8.039157390473237,
            8.160518247477505,
            10.203592144986466,
            10.239959789157341
           ],
           "type": "choropleth"
          }
         ],
         "name": "2015-01-01"
        },
        {
         "data": [
          {
           "coloraxis": "coloraxis",
           "geo": "geo",
           "hovertemplate": "Date=2015-04-01<br>State=%{location}<br>Starting Colonies=%{z}<extra></extra>",
           "ids": [
            9.159047077588632,
            10.275051108968611,
            11.56171562913966,
            9.433483923290392,
            9.878169744551839,
            9.392661928770137,
            12.628067055589549,
            8.699514748210191,
            9.047821442478408,
            8.922658299524402,
            11.03488966402723,
            10.085809109330082,
            13.854731271117556,
            11.703545824578878,
            8.987196820661973,
            9.769956159911606,
            8.779557455883728,
            10.491274217438248,
            10.126631103850338,
            8.987196820661973,
            8.922658299524402,
            9.769956159911606,
            8.318742252692399,
            10.968198289528557,
            12.254862809699606,
            11.512925464970229,
            9.392661928770137,
            8.433811582477187,
            11.170435156023453,
            11.643953727376633,
            10.126631103850338,
            8.699514748210191,
            10.691944912900398,
            8.922658299524402,
            9.648595302907339,
            10.085809109330082,
            8.006367567650246,
            8.922658299524402,
            9.51044496442652,
            10.404262840448617,
            9.51044496442652,
            8.45531778769815,
            9.350102314351341,
            11.396391648714276,
            11.314474526246391
           ],
           "locationmode": "USA-states",
           "locations": [
            "IL",
            "NE",
            "WA",
            "IA",
            "NC",
            "CO",
            "TX",
            "VT",
            "NJ",
            "VA",
            "ID",
            "NY",
            "CA",
            "ND",
            "IN",
            "OH",
            "NM",
            "MT",
            "OK",
            "MD",
            "AL",
            "SC",
            "MA",
            "MI",
            "FL",
            "SD",
            "WY",
            "ME",
            "MN",
            "GA",
            "WI",
            "KS",
            "LA",
            "TN",
            "PA",
            "UT",
            "CT",
            "KY",
            "HI",
            "AZ",
            "AR",
            "WV",
            "MO",
            "MS",
            "OR"
           ],
           "name": "",
           "z": [
            9.159047077588632,
            10.275051108968611,
            11.56171562913966,
            9.433483923290392,
            9.878169744551839,
            9.392661928770137,
            12.628067055589549,
            8.699514748210191,
            9.047821442478408,
            8.922658299524402,
            11.03488966402723,
            10.085809109330082,
            13.854731271117556,
            11.703545824578878,
            8.987196820661973,
            9.769956159911606,
            8.779557455883728,
            10.491274217438248,
            10.126631103850338,
            8.987196820661973,
            8.922658299524402,
            9.769956159911606,
            8.318742252692399,
            10.968198289528557,
            12.254862809699606,
            11.512925464970229,
            9.392661928770137,
            8.433811582477187,
            11.170435156023453,
            11.643953727376633,
            10.126631103850338,
            8.699514748210191,
            10.691944912900398,
            8.922658299524402,
            9.648595302907339,
            10.085809109330082,
            8.006367567650246,
            8.922658299524402,
            9.51044496442652,
            10.404262840448617,
            9.51044496442652,
            8.45531778769815,
            9.350102314351341,
            11.396391648714276,
            11.314474526246391
           ],
           "type": "choropleth"
          }
         ],
         "name": "2015-04-01"
        },
        {
         "data": [
          {
           "coloraxis": "coloraxis",
           "geo": "geo",
           "hovertemplate": "Date=2015-07-01<br>State=%{location}<br>Starting Colonies=%{z}<extra></extra>",
           "ids": [
            8.216088098632316,
            9.392661928770137,
            9.878169744551839,
            11.289781913656018,
            11.589886506106357,
            13.038981768465277,
            9.581903928408666,
            11.238488619268468,
            12.594730635321957,
            10.275051108968611,
            10.126631103850338,
            11.127262984158243,
            9.210340371976184,
            10.043249494911286,
            12.007621706806335,
            9.047821442478408,
            10.341742483467284,
            9.104979856318357,
            11.84939770159144,
            9.546812608597396,
            9.546812608597396,
            8.85366542803745,
            9.210340371976184,
            10.043249494911286,
            11.33857207782545,
            10.596634733096073,
            11.002099841204238,
            11.79810440720389,
            11.396391648714276,
            10.275051108968611,
            8.699514748210191,
            8.922658299524402,
            8.85366542803745,
            10.819778284410283,
            10.275051108968611,
            10.043249494911286,
            13.500799813124575,
            8.699514748210191,
            8.779557455883728,
            9.825526011066415,
            10.691944912900398,
            11.112447898373103,
            8.987196820661973,
            10.085809109330082,
            9.615805480084347
           ],
           "locationmode": "USA-states",
           "locations": [
            "CT",
            "SC",
            "OK",
            "ID",
            "GA",
            "ND",
            "HI",
            "TX",
            "SD",
            "CO",
            "PA",
            "OR",
            "TN",
            "OH",
            "FL",
            "AL",
            "UT",
            "KS",
            "MT",
            "IL",
            "MO",
            "WV",
            "KY",
            "MS",
            "WA",
            "AZ",
            "WI",
            "MN",
            "MI",
            "WY",
            "ME",
            "MA",
            "MD",
            "LA",
            "IA",
            "AR",
            "CA",
            "VT",
            "NM",
            "NJ",
            "NY",
            "NE",
            "VA",
            "NC",
            "IN"
           ],
           "name": "",
           "z": [
            8.216088098632316,
            9.392661928770137,
            9.878169744551839,
            11.289781913656018,
            11.589886506106357,
            13.038981768465277,
            9.581903928408666,
            11.238488619268468,
            12.594730635321957,
            10.275051108968611,
            10.126631103850338,
            11.127262984158243,
            9.210340371976184,
            10.043249494911286,
            12.007621706806335,
            9.047821442478408,
            10.341742483467284,
            9.104979856318357,
            11.84939770159144,
            9.546812608597396,
            9.546812608597396,
            8.85366542803745,
            9.210340371976184,
            10.043249494911286,
            11.33857207782545,
            10.596634733096073,
            11.002099841204238,
            11.79810440720389,
            11.396391648714276,
            10.275051108968611,
            8.699514748210191,
            8.922658299524402,
            8.85366542803745,
            10.819778284410283,
            10.275051108968611,
            10.043249494911286,
            13.500799813124575,
            8.699514748210191,
            8.779557455883728,
            9.825526011066415,
            10.691944912900398,
            11.112447898373103,
            8.987196820661973,
            10.085809109330082,
            9.615805480084347
           ],
           "type": "choropleth"
          }
         ],
         "name": "2015-07-01"
        },
        {
         "data": [
          {
           "coloraxis": "coloraxis",
           "geo": "geo",
           "hovertemplate": "Date=2015-10-01<br>State=%{location}<br>Starting Colonies=%{z}<extra></extra>",
           "ids": [
            11.703545824578878,
            11.112447898373103,
            8.411832675758411,
            9.998797732340453,
            11.608235644774552,
            8.922658299524402,
            11.55214617812351,
            10.714417768752456,
            9.546812608597396,
            8.45531778769815,
            10.46310334047155,
            9.998797732340453,
            10.915088464214607,
            10.341742483467284,
            8.699514748210191,
            9.047821442478408,
            9.210340371976184,
            9.472704636443673,
            9.51044496442652,
            8.987196820661973,
            11.661345470088502,
            9.047821442478408,
            12.345834587905333,
            11.184421397998193,
            9.852194258148577,
            9.350102314351341,
            11.512925464970229,
            8.517193191416238,
            12.301382825334498,
            10.239959789157341,
            10.085809109330082,
            12.175613438045465,
            8.779557455883728,
            10.043249494911286,
            11.37366339763672,
            10.491274217438248,
            8.070906088787819,
            9.047821442478408,
            8.922658299524402,
            10.085809109330082,
            8.987196820661973,
            11.736069016284437,
            8.85366542803745,
            10.778956289890028,
            13.527828485512494
           ],
           "locationmode": "USA-states",
           "locations": [
            "ID",
            "MI",
            "MA",
            "NC",
            "GA",
            "MD",
            "MN",
            "NY",
            "IL",
            "ME",
            "IA",
            "PA",
            "LA",
            "MS",
            "NM",
            "KY",
            "SC",
            "HI",
            "MO",
            "NJ",
            "MT",
            "KS",
            "ND",
            "NE",
            "OH",
            "IN",
            "OR",
            "OK",
            "FL",
            "UT",
            "WY",
            "SD",
            "VT",
            "AR",
            "WA",
            "AZ",
            "CT",
            "TN",
            "VA",
            "CO",
            "AL",
            "TX",
            "WV",
            "WI",
            "CA"
           ],
           "name": "",
           "z": [
            11.703545824578878,
            11.112447898373103,
            8.411832675758411,
            9.998797732340453,
            11.608235644774552,
            8.922658299524402,
            11.55214617812351,
            10.714417768752456,
            9.546812608597396,
            8.45531778769815,
            10.46310334047155,
            9.998797732340453,
            10.915088464214607,
            10.341742483467284,
            8.699514748210191,
            9.047821442478408,
            9.210340371976184,
            9.472704636443673,
            9.51044496442652,
            8.987196820661973,
            11.661345470088502,
            9.047821442478408,
            12.345834587905333,
            11.184421397998193,
            9.852194258148577,
            9.350102314351341,
            11.512925464970229,
            8.517193191416238,
            12.301382825334498,
            10.239959789157341,
            10.085809109330082,
            12.175613438045465,
            8.779557455883728,
            10.043249494911286,
            11.37366339763672,
            10.491274217438248,
            8.070906088787819,
            9.047821442478408,
            8.922658299524402,
            10.085809109330082,
            8.987196820661973,
            11.736069016284437,
            8.85366542803745,
            10.778956289890028,
            13.527828485512494
           ],
           "type": "choropleth"
          }
         ],
         "name": "2015-10-01"
        },
        {
         "data": [
          {
           "coloraxis": "coloraxis",
           "geo": "geo",
           "hovertemplate": "Date=2016-01-01<br>State=%{location}<br>Starting Colonies=%{z}<extra></extra>",
           "ids": [
            8.779557455883728,
            13.937728190688523,
            8.779557455883728,
            7.90100705199242,
            7.696212639346407,
            8.779557455883728,
            9.51044496442652,
            7.90100705199242,
            10.126631103850338,
            10.341742483467284,
            9.711115659888671,
            9.210340371976184,
            9.392661928770137,
            9.825526011066415,
            9.047821442478408,
            9.95227771670556,
            9.903487552536127,
            10.491274217438248,
            10.896739325546411,
            8.517193191416238,
            12.388394202324129,
            8.612503371220562,
            11.396391648714276,
            11.418614785498987,
            8.699514748210191,
            8.517193191416238,
            12.524526376648708,
            8.922658299524402,
            8.922658299524402,
            11.251560700835821,
            9.711115659888671,
            9.472704636443673,
            10.757902880692196,
            9.711115659888671,
            10.203592144986466,
            9.104979856318357,
            9.305650551780507,
            8.006367567650246,
            9.433483923290392,
            8.779557455883728,
            9.615805480084347,
            8.699514748210191,
            11.127262984158243,
            11.512925464970229,
            10.308952660644293
           ],
           "locationmode": "USA-states",
           "locations": [
            "IN",
            "CA",
            "KY",
            "WY",
            "ME",
            "WV",
            "OK",
            "CT",
            "MI",
            "NY",
            "OH",
            "MO",
            "UT",
            "NC",
            "IL",
            "MS",
            "WI",
            "MN",
            "LA",
            "CO",
            "TX",
            "VT",
            "ND",
            "ID",
            "NM",
            "KS",
            "FL",
            "AL",
            "MD",
            "WA",
            "SC",
            "IA",
            "SD",
            "MT",
            "AR",
            "TN",
            "NE",
            "MA",
            "PA",
            "VA",
            "HI",
            "NJ",
            "OR",
            "GA",
            "AZ"
           ],
           "name": "",
           "z": [
            8.779557455883728,
            13.937728190688523,
            8.779557455883728,
            7.90100705199242,
            7.696212639346407,
            8.779557455883728,
            9.51044496442652,
            7.90100705199242,
            10.126631103850338,
            10.341742483467284,
            9.711115659888671,
            9.210340371976184,
            9.392661928770137,
            9.825526011066415,
            9.047821442478408,
            9.95227771670556,
            9.903487552536127,
            10.491274217438248,
            10.896739325546411,
            8.517193191416238,
            12.388394202324129,
            8.612503371220562,
            11.396391648714276,
            11.418614785498987,
            8.699514748210191,
            8.517193191416238,
            12.524526376648708,
            8.922658299524402,
            8.922658299524402,
            11.251560700835821,
            9.711115659888671,
            9.472704636443673,
            10.757902880692196,
            9.711115659888671,
            10.203592144986466,
            9.104979856318357,
            9.305650551780507,
            8.006367567650246,
            9.433483923290392,
            8.779557455883728,
            9.615805480084347,
            8.699514748210191,
            11.127262984158243,
            11.512925464970229,
            10.308952660644293
           ],
           "type": "choropleth"
          }
         ],
         "name": "2016-01-01"
        },
        {
         "data": [
          {
           "coloraxis": "coloraxis",
           "geo": "geo",
           "hovertemplate": "Date=2016-04-01<br>State=%{location}<br>Starting Colonies=%{z}<extra></extra>",
           "ids": [
            9.998797732340453,
            11.418614785498987,
            13.919870573288517,
            8.85366542803745,
            9.392661928770137,
            8.45531778769815,
            8.34283980427146,
            9.259130536145614,
            8.612503371220562,
            11.03488966402723,
            9.104979856318357,
            10.043249494911286,
            8.366370301681654,
            11.350406535472453,
            9.581903928408666,
            10.341742483467284,
            8.699514748210191,
            10.085809109330082,
            9.878169744551839,
            8.517193191416238,
            8.779557455883728,
            10.203592144986466,
            8.1886891244442,
            11.251560700835821,
            11.589886506106357,
            8.987196820661973,
            8.779557455883728,
            9.305650551780507,
            9.392661928770137,
            10.596634733096073,
            9.159047077588632,
            8.34283980427146,
            9.546812608597396,
            10.839580911706463,
            9.825526011066415,
            11.608235644774552,
            12.736700896592344,
            8.987196820661973,
            9.51044496442652,
            7.824046010856292,
            12.388394202324129,
            11.002099841204238,
            9.433483923290392,
            8.987196820661973,
            10.858998997563564
           ],
           "locationmode": "USA-states",
           "locations": [
            "AZ",
            "WA",
            "CA",
            "WV",
            "MO",
            "KS",
            "NJ",
            "IA",
            "KY",
            "MT",
            "IL",
            "NC",
            "IN",
            "MS",
            "UT",
            "NY",
            "VA",
            "AR",
            "NE",
            "VT",
            "NM",
            "MN",
            "ME",
            "OR",
            "GA",
            "AL",
            "WY",
            "PA",
            "OK",
            "MI",
            "CO",
            "MA",
            "OH",
            "SD",
            "WI",
            "ND",
            "TX",
            "TN",
            "HI",
            "CT",
            "FL",
            "ID",
            "SC",
            "MD",
            "LA"
           ],
           "name": "",
           "z": [
            9.998797732340453,
            11.418614785498987,
            13.919870573288517,
            8.85366542803745,
            9.392661928770137,
            8.45531778769815,
            8.34283980427146,
            9.259130536145614,
            8.612503371220562,
            11.03488966402723,
            9.104979856318357,
            10.043249494911286,
            8.366370301681654,
            11.350406535472453,
            9.581903928408666,
            10.341742483467284,
            8.699514748210191,
            10.085809109330082,
            9.878169744551839,
            8.517193191416238,
            8.779557455883728,
            10.203592144986466,
            8.1886891244442,
            11.251560700835821,
            11.589886506106357,
            8.987196820661973,
            8.779557455883728,
            9.305650551780507,
            9.392661928770137,
            10.596634733096073,
            9.159047077588632,
            8.34283980427146,
            9.546812608597396,
            10.839580911706463,
            9.825526011066415,
            11.608235644774552,
            12.736700896592344,
            8.987196820661973,
            9.51044496442652,
            7.824046010856292,
            12.388394202324129,
            11.002099841204238,
            9.433483923290392,
            8.987196820661973,
            10.858998997563564
           ],
           "type": "choropleth"
          }
         ],
         "name": "2016-04-01"
        },
        {
         "data": [
          {
           "coloraxis": "coloraxis",
           "geo": "geo",
           "hovertemplate": "Date=2016-07-01<br>State=%{location}<br>Starting Colonies=%{z}<extra></extra>",
           "ids": [
            10.373491181781864,
            13.514405465180353,
            9.798127036878302,
            11.532728092266408,
            9.51044496442652,
            11.580584113444043,
            11.76756768334381,
            11.898187865760873,
            10.373491181781864,
            10.714417768752456,
            8.987196820661973,
            8.779557455883728,
            12.089538829274222,
            9.852194258148577,
            10.819778284410283,
            8.85366542803745,
            8.987196820661973,
            9.472704636443673,
            12.206072645530174,
            9.159047077588632,
            8.987196820661973,
            8.039157390473237,
            8.922658299524402,
            13.142166004700508,
            9.305650551780507,
            11.790557201568507,
            10.308952660644293,
            11.170435156023453,
            9.95227771670556,
            10.126631103850338,
            11.589886506106357,
            11.27720313144916,
            10.404262840448617,
            10.203592144986466,
            9.51044496442652,
            9.852194258148577,
            10.933106969717286,
            10.950806546816688,
            8.216088098632316,
            9.159047077588632,
            8.612503371220562,
            8.922658299524402,
            8.779557455883728,
            9.210340371976184,
            10.839580911706463
           ],
           "locationmode": "USA-states",
           "locations": [
            "WY",
            "CA",
            "NJ",
            "GA",
            "HI",
            "OR",
            "TX",
            "MT",
            "AR",
            "NE",
            "AL",
            "NM",
            "SD",
            "PA",
            "IA",
            "MD",
            "KS",
            "SC",
            "FL",
            "MA",
            "VA",
            "CT",
            "WV",
            "ND",
            "IL",
            "MN",
            "AZ",
            "WI",
            "OH",
            "NC",
            "MI",
            "ID",
            "CO",
            "UT",
            "MO",
            "MS",
            "NY",
            "WA",
            "OK",
            "IN",
            "ME",
            "KY",
            "VT",
            "TN",
            "LA"
           ],
           "name": "",
           "z": [
            10.373491181781864,
            13.514405465180353,
            9.798127036878302,
            11.532728092266408,
            9.51044496442652,
            11.580584113444043,
            11.76756768334381,
            11.898187865760873,
            10.373491181781864,
            10.714417768752456,
            8.987196820661973,
            8.779557455883728,
            12.089538829274222,
            9.852194258148577,
            10.819778284410283,
            8.85366542803745,
            8.987196820661973,
            9.472704636443673,
            12.206072645530174,
            9.159047077588632,
            8.987196820661973,
            8.039157390473237,
            8.922658299524402,
            13.142166004700508,
            9.305650551780507,
            11.790557201568507,
            10.308952660644293,
            11.170435156023453,
            9.95227771670556,
            10.126631103850338,
            11.589886506106357,
            11.27720313144916,
            10.404262840448617,
            10.203592144986466,
            9.51044496442652,
            9.852194258148577,
            10.933106969717286,
            10.950806546816688,
            8.216088098632316,
            9.159047077588632,
            8.612503371220562,
            8.922658299524402,
            8.779557455883728,
            9.210340371976184,
            10.839580911706463
           ],
           "type": "choropleth"
          }
         ],
         "name": "2016-07-01"
        },
        {
         "data": [
          {
           "coloraxis": "coloraxis",
           "geo": "geo",
           "hovertemplate": "Date=2016-10-01<br>State=%{location}<br>Starting Colonies=%{z}<extra></extra>",
           "ids": [
            11.728036844587175,
            11.635143097694478,
            8.160518247477505,
            8.85366542803745,
            8.987196820661973,
            9.104979856318357,
            11.522875795823397,
            10.275051108968611,
            10.126631103850338,
            11.082142548877775,
            8.922658299524402,
            8.922658299524402,
            10.778956289890028,
            9.769956159911606,
            10.985292722887856,
            8.517193191416238,
            12.449018824140563,
            8.922658299524402,
            9.878169744551839,
            9.392661928770137,
            9.104979856318357,
            11.703545824578878,
            8.922658299524402,
            8.779557455883728,
            9.392661928770137,
            10.778956289890028,
            11.820410164718188,
            12.86099861326992,
            9.104979856318357,
            10.308952660644293,
            9.95227771670556,
            11.891361900690473,
            10.308952660644293,
            11.49272275765271,
            8.85366542803745,
            10.126631103850338,
            10.239959789157341,
            13.554145793829866,
            10.51867319162636,
            8.039157390473237,
            8.85366542803745,
            8.039157390473237,
            10.896739325546411,
            11.472103470449973,
            9.51044496442652
           ],
           "locationmode": "USA-states",
           "locations": [
            "MT",
            "MN",
            "ME",
            "AL",
            "MA",
            "MO",
            "MI",
            "AZ",
            "WY",
            "WA",
            "WV",
            "KY",
            "LA",
            "MS",
            "WI",
            "KS",
            "FL",
            "MD",
            "OH",
            "SC",
            "TN",
            "ID",
            "IN",
            "VT",
            "NJ",
            "NY",
            "TX",
            "ND",
            "IL",
            "UT",
            "PA",
            "SD",
            "CO",
            "OR",
            "NM",
            "NC",
            "AR",
            "CA",
            "NE",
            "CT",
            "VA",
            "OK",
            "IA",
            "GA",
            "HI"
           ],
           "name": "",
           "z": [
            11.728036844587175,
            11.635143097694478,
            8.160518247477505,
            8.85366542803745,
            8.987196820661973,
            9.104979856318357,
            11.522875795823397,
            10.275051108968611,
            10.126631103850338,
            11.082142548877775,
            8.922658299524402,
            8.922658299524402,
            10.778956289890028,
            9.769956159911606,
            10.985292722887856,
            8.517193191416238,
            12.449018824140563,
            8.922658299524402,
            9.878169744551839,
            9.392661928770137,
            9.104979856318357,
            11.703545824578878,
            8.922658299524402,
            8.779557455883728,
            9.392661928770137,
            10.778956289890028,
            11.820410164718188,
            12.86099861326992,
            9.104979856318357,
            10.308952660644293,
            9.95227771670556,
            11.891361900690473,
            10.308952660644293,
            11.49272275765271,
            8.85366542803745,
            10.126631103850338,
            10.239959789157341,
            13.554145793829866,
            10.51867319162636,
            8.039157390473237,
            8.85366542803745,
            8.039157390473237,
            10.896739325546411,
            11.472103470449973,
            9.51044496442652
           ],
           "type": "choropleth"
          }
         ],
         "name": "2016-10-01"
        },
        {
         "data": [
          {
           "coloraxis": "coloraxis",
           "geo": "geo",
           "hovertemplate": "Date=2017-01-01<br>State=%{location}<br>Starting Colonies=%{z}<extra></extra>",
           "ids": [
            8.612503371220562,
            11.719939634354555,
            9.95227771670556,
            8.922658299524402,
            8.039157390473237,
            11.461632170582678,
            10.691944912900398,
            9.648595302907339,
            10.275051108968611,
            9.740968623038354,
            11.170435156023453,
            9.047821442478408,
            7.90100705199242,
            9.680344001221918,
            9.472704636443673,
            9.104979856318357,
            10.165851817003619,
            10.819778284410283,
            9.305650551780507,
            12.524526376648708,
            9.210340371976184,
            8.242756345714477,
            9.825526011066415,
            9.740968623038354,
            8.987196820661973,
            9.798127036878302,
            8.699514748210191,
            11.127262984158243,
            8.779557455883728,
            13.972514306773938,
            8.85366542803745,
            12.468436909997665,
            10.203592144986466,
            8.612503371220562,
            8.101677747454572,
            8.85366542803745,
            9.740968623038354,
            9.159047077588632,
            8.779557455883728,
            10.341742483467284,
            10.373491181781864,
            8.779557455883728,
            8.85366542803745,
            10.341742483467284,
            9.680344001221918
           ],
           "locationmode": "USA-states",
           "locations": [
            "WV",
            "GA",
            "SD",
            "NE",
            "CT",
            "ID",
            "LA",
            "OH",
            "MI",
            "WI",
            "OR",
            "TN",
            "ME",
            "NC",
            "HI",
            "MD",
            "OK",
            "ND",
            "IL",
            "TX",
            "IA",
            "KS",
            "MT",
            "SC",
            "VA",
            "AR",
            "NJ",
            "WA",
            "WY",
            "CA",
            "MO",
            "FL",
            "MN",
            "NM",
            "MA",
            "IN",
            "PA",
            "CO",
            "KY",
            "MS",
            "NY",
            "VT",
            "AL",
            "AZ",
            "UT"
           ],
           "name": "",
           "z": [
            8.612503371220562,
            11.719939634354555,
            9.95227771670556,
            8.922658299524402,
            8.039157390473237,
            11.461632170582678,
            10.691944912900398,
            9.648595302907339,
            10.275051108968611,
            9.740968623038354,
            11.170435156023453,
            9.047821442478408,
            7.90100705199242,
            9.680344001221918,
            9.472704636443673,
            9.104979856318357,
            10.165851817003619,
            10.819778284410283,
            9.305650551780507,
            12.524526376648708,
            9.210340371976184,
            8.242756345714477,
            9.825526011066415,
            9.740968623038354,
            8.987196820661973,
            9.798127036878302,
            8.699514748210191,
            11.127262984158243,
            8.779557455883728,
            13.972514306773938,
            8.85366542803745,
            12.468436909997665,
            10.203592144986466,
            8.612503371220562,
            8.101677747454572,
            8.85366542803745,
            9.740968623038354,
            9.159047077588632,
            8.779557455883728,
            10.341742483467284,
            10.373491181781864,
            8.779557455883728,
            8.85366542803745,
            10.341742483467284,
            9.680344001221918
           ],
           "type": "choropleth"
          }
         ],
         "name": "2017-01-01"
        },
        {
         "data": [
          {
           "coloraxis": "coloraxis",
           "geo": "geo",
           "hovertemplate": "Date=2017-04-01<br>State=%{location}<br>Starting Colonies=%{z}<extra></extra>",
           "ids": [
            9.903487552536127,
            9.648595302907339,
            8.987196820661973,
            10.308952660644293,
            11.170435156023453,
            7.824046010856292,
            9.615805480084347,
            8.922658299524402,
            9.798127036878302,
            10.757902880692196,
            9.047821442478408,
            8.612503371220562,
            11.225243392518447,
            8.699514748210191,
            8.85366542803745,
            9.95227771670556,
            9.047821442478408,
            11.396391648714276,
            12.751299696013497,
            10.373491181781864,
            8.922658299524402,
            11.652687407345388,
            10.915088464214607,
            9.51044496442652,
            9.740968623038354,
            10.126631103850338,
            10.085809109330082,
            8.779557455883728,
            7.696212639346407,
            11.018629143155449,
            11.77528972943772,
            9.711115659888671,
            8.922658299524402,
            10.933106969717286,
            8.779557455883728,
            8.006367567650246,
            12.409013489526863,
            9.392661928770137,
            8.85366542803745,
            9.392661928770137,
            9.350102314351341,
            9.740968623038354,
            9.998797732340453,
            13.795307850646754,
            8.242756345714477
           ],
           "locationmode": "USA-states",
           "locations": [
            "SC",
            "PA",
            "MD",
            "SD",
            "OR",
            "MA",
            "WY",
            "NE",
            "WI",
            "MT",
            "VA",
            "NJ",
            "WA",
            "VT",
            "NM",
            "UT",
            "TN",
            "MS",
            "TX",
            "MN",
            "WV",
            "ND",
            "MI",
            "OH",
            "OK",
            "NY",
            "NC",
            "MO",
            "ME",
            "ID",
            "GA",
            "CO",
            "IN",
            "LA",
            "AL",
            "CT",
            "FL",
            "IA",
            "KY",
            "HI",
            "IL",
            "AR",
            "AZ",
            "CA",
            "KS"
           ],
           "name": "",
           "z": [
            9.903487552536127,
            9.648595302907339,
            8.987196820661973,
            10.308952660644293,
            11.170435156023453,
            7.824046010856292,
            9.615805480084347,
            8.922658299524402,
            9.798127036878302,
            10.757902880692196,
            9.047821442478408,
            8.612503371220562,
            11.225243392518447,
            8.699514748210191,
            8.85366542803745,
            9.95227771670556,
            9.047821442478408,
            11.396391648714276,
            12.751299696013497,
            10.373491181781864,
            8.922658299524402,
            11.652687407345388,
            10.915088464214607,
            9.51044496442652,
            9.740968623038354,
            10.126631103850338,
            10.085809109330082,
            8.779557455883728,
            7.696212639346407,
            11.018629143155449,
            11.77528972943772,
            9.711115659888671,
            8.922658299524402,
            10.933106969717286,
            8.779557455883728,
            8.006367567650246,
            12.409013489526863,
            9.392661928770137,
            8.85366542803745,
            9.392661928770137,
            9.350102314351341,
            9.740968623038354,
            9.998797732340453,
            13.795307850646754,
            8.242756345714477
           ],
           "type": "choropleth"
          }
         ],
         "name": "2017-04-01"
        },
        {
         "data": [
          {
           "coloraxis": "coloraxis",
           "geo": "geo",
           "hovertemplate": "Date=2017-07-01<br>State=%{location}<br>Starting Colonies=%{z}<extra></extra>",
           "ids": [
            9.350102314351341,
            10.46310334047155,
            8.85366542803745,
            11.451050061252142,
            9.104979856318357,
            10.985292722887856,
            9.104979856318357,
            11.314474526246391,
            11.542484267211773,
            10.043249494911286,
            10.46310334047155,
            9.047821442478408,
            11.211820372186306,
            8.389359819906353,
            9.581903928408666,
            9.615805480084347,
            10.085809109330082,
            12.078239274020289,
            9.472704636443673,
            10.165851817003619,
            11.820410164718188,
            11.06663836234181,
            10.275051108968611,
            11.931635799828413,
            9.104979856318357,
            9.210340371976184,
            9.825526011066415,
            9.047821442478408,
            10.165851817003619,
            9.680344001221918,
            9.472704636443673,
            13.287877815881902,
            11.55214617812351,
            8.160518247477505,
            10.46310334047155,
            11.703545824578878,
            8.922658299524402,
            11.396391648714276,
            10.596634733096073,
            9.104979856318357,
            8.612503371220562,
            13.060487973686241,
            11.944707881395766,
            8.85366542803745,
            10.736396675471232
           ],
           "locationmode": "USA-states",
           "locations": [
            "VA",
            "UT",
            "KS",
            "OR",
            "MO",
            "NY",
            "KY",
            "WA",
            "MI",
            "OH",
            "CO",
            "NM",
            "WI",
            "OK",
            "SC",
            "HI",
            "MS",
            "FL",
            "IL",
            "AZ",
            "MN",
            "LA",
            "AR",
            "SD",
            "MA",
            "TN",
            "PA",
            "MD",
            "NC",
            "NJ",
            "IN",
            "CA",
            "TX",
            "CT",
            "WY",
            "GA",
            "VT",
            "ID",
            "IA",
            "WV",
            "ME",
            "ND",
            "MT",
            "AL",
            "NE"
           ],
           "name": "",
           "z": [
            9.350102314351341,
            10.46310334047155,
            8.85366542803745,
            11.451050061252142,
            9.104979856318357,
            10.985292722887856,
            9.104979856318357,
            11.314474526246391,
            11.542484267211773,
            10.043249494911286,
            10.46310334047155,
            9.047821442478408,
            11.211820372186306,
            8.389359819906353,
            9.581903928408666,
            9.615805480084347,
            10.085809109330082,
            12.078239274020289,
            9.472704636443673,
            10.165851817003619,
            11.820410164718188,
            11.06663836234181,
            10.275051108968611,
            11.931635799828413,
            9.104979856318357,
            9.210340371976184,
            9.825526011066415,
            9.047821442478408,
            10.165851817003619,
            9.680344001221918,
            9.472704636443673,
            13.287877815881902,
            11.55214617812351,
            8.160518247477505,
            10.46310334047155,
            11.703545824578878,
            8.922658299524402,
            11.396391648714276,
            10.596634733096073,
            9.104979856318357,
            8.612503371220562,
            13.060487973686241,
            11.944707881395766,
            8.85366542803745,
            10.736396675471232
           ],
           "type": "choropleth"
          }
         ],
         "name": "2017-07-01"
        },
        {
         "data": [
          {
           "coloraxis": "coloraxis",
           "geo": "geo",
           "hovertemplate": "Date=2017-10-01<br>State=%{location}<br>Starting Colonies=%{z}<extra></extra>",
           "ids": [
            10.714417768752456,
            9.047821442478408,
            11.751942365440728,
            12.92391243868049,
            8.294049640102028,
            10.203592144986466,
            12.100712129872347,
            8.922658299524402,
            11.635143097694478,
            9.648595302907339,
            13.42984807715229,
            9.159047077588632,
            10.275051108968611,
            8.779557455883728,
            8.987196820661973,
            10.645424897265505,
            9.159047077588632,
            11.097410021008562,
            10.126631103850338,
            9.825526011066415,
            8.779557455883728,
            9.546812608597396,
            11.652687407345388,
            11.617285480294472,
            10.043249494911286,
            8.699514748210191,
            8.612503371220562,
            11.736069016284437,
            11.451050061252142,
            10.839580911706463,
            9.433483923290392,
            11.385092093460344,
            10.239959789157341,
            8.922658299524402,
            9.047821442478408,
            9.615805480084347,
            9.51044496442652,
            10.968198289528557,
            11.49272275765271,
            10.839580911706463,
            10.4341158035983,
            10.085809109330082,
            9.350102314351341,
            8.987196820661973,
            8.216088098632316
           ],
           "locationmode": "USA-states",
           "locations": [
            "IA",
            "TN",
            "TX",
            "ND",
            "CT",
            "AZ",
            "FL",
            "KY",
            "ID",
            "NJ",
            "CA",
            "VA",
            "UT",
            "KS",
            "NM",
            "NE",
            "MO",
            "WA",
            "AR",
            "OH",
            "VT",
            "MS",
            "MT",
            "SD",
            "NC",
            "MA",
            "ME",
            "GA",
            "OR",
            "WI",
            "SC",
            "MI",
            "WY",
            "AL",
            "WV",
            "HI",
            "IL",
            "LA",
            "MN",
            "NY",
            "CO",
            "PA",
            "IN",
            "MD",
            "OK"
           ],
           "name": "",
           "z": [
            10.714417768752456,
            9.047821442478408,
            11.751942365440728,
            12.92391243868049,
            8.294049640102028,
            10.203592144986466,
            12.100712129872347,
            8.922658299524402,
            11.635143097694478,
            9.648595302907339,
            13.42984807715229,
            9.159047077588632,
            10.275051108968611,
            8.779557455883728,
            8.987196820661973,
            10.645424897265505,
            9.159047077588632,
            11.097410021008562,
            10.126631103850338,
            9.825526011066415,
            8.779557455883728,
            9.546812608597396,
            11.652687407345388,
            11.617285480294472,
            10.043249494911286,
            8.699514748210191,
            8.612503371220562,
            11.736069016284437,
            11.451050061252142,
            10.839580911706463,
            9.433483923290392,
            11.385092093460344,
            10.239959789157341,
            8.922658299524402,
            9.047821442478408,
            9.615805480084347,
            9.51044496442652,
            10.968198289528557,
            11.49272275765271,
            10.839580911706463,
            10.4341158035983,
            10.085809109330082,
            9.350102314351341,
            8.987196820661973,
            8.216088098632316
           ],
           "type": "choropleth"
          }
         ],
         "name": "2017-10-01"
        },
        {
         "data": [
          {
           "coloraxis": "coloraxis",
           "geo": "geo",
           "hovertemplate": "Date=2018-01-01<br>State=%{location}<br>Starting Colonies=%{z}<extra></extra>",
           "ids": [
            11.097410021008562,
            11.302204433654575,
            8.85366542803745,
            8.216088098632316,
            12.230765258120545,
            8.216088098632316,
            9.998797732340453,
            8.922658299524402,
            9.711115659888671,
            10.46310334047155,
            12.007621706806335,
            11.805595078933049,
            9.210340371976184,
            10.165851817003619,
            7.9724660159745655,
            8.987196820661973,
            8.779557455883728,
            13.955272500339433,
            8.922658299524402,
            9.472704636443673,
            8.612503371220562,
            8.779557455883728,
            9.581903928408666,
            8.612503371220562,
            10.621327345686446,
            7.549609165154532,
            8.85366542803745,
            8.922658299524402,
            9.51044496442652,
            9.740968623038354,
            8.612503371220562,
            9.392661928770137,
            9.740968623038354,
            10.691944912900398,
            10.126631103850338,
            9.259130536145614,
            10.571316925111784,
            9.825526011066415,
            10.043249494911286,
            12.409013489526863,
            10.819778284410283,
            9.852194258148577,
            8.987196820661973,
            9.95227771670556,
            8.45531778769815
           ],
           "locationmode": "USA-states",
           "locations": [
            "ND",
            "OR",
            "VA",
            "KS",
            "TX",
            "MA",
            "AR",
            "UT",
            "MI",
            "MT",
            "ID",
            "GA",
            "TN",
            "NY",
            "CT",
            "MD",
            "NJ",
            "CA",
            "AL",
            "CO",
            "WY",
            "NE",
            "PA",
            "VT",
            "IA",
            "ME",
            "IN",
            "NM",
            "SC",
            "HI",
            "KY",
            "OH",
            "OK",
            "WA",
            "AZ",
            "IL",
            "MN",
            "NC",
            "SD",
            "FL",
            "LA",
            "MS",
            "MO",
            "WI",
            "WV"
           ],
           "name": "",
           "z": [
            11.097410021008562,
            11.302204433654575,
            8.85366542803745,
            8.216088098632316,
            12.230765258120545,
            8.216088098632316,
            9.998797732340453,
            8.922658299524402,
            9.711115659888671,
            10.46310334047155,
            12.007621706806335,
            11.805595078933049,
            9.210340371976184,
            10.165851817003619,
            7.9724660159745655,
            8.987196820661973,
            8.779557455883728,
            13.955272500339433,
            8.922658299524402,
            9.472704636443673,
            8.612503371220562,
            8.779557455883728,
            9.581903928408666,
            8.612503371220562,
            10.621327345686446,
            7.549609165154532,
            8.85366542803745,
            8.922658299524402,
            9.51044496442652,
            9.740968623038354,
            8.612503371220562,
            9.392661928770137,
            9.740968623038354,
            10.691944912900398,
            10.126631103850338,
            9.259130536145614,
            10.571316925111784,
            9.825526011066415,
            10.043249494911286,
            12.409013489526863,
            10.819778284410283,
            9.852194258148577,
            8.987196820661973,
            9.95227771670556,
            8.45531778769815
           ],
           "type": "choropleth"
          }
         ],
         "name": "2018-01-01"
        },
        {
         "data": [
          {
           "coloraxis": "coloraxis",
           "geo": "geo",
           "hovertemplate": "Date=2018-04-01<br>State=%{location}<br>Starting Colonies=%{z}<extra></extra>",
           "ids": [
            10.819778284410283,
            8.612503371220562,
            9.259130536145614,
            10.621327345686446,
            11.141861783579396,
            9.210340371976184,
            9.047821442478408,
            9.648595302907339,
            8.612503371220562,
            8.85366542803745,
            9.852194258148577,
            13.937728190688523,
            8.389359819906353,
            9.711115659888671,
            8.85366542803745,
            12.429216196844383,
            9.546812608597396,
            8.987196820661973,
            10.985292722887856,
            10.165851817003619,
            7.696212639346407,
            9.581903928408666,
            9.711115659888671,
            9.210340371976184,
            10.51867319162636,
            9.648595302907339,
            9.581903928408666,
            10.778956289890028,
            10.714417768752456,
            8.517193191416238,
            8.85366542803745,
            12.628067055589549,
            9.903487552536127,
            8.160518247477505,
            10.819778284410283,
            9.680344001221918,
            11.782952602183288,
            10.915088464214607,
            8.987196820661973,
            9.305650551780507,
            8.85366542803745,
            8.268731832117737,
            7.549609165154532,
            8.1886891244442,
            11.211820372186306
           ],
           "locationmode": "USA-states",
           "locations": [
            "MS",
            "VT",
            "NE",
            "OR",
            "MN",
            "SD",
            "WY",
            "PA",
            "KY",
            "MD",
            "AZ",
            "CA",
            "NJ",
            "HI",
            "WV",
            "FL",
            "SC",
            "TN",
            "ID",
            "WI",
            "ME",
            "AR",
            "CO",
            "IL",
            "MI",
            "OK",
            "UT",
            "LA",
            "IA",
            "VA",
            "AL",
            "TX",
            "NY",
            "MA",
            "MT",
            "NC",
            "GA",
            "WA",
            "IN",
            "OH",
            "MO",
            "KS",
            "NM",
            "CT",
            "ND"
           ],
           "name": "",
           "z": [
            10.819778284410283,
            8.612503371220562,
            9.259130536145614,
            10.621327345686446,
            11.141861783579396,
            9.210340371976184,
            9.047821442478408,
            9.648595302907339,
            8.612503371220562,
            8.85366542803745,
            9.852194258148577,
            13.937728190688523,
            8.389359819906353,
            9.711115659888671,
            8.85366542803745,
            12.429216196844383,
            9.546812608597396,
            8.987196820661973,
            10.985292722887856,
            10.165851817003619,
            7.696212639346407,
            9.581903928408666,
            9.711115659888671,
            9.210340371976184,
            10.51867319162636,
            9.648595302907339,
            9.581903928408666,
            10.778956289890028,
            10.714417768752456,
            8.517193191416238,
            8.85366542803745,
            12.628067055589549,
            9.903487552536127,
            8.160518247477505,
            10.819778284410283,
            9.680344001221918,
            11.782952602183288,
            10.915088464214607,
            8.987196820661973,
            9.305650551780507,
            8.85366542803745,
            8.268731832117737,
            7.549609165154532,
            8.1886891244442,
            11.211820372186306
           ],
           "type": "choropleth"
          }
         ],
         "name": "2018-04-01"
        },
        {
         "data": [
          {
           "coloraxis": "coloraxis",
           "geo": "geo",
           "hovertemplate": "Date=2018-07-01<br>State=%{location}<br>Starting Colonies=%{z}<extra></extra>",
           "ids": [
            8.699514748210191,
            10.915088464214607,
            9.798127036878302,
            10.4341158035983,
            10.933106969717286,
            9.350102314351341,
            11.626254150277232,
            10.308952660644293,
            9.546812608597396,
            9.903487552536127,
            12.190959007720126,
            9.711115659888671,
            10.341742483467284,
            9.159047077588632,
            8.922658299524402,
            9.711115659888671,
            11.703545824578878,
            11.018629143155449,
            7.649692623711514,
            10.87804719253426,
            11.385092093460344,
            8.987196820661973,
            9.433483923290392,
            9.047821442478408,
            10.404262840448617,
            11.661345470088502,
            8.922658299524402,
            11.805595078933049,
            9.104979856318357,
            9.680344001221918,
            9.305650551780507,
            8.779557455883728,
            13.287877815881902,
            10.858998997563564,
            8.85366542803745,
            8.699514748210191,
            11.884489021402711,
            13.028052697933088,
            10.275051108968611,
            11.238488619268468,
            8.922658299524402,
            8.070906088787819,
            12.031719258385396,
            11.314474526246391,
            9.210340371976184
           ],
           "locationmode": "USA-states",
           "locations": [
            "NM",
            "NY",
            "NC",
            "CO",
            "IA",
            "IN",
            "TX",
            "UT",
            "NJ",
            "PA",
            "FL",
            "MS",
            "AZ",
            "SC",
            "WV",
            "HI",
            "MN",
            "WI",
            "OK",
            "LA",
            "MI",
            "MA",
            "ME",
            "AL",
            "WY",
            "OR",
            "MD",
            "GA",
            "TN",
            "OH",
            "IL",
            "KY",
            "CA",
            "NE",
            "VT",
            "KS",
            "MT",
            "ND",
            "AR",
            "WA",
            "VA",
            "CT",
            "SD",
            "ID",
            "MO"
           ],
           "name": "",
           "z": [
            8.699514748210191,
            10.915088464214607,
            9.798127036878302,
            10.4341158035983,
            10.933106969717286,
            9.350102314351341,
            11.626254150277232,
            10.308952660644293,
            9.546812608597396,
            9.903487552536127,
            12.190959007720126,
            9.711115659888671,
            10.341742483467284,
            9.159047077588632,
            8.922658299524402,
            9.711115659888671,
            11.703545824578878,
            11.018629143155449,
            7.649692623711514,
            10.87804719253426,
            11.385092093460344,
            8.987196820661973,
            9.433483923290392,
            9.047821442478408,
            10.404262840448617,
            11.661345470088502,
            8.922658299524402,
            11.805595078933049,
            9.104979856318357,
            9.680344001221918,
            9.305650551780507,
            8.779557455883728,
            13.287877815881902,
            10.858998997563564,
            8.85366542803745,
            8.699514748210191,
            11.884489021402711,
            13.028052697933088,
            10.275051108968611,
            11.238488619268468,
            8.922658299524402,
            8.070906088787819,
            12.031719258385396,
            11.314474526246391,
            9.210340371976184
           ],
           "type": "choropleth"
          }
         ],
         "name": "2018-07-01"
        },
        {
         "data": [
          {
           "coloraxis": "coloraxis",
           "geo": "geo",
           "hovertemplate": "Date=2018-10-01<br>State=%{location}<br>Starting Colonies=%{z}<extra></extra>",
           "ids": [
            12.971540487669746,
            7.696212639346407,
            11.84939770159144,
            9.210340371976184,
            9.648595302907339,
            11.502875129116727,
            9.680344001221918,
            11.396391648714276,
            12.388394202324129,
            8.160518247477505,
            11.904967552746252,
            11.661345470088502,
            8.987196820661973,
            9.680344001221918,
            8.85366542803745,
            9.95227771670556,
            8.779557455883728,
            8.85366542803745,
            9.648595302907339,
            10.778956289890028,
            9.392661928770137,
            13.42984807715229,
            9.95227771670556,
            9.392661928770137,
            10.714417768752456,
            8.779557455883728,
            8.496990484098719,
            8.85366542803745,
            11.49272275765271,
            8.612503371220562,
            10.203592144986466,
            9.210340371976184,
            11.251560700835821,
            10.308952660644293,
            10.165851817003619,
            9.104979856318357,
            8.85366542803745,
            10.87804719253426,
            11.33857207782545,
            8.987196820661973,
            9.581903928408666,
            10.819778284410283,
            11.225243392518447,
            10.308952660644293,
            10.308952660644293
           ],
           "locationmode": "USA-states",
           "locations": [
            "ND",
            "OK",
            "SD",
            "SC",
            "OH",
            "ID",
            "NC",
            "OR",
            "FL",
            "CT",
            "GA",
            "TX",
            "TN",
            "HI",
            "WV",
            "IA",
            "AL",
            "KY",
            "NJ",
            "WI",
            "IL",
            "CA",
            "PA",
            "ME",
            "NE",
            "VT",
            "MA",
            "VA",
            "MT",
            "KS",
            "UT",
            "MO",
            "MI",
            "AR",
            "AZ",
            "IN",
            "MD",
            "NY",
            "MN",
            "NM",
            "MS",
            "LA",
            "WA",
            "WY",
            "CO"
           ],
           "name": "",
           "z": [
            12.971540487669746,
            7.696212639346407,
            11.84939770159144,
            9.210340371976184,
            9.648595302907339,
            11.502875129116727,
            9.680344001221918,
            11.396391648714276,
            12.388394202324129,
            8.160518247477505,
            11.904967552746252,
            11.661345470088502,
            8.987196820661973,
            9.680344001221918,
            8.85366542803745,
            9.95227771670556,
            8.779557455883728,
            8.85366542803745,
            9.648595302907339,
            10.778956289890028,
            9.392661928770137,
            13.42984807715229,
            9.95227771670556,
            9.392661928770137,
            10.714417768752456,
            8.779557455883728,
            8.496990484098719,
            8.85366542803745,
            11.49272275765271,
            8.612503371220562,
            10.203592144986466,
            9.210340371976184,
            11.251560700835821,
            10.308952660644293,
            10.165851817003619,
            9.104979856318357,
            8.85366542803745,
            10.87804719253426,
            11.33857207782545,
            8.987196820661973,
            9.581903928408666,
            10.819778284410283,
            11.225243392518447,
            10.308952660644293,
            10.308952660644293
           ],
           "type": "choropleth"
          }
         ],
         "name": "2018-10-01"
        },
        {
         "data": [
          {
           "coloraxis": "coloraxis",
           "geo": "geo",
           "hovertemplate": "Date=2019-01-01<br>State=%{location}<br>Starting Colonies=%{z}<extra></extra>",
           "ids": [
            8.612503371220562,
            11.429543856031177,
            9.392661928770137,
            10.799575577092764,
            9.711115659888671,
            9.825526011066415,
            9.95227771670556,
            9.047821442478408,
            10.165851817003619,
            9.740968623038354,
            10.085809109330082,
            8.216088098632316,
            9.711115659888671,
            9.259130536145614,
            8.411832675758411,
            10.839580911706463,
            12.611537753638338,
            9.998797732340453,
            11.790557201568507,
            9.104979856318357,
            8.922658299524402,
            9.615805480084347,
            11.695247021764184,
            10.085809109330082,
            8.987196820661973,
            12.468436909997665,
            8.517193191416238,
            11.396391648714276,
            8.779557455883728,
            8.476371196895983,
            8.699514748210191,
            9.259130536145614,
            8.699514748210191,
            9.047821442478408,
            8.85366542803745,
            8.039157390473237,
            13.946538820370678,
            10.239959789157341,
            8.699514748210191,
            8.612503371220562,
            8.517193191416238,
            9.51044496442652,
            8.779557455883728,
            10.51867319162636,
            8.242756345714477
           ],
           "locationmode": "USA-states",
           "locations": [
            "VA",
            "ND",
            "SC",
            "LA",
            "HI",
            "SD",
            "OK",
            "MO",
            "MS",
            "MN",
            "MI",
            "KY",
            "WI",
            "OH",
            "KS",
            "WA",
            "FL",
            "AZ",
            "ID",
            "IL",
            "IA",
            "PA",
            "GA",
            "NY",
            "MD",
            "TX",
            "CO",
            "OR",
            "WY",
            "NM",
            "IN",
            "NC",
            "TN",
            "UT",
            "ME",
            "CT",
            "CA",
            "AR",
            "NJ",
            "AL",
            "WV",
            "NE",
            "VT",
            "MT",
            "MA"
           ],
           "name": "",
           "z": [
            8.612503371220562,
            11.429543856031177,
            9.392661928770137,
            10.799575577092764,
            9.711115659888671,
            9.825526011066415,
            9.95227771670556,
            9.047821442478408,
            10.165851817003619,
            9.740968623038354,
            10.085809109330082,
            8.216088098632316,
            9.711115659888671,
            9.259130536145614,
            8.411832675758411,
            10.839580911706463,
            12.611537753638338,
            9.998797732340453,
            11.790557201568507,
            9.104979856318357,
            8.922658299524402,
            9.615805480084347,
            11.695247021764184,
            10.085809109330082,
            8.987196820661973,
            12.468436909997665,
            8.517193191416238,
            11.396391648714276,
            8.779557455883728,
            8.476371196895983,
            8.699514748210191,
            9.259130536145614,
            8.699514748210191,
            9.047821442478408,
            8.85366542803745,
            8.039157390473237,
            13.946538820370678,
            10.239959789157341,
            8.699514748210191,
            8.612503371220562,
            8.517193191416238,
            9.51044496442652,
            8.779557455883728,
            10.51867319162636,
            8.242756345714477
           ],
           "type": "choropleth"
          }
         ],
         "name": "2019-01-01"
        },
        {
         "data": [
          {
           "coloraxis": "coloraxis",
           "geo": "geo",
           "hovertemplate": "Date=2019-04-01<br>State=%{location}<br>Starting Colonies=%{z}<extra></extra>",
           "ids": [
            null,
            null,
            null,
            null,
            null,
            null,
            null,
            null,
            null,
            null,
            null,
            null,
            null,
            null,
            null,
            null,
            null,
            null,
            null,
            null,
            null,
            null,
            null,
            null,
            null,
            null,
            null,
            null,
            null,
            null,
            null,
            null,
            null,
            null,
            null,
            null,
            null,
            null,
            null,
            null,
            null,
            null,
            null,
            null,
            null
           ],
           "locationmode": "USA-states",
           "locations": [
            "WV",
            "WI",
            "HI",
            "WY",
            "GA",
            "MN",
            "SC",
            "AZ",
            "OK",
            "OR",
            "MA",
            "FL",
            "ME",
            "MI",
            "PA",
            "AL",
            "CT",
            "MD",
            "ID",
            "LA",
            "VT",
            "NE",
            "NJ",
            "CA",
            "UT",
            "TN",
            "IN",
            "NM",
            "NC",
            "CO",
            "TX",
            "NY",
            "IL",
            "MT",
            "KS",
            "ND",
            "IA",
            "SD",
            "MS",
            "VA",
            "KY",
            "OH",
            "WA",
            "MO",
            "AR"
           ],
           "name": "",
           "z": [
            null,
            null,
            null,
            null,
            null,
            null,
            null,
            null,
            null,
            null,
            null,
            null,
            null,
            null,
            null,
            null,
            null,
            null,
            null,
            null,
            null,
            null,
            null,
            null,
            null,
            null,
            null,
            null,
            null,
            null,
            null,
            null,
            null,
            null,
            null,
            null,
            null,
            null,
            null,
            null,
            null,
            null,
            null,
            null,
            null
           ],
           "type": "choropleth"
          }
         ],
         "name": "2019-04-01"
        },
        {
         "data": [
          {
           "coloraxis": "coloraxis",
           "geo": "geo",
           "hovertemplate": "Date=2019-07-01<br>State=%{location}<br>Starting Colonies=%{z}<extra></extra>",
           "ids": [
            9.210340371976184,
            10.085809109330082,
            10.404262840448617,
            11.744037185933616,
            10.165851817003619,
            11.350406535472453,
            12.254862809699606,
            11.05089000537367,
            12.449018824140563,
            10.085809109330082,
            9.852194258148577,
            13.38472764187182,
            9.903487552536127,
            8.85366542803745,
            9.104979856318357,
            8.85366542803745,
            9.581903928408666,
            9.546812608597396,
            8.389359819906353,
            8.922658299524402,
            9.680344001221918,
            9.740968623038354,
            8.987196820661973,
            8.922658299524402,
            11.461632170582678,
            11.898187865760873,
            10.596634733096073,
            10.308952660644293,
            11.661345470088502,
            9.546812608597396,
            7.783224016336037,
            11.082142548877775,
            9.998797732340453,
            9.878169744551839,
            9.51044496442652,
            13.180632285528304,
            9.259130536145614,
            10.043249494911286,
            8.922658299524402,
            11.326595886778735,
            10.645424897265505,
            11.744037185933616,
            11.451050061252142,
            9.350102314351341,
            9.51044496442652
           ],
           "locationmode": "USA-states",
           "locations": [
            "WV",
            "WY",
            "CO",
            "TX",
            "AZ",
            "WA",
            "FL",
            "WI",
            "SD",
            "UT",
            "PA",
            "CA",
            "AR",
            "AL",
            "VA",
            "VT",
            "SC",
            "TN",
            "CT",
            "MD",
            "NJ",
            "HI",
            "KY",
            "OK",
            "ID",
            "MT",
            "NE",
            "IA",
            "GA",
            "IN",
            "NM",
            "NY",
            "NC",
            "OH",
            "IL",
            "ND",
            "MO",
            "MS",
            "KS",
            "OR",
            "LA",
            "MN",
            "MI",
            "ME",
            "MA"
           ],
           "name": "",
           "z": [
            9.210340371976184,
            10.085809109330082,
            10.404262840448617,
            11.744037185933616,
            10.165851817003619,
            11.350406535472453,
            12.254862809699606,
            11.05089000537367,
            12.449018824140563,
            10.085809109330082,
            9.852194258148577,
            13.38472764187182,
            9.903487552536127,
            8.85366542803745,
            9.104979856318357,
            8.85366542803745,
            9.581903928408666,
            9.546812608597396,
            8.389359819906353,
            8.922658299524402,
            9.680344001221918,
            9.740968623038354,
            8.987196820661973,
            8.922658299524402,
            11.461632170582678,
            11.898187865760873,
            10.596634733096073,
            10.308952660644293,
            11.661345470088502,
            9.546812608597396,
            7.783224016336037,
            11.082142548877775,
            9.998797732340453,
            9.878169744551839,
            9.51044496442652,
            13.180632285528304,
            9.259130536145614,
            10.043249494911286,
            8.922658299524402,
            11.326595886778735,
            10.645424897265505,
            11.744037185933616,
            11.451050061252142,
            9.350102314351341,
            9.51044496442652
           ],
           "type": "choropleth"
          }
         ],
         "name": "2019-07-01"
        },
        {
         "data": [
          {
           "coloraxis": "coloraxis",
           "geo": "geo",
           "hovertemplate": "Date=2019-10-01<br>State=%{location}<br>Starting Colonies=%{z}<extra></extra>",
           "ids": [
            11.396391648714276,
            10.736396675471232,
            10.203592144986466,
            8.699514748210191,
            11.082142548877775,
            8.517193191416238,
            13.458835614025542,
            9.769956159911606,
            9.305650551780507,
            9.472704636443673,
            8.779557455883728,
            8.242756345714477,
            10.203592144986466,
            12.948009990259552,
            11.76756768334381,
            9.350102314351341,
            9.648595302907339,
            10.308952660644293,
            9.95227771670556,
            10.621327345686446,
            11.48246625748552,
            9.104979856318357,
            8.922658299524402,
            10.4341158035983,
            9.852194258148577,
            9.769956159911606,
            8.987196820661973,
            8.699514748210191,
            11.33857207782545,
            11.170435156023453,
            8.85366542803745,
            10.373491181781864,
            10.51867319162636,
            9.047821442478408,
            8.476371196895983,
            12.14950229404178,
            11.686878772093667,
            9.433483923290392,
            11.652687407345388,
            9.95227771670556,
            9.852194258148577,
            9.740968623038354,
            12.506177237980511,
            11.617285480294472,
            8.779557455883728
           ],
           "locationmode": "USA-states",
           "locations": [
            "WA",
            "WI",
            "CO",
            "NM",
            "NY",
            "MA",
            "CA",
            "NC",
            "TN",
            "IL",
            "MD",
            "CT",
            "WY",
            "ND",
            "TX",
            "ME",
            "NJ",
            "UT",
            "MS",
            "LA",
            "MN",
            "MO",
            "WV",
            "AZ",
            "AR",
            "IN",
            "VA",
            "AL",
            "MI",
            "MT",
            "VT",
            "IA",
            "NE",
            "KY",
            "KS",
            "SD",
            "GA",
            "SC",
            "OR",
            "PA",
            "OH",
            "HI",
            "FL",
            "ID",
            "OK"
           ],
           "name": "",
           "z": [
            11.396391648714276,
            10.736396675471232,
            10.203592144986466,
            8.699514748210191,
            11.082142548877775,
            8.517193191416238,
            13.458835614025542,
            9.769956159911606,
            9.305650551780507,
            9.472704636443673,
            8.779557455883728,
            8.242756345714477,
            10.203592144986466,
            12.948009990259552,
            11.76756768334381,
            9.350102314351341,
            9.648595302907339,
            10.308952660644293,
            9.95227771670556,
            10.621327345686446,
            11.48246625748552,
            9.104979856318357,
            8.922658299524402,
            10.4341158035983,
            9.852194258148577,
            9.769956159911606,
            8.987196820661973,
            8.699514748210191,
            11.33857207782545,
            11.170435156023453,
            8.85366542803745,
            10.373491181781864,
            10.51867319162636,
            9.047821442478408,
            8.476371196895983,
            12.14950229404178,
            11.686878772093667,
            9.433483923290392,
            11.652687407345388,
            9.95227771670556,
            9.852194258148577,
            9.740968623038354,
            12.506177237980511,
            11.617285480294472,
            8.779557455883728
           ],
           "type": "choropleth"
          }
         ],
         "name": "2019-10-01"
        },
        {
         "data": [
          {
           "coloraxis": "coloraxis",
           "geo": "geo",
           "hovertemplate": "Date=2020-01-01<br>State=%{location}<br>Starting Colonies=%{z}<extra></extra>",
           "ids": [
            8.85366542803745,
            9.104979856318357,
            11.957611286231675,
            9.047821442478408,
            10.275051108968611,
            9.680344001221918,
            9.680344001221918,
            12.367340793126296,
            9.392661928770137,
            8.779557455883728,
            8.699514748210191,
            12.594730635321957,
            8.411832675758411,
            9.798127036878302,
            7.170119543449628,
            8.411832675758411,
            9.903487552536127,
            9.878169744551839,
            8.699514748210191,
            9.104979856318357,
            8.987196820661973,
            10.165851817003619,
            9.615805480084347,
            8.612503371220562,
            8.779557455883728,
            10.87804719253426,
            8.216088098632316,
            10.275051108968611,
            9.648595302907339,
            8.699514748210191,
            9.825526011066415,
            9.95227771670556,
            14.115615150414612,
            8.242756345714477,
            11.48246625748552,
            11.652687407345388,
            10.691944912900398,
            11.002099841204238,
            9.305650551780507,
            8.85366542803745,
            9.350102314351341,
            9.472704636443673,
            10.799575577092764,
            8.294049640102028,
            9.711115659888671
           ],
           "locationmode": "USA-states",
           "locations": [
            "MD",
            "IA",
            "ID",
            "MO",
            "NY",
            "WI",
            "HI",
            "TX",
            "UT",
            "VT",
            "VA",
            "FL",
            "KS",
            "MT",
            "ME",
            "CO",
            "SD",
            "OK",
            "NM",
            "NE",
            "TN",
            "MS",
            "NC",
            "AL",
            "NJ",
            "ND",
            "CT",
            "AZ",
            "OH",
            "WV",
            "PA",
            "MN",
            "CA",
            "MA",
            "OR",
            "GA",
            "LA",
            "MI",
            "IN",
            "KY",
            "IL",
            "SC",
            "WA",
            "WY",
            "AR"
           ],
           "name": "",
           "z": [
            8.85366542803745,
            9.104979856318357,
            11.957611286231675,
            9.047821442478408,
            10.275051108968611,
            9.680344001221918,
            9.680344001221918,
            12.367340793126296,
            9.392661928770137,
            8.779557455883728,
            8.699514748210191,
            12.594730635321957,
            8.411832675758411,
            9.798127036878302,
            7.170119543449628,
            8.411832675758411,
            9.903487552536127,
            9.878169744551839,
            8.699514748210191,
            9.104979856318357,
            8.987196820661973,
            10.165851817003619,
            9.615805480084347,
            8.612503371220562,
            8.779557455883728,
            10.87804719253426,
            8.216088098632316,
            10.275051108968611,
            9.648595302907339,
            8.699514748210191,
            9.825526011066415,
            9.95227771670556,
            14.115615150414612,
            8.242756345714477,
            11.48246625748552,
            11.652687407345388,
            10.691944912900398,
            11.002099841204238,
            9.305650551780507,
            8.85366542803745,
            9.350102314351341,
            9.472704636443673,
            10.799575577092764,
            8.294049640102028,
            9.711115659888671
           ],
           "type": "choropleth"
          }
         ],
         "name": "2020-01-01"
        },
        {
         "data": [
          {
           "coloraxis": "coloraxis",
           "geo": "geo",
           "hovertemplate": "Date=2020-04-01<br>State=%{location}<br>Starting Colonies=%{z}<extra></extra>",
           "ids": [
            9.711115659888671,
            7.3777589082278725,
            8.85366542803745,
            9.648595302907339,
            8.389359819906353,
            13.997832114758229,
            8.922658299524402,
            9.680344001221918,
            9.047821442478408,
            11.06663836234181,
            8.922658299524402,
            10.985292722887856,
            10.87804719253426,
            9.305650551780507,
            11.396391648714276,
            10.778956289890028,
            10.165851817003619,
            10.085809109330082,
            12.644327576461329,
            10.4341158035983,
            10.203592144986466,
            9.95227771670556,
            8.922658299524402,
            8.779557455883728,
            10.819778284410283,
            9.740968623038354,
            9.95227771670556,
            11.884489021402711,
            9.159047077588632,
            12.793859310432293,
            9.711115659888671,
            10.4341158035983,
            8.039157390473237,
            8.85366542803745,
            8.268731832117737,
            10.085809109330082,
            9.392661928770137,
            9.51044496442652,
            9.769956159911606,
            9.825526011066415,
            10.778956289890028,
            9.305650551780507,
            8.85366542803745,
            9.648595302907339,
            11.112447898373103
           ],
           "locationmode": "USA-states",
           "locations": [
            "NE",
            "ME",
            "VT",
            "HI",
            "MA",
            "CA",
            "KS",
            "OK",
            "AL",
            "MI",
            "WV",
            "MN",
            "LA",
            "KY",
            "OR",
            "MT",
            "AZ",
            "PA",
            "FL",
            "MS",
            "WI",
            "UT",
            "VA",
            "MO",
            "WA",
            "AR",
            "IA",
            "GA",
            "SD",
            "TX",
            "CO",
            "NY",
            "NM",
            "MD",
            "CT",
            "NC",
            "IL",
            "TN",
            "WY",
            "SC",
            "ID",
            "IN",
            "NJ",
            "OH",
            "ND"
           ],
           "name": "",
           "z": [
            9.711115659888671,
            7.3777589082278725,
            8.85366542803745,
            9.648595302907339,
            8.389359819906353,
            13.997832114758229,
            8.922658299524402,
            9.680344001221918,
            9.047821442478408,
            11.06663836234181,
            8.922658299524402,
            10.985292722887856,
            10.87804719253426,
            9.305650551780507,
            11.396391648714276,
            10.778956289890028,
            10.165851817003619,
            10.085809109330082,
            12.644327576461329,
            10.4341158035983,
            10.203592144986466,
            9.95227771670556,
            8.922658299524402,
            8.779557455883728,
            10.819778284410283,
            9.740968623038354,
            9.95227771670556,
            11.884489021402711,
            9.159047077588632,
            12.793859310432293,
            9.711115659888671,
            10.4341158035983,
            8.039157390473237,
            8.85366542803745,
            8.268731832117737,
            10.085809109330082,
            9.392661928770137,
            9.51044496442652,
            9.769956159911606,
            9.825526011066415,
            10.778956289890028,
            9.305650551780507,
            8.85366542803745,
            9.648595302907339,
            11.112447898373103
           ],
           "type": "choropleth"
          }
         ],
         "name": "2020-04-01"
        },
        {
         "data": [
          {
           "coloraxis": "coloraxis",
           "geo": "geo",
           "hovertemplate": "Date=2020-07-01<br>State=%{location}<br>Starting Colonies=%{z}<extra></extra>",
           "ids": [
            11.156250521031495,
            8.922658299524402,
            9.047821442478408,
            11.127262984158243,
            9.852194258148577,
            9.392661928770137,
            9.104979856318357,
            11.918390573078392,
            13.028052697933088,
            11.472103470449973,
            11.018629143155449,
            10.165851817003619,
            12.301382825334498,
            8.45531778769815,
            8.987196820661973,
            10.165851817003619,
            11.451050061252142,
            10.239959789157341,
            10.404262840448617,
            12.345834587905333,
            9.615805480084347,
            9.350102314351341,
            9.546812608597396,
            10.203592144986466,
            10.778956289890028,
            11.643953727376633,
            10.085809109330082,
            12.025749091398891,
            9.615805480084347,
            10.4341158035983,
            10.275051108968611,
            13.369223455335854,
            9.305650551780507,
            8.922658299524402,
            10.757902880692196,
            11.835008964139341,
            8.612503371220562,
            9.998797732340453,
            8.85366542803745,
            9.159047077588632,
            8.85366542803745,
            9.769956159911606,
            8.987196820661973,
            9.825526011066415,
            11.532728092266408
           ],
           "locationmode": "USA-states",
           "locations": [
            "ID",
            "MD",
            "VA",
            "WI",
            "AR",
            "SC",
            "AL",
            "GA",
            "ND",
            "MI",
            "NY",
            "MS",
            "FL",
            "CT",
            "WV",
            "NC",
            "WA",
            "AZ",
            "WY",
            "SD",
            "TN",
            "KY",
            "IL",
            "PA",
            "LA",
            "MN",
            "UT",
            "TX",
            "IN",
            "IA",
            "CO",
            "CA",
            "MA",
            "VT",
            "NE",
            "MT",
            "NM",
            "OH",
            "OK",
            "ME",
            "KS",
            "NJ",
            "MO",
            "HI",
            "OR"
           ],
           "name": "",
           "z": [
            11.156250521031495,
            8.922658299524402,
            9.047821442478408,
            11.127262984158243,
            9.852194258148577,
            9.392661928770137,
            9.104979856318357,
            11.918390573078392,
            13.028052697933088,
            11.472103470449973,
            11.018629143155449,
            10.165851817003619,
            12.301382825334498,
            8.45531778769815,
            8.987196820661973,
            10.165851817003619,
            11.451050061252142,
            10.239959789157341,
            10.404262840448617,
            12.345834587905333,
            9.615805480084347,
            9.350102314351341,
            9.546812608597396,
            10.203592144986466,
            10.778956289890028,
            11.643953727376633,
            10.085809109330082,
            12.025749091398891,
            9.615805480084347,
            10.4341158035983,
            10.275051108968611,
            13.369223455335854,
            9.305650551780507,
            8.922658299524402,
            10.757902880692196,
            11.835008964139341,
            8.612503371220562,
            9.998797732340453,
            8.85366542803745,
            9.159047077588632,
            8.85366542803745,
            9.769956159911606,
            8.987196820661973,
            9.825526011066415,
            11.532728092266408
           ],
           "type": "choropleth"
          }
         ],
         "name": "2020-07-01"
        },
        {
         "data": [
          {
           "coloraxis": "coloraxis",
           "geo": "geo",
           "hovertemplate": "Date=2020-10-01<br>State=%{location}<br>Starting Colonies=%{z}<extra></extra>",
           "ids": [
            9.798127036878302,
            10.043249494911286,
            11.48246625748552,
            10.275051108968611,
            9.210340371976184,
            11.502875129116727,
            13.005829561148378,
            11.451050061252142,
            13.458835614025542,
            12.013700752882718,
            8.366370301681654,
            12.190959007720126,
            9.350102314351341,
            9.350102314351341,
            8.922658299524402,
            9.740968623038354,
            9.95227771670556,
            10.736396675471232,
            10.668955394675699,
            8.699514748210191,
            11.711776323715394,
            9.472704636443673,
            7.783224016336037,
            8.85366542803745,
            10.126631103850338,
            11.002099841204238,
            10.858998997563564,
            8.699514748210191,
            10.545341438708522,
            10.308952660644293,
            11.302204433654575,
            8.987196820661973,
            9.51044496442652,
            12.388394202324129,
            9.852194258148577,
            8.987196820661973,
            9.711115659888671,
            8.779557455883728,
            9.210340371976184,
            11.532728092266408,
            11.877568578558138,
            9.104979856318357,
            9.998797732340453,
            9.998797732340453,
            10.043249494911286
           ],
           "locationmode": "USA-states",
           "locations": [
            "NJ",
            "PA",
            "MI",
            "UT",
            "MA",
            "MN",
            "ND",
            "ID",
            "CA",
            "GA",
            "CT",
            "SD",
            "SC",
            "KY",
            "WV",
            "AL",
            "OH",
            "LA",
            "NE",
            "KS",
            "OR",
            "IL",
            "NM",
            "OK",
            "AZ",
            "WI",
            "NY",
            "MD",
            "IA",
            "MS",
            "MT",
            "VA",
            "TN",
            "FL",
            "CO",
            "VT",
            "NC",
            "MO",
            "IN",
            "WA",
            "TX",
            "ME",
            "HI",
            "AR",
            "WY"
           ],
           "name": "",
           "z": [
            9.798127036878302,
            10.043249494911286,
            11.48246625748552,
            10.275051108968611,
            9.210340371976184,
            11.502875129116727,
            13.005829561148378,
            11.451050061252142,
            13.458835614025542,
            12.013700752882718,
            8.366370301681654,
            12.190959007720126,
            9.350102314351341,
            9.350102314351341,
            8.922658299524402,
            9.740968623038354,
            9.95227771670556,
            10.736396675471232,
            10.668955394675699,
            8.699514748210191,
            11.711776323715394,
            9.472704636443673,
            7.783224016336037,
            8.85366542803745,
            10.126631103850338,
            11.002099841204238,
            10.858998997563564,
            8.699514748210191,
            10.545341438708522,
            10.308952660644293,
            11.302204433654575,
            8.987196820661973,
            9.51044496442652,
            12.388394202324129,
            9.852194258148577,
            8.987196820661973,
            9.711115659888671,
            8.779557455883728,
            9.210340371976184,
            11.532728092266408,
            11.877568578558138,
            9.104979856318357,
            9.998797732340453,
            9.998797732340453,
            10.043249494911286
           ],
           "type": "choropleth"
          }
         ],
         "name": "2020-10-01"
        },
        {
         "data": [
          {
           "coloraxis": "coloraxis",
           "geo": "geo",
           "hovertemplate": "Date=2021-01-01<br>State=%{location}<br>Starting Colonies=%{z}<extra></extra>",
           "ids": [
            8.85366542803745,
            11.26446410567173,
            7.9724660159745655,
            11.238488619268468,
            12.611537753638338,
            10.126631103850338,
            8.517193191416238,
            10.839580911706463,
            10.839580911706463,
            9.769956159911606,
            9.615805480084347,
            14.03062193758122,
            9.210340371976184,
            8.006367567650246,
            8.160518247477505,
            9.648595302907339,
            12.388394202324129,
            10.308952660644293,
            9.392661928770137,
            9.798127036878302,
            9.159047077588632,
            8.34283980427146,
            12.031719258385396,
            10.239959789157341,
            9.546812608597396,
            9.210340371976184,
            9.769956159911606,
            9.305650551780507,
            8.85366542803745,
            10.621327345686446,
            9.159047077588632,
            9.903487552536127,
            10.778956289890028,
            10.404262840448617,
            11.695247021764184,
            10.275051108968611,
            9.95227771670556,
            8.85366542803745,
            8.612503371220562,
            8.517193191416238,
            8.922658299524402,
            10.596634733096073,
            10.239959789157341,
            9.878169744551839,
            9.472704636443673
           ],
           "locationmode": "USA-states",
           "locations": [
            "MD",
            "MI",
            "ME",
            "OR",
            "FL",
            "WI",
            "MA",
            "ND",
            "LA",
            "UT",
            "IA",
            "CA",
            "IN",
            "CO",
            "NM",
            "SC",
            "TX",
            "NY",
            "TN",
            "NC",
            "IL",
            "CT",
            "ID",
            "SD",
            "NJ",
            "AL",
            "OH",
            "NE",
            "WV",
            "MN",
            "KY",
            "PA",
            "WA",
            "MS",
            "GA",
            "AZ",
            "AR",
            "VA",
            "MO",
            "KS",
            "VT",
            "MT",
            "OK",
            "HI",
            "WY"
           ],
           "name": "",
           "z": [
            8.85366542803745,
            11.26446410567173,
            7.9724660159745655,
            11.238488619268468,
            12.611537753638338,
            10.126631103850338,
            8.517193191416238,
            10.839580911706463,
            10.839580911706463,
            9.769956159911606,
            9.615805480084347,
            14.03062193758122,
            9.210340371976184,
            8.006367567650246,
            8.160518247477505,
            9.648595302907339,
            12.388394202324129,
            10.308952660644293,
            9.392661928770137,
            9.798127036878302,
            9.159047077588632,
            8.34283980427146,
            12.031719258385396,
            10.239959789157341,
            9.546812608597396,
            9.210340371976184,
            9.769956159911606,
            9.305650551780507,
            8.85366542803745,
            10.621327345686446,
            9.159047077588632,
            9.903487552536127,
            10.778956289890028,
            10.404262840448617,
            11.695247021764184,
            10.275051108968611,
            9.95227771670556,
            8.85366542803745,
            8.612503371220562,
            8.517193191416238,
            8.922658299524402,
            10.596634733096073,
            10.239959789157341,
            9.878169744551839,
            9.472704636443673
           ],
           "type": "choropleth"
          }
         ],
         "name": "2021-01-01"
        }
       ],
       "config": {
        "plotlyServerURL": "https://plot.ly"
       }
      },
      "text/html": "<div>                            <div id=\"fd8bee0a-91dd-4845-94c3-8912e0b0cd3a\" class=\"plotly-graph-div\" style=\"height:525px; width:100%;\"></div>            <script type=\"text/javascript\">                require([\"plotly\"], function(Plotly) {                    window.PLOTLYENV=window.PLOTLYENV || {};                                    if (document.getElementById(\"fd8bee0a-91dd-4845-94c3-8912e0b0cd3a\")) {                    Plotly.newPlot(                        \"fd8bee0a-91dd-4845-94c3-8912e0b0cd3a\",                        [{\"coloraxis\":\"coloraxis\",\"geo\":\"geo\",\"hovertemplate\":\"Date=2015-01-01<br>State=%{location}<br>Starting Colonies=%{z}<extra></extra>\",\"ids\":[10.819778284410283,8.85366542803745,9.711115659888671,9.159047077588632,10.839580911706463,9.546812608597396,9.159047077588632,10.4341158035983,8.922658299524402,14.180153671552183,9.259130536145614,9.433483923290392,10.46310334047155,8.699514748210191,8.45531778769815,9.392661928770137,9.798127036878302,8.268731832117737,9.047821442478408,8.699514748210191,9.472704636443673,11.251560700835821,10.858998997563564,8.433811582477187,12.160028707028767,8.987196820661973,9.210340371976184,11.55214617812351,9.740968623038354,10.950806546816688,12.628067055589549,8.699514748210191,9.711115659888671,8.612503371220562,10.085809109330082,8.85366542803745,11.302204433654575,7.9724660159745655,9.104979856318357,8.612503371220562,8.922658299524402,8.039157390473237,8.160518247477505,10.203592144986466,10.239959789157341],\"locationmode\":\"USA-states\",\"locations\":[\"SD\",\"NM\",\"WI\",\"OK\",\"LA\",\"PA\",\"TN\",\"MS\",\"KY\",\"CA\",\"HI\",\"IA\",\"AZ\",\"NJ\",\"WV\",\"MO\",\"OH\",\"CT\",\"MT\",\"UT\",\"AR\",\"OR\",\"WA\",\"KS\",\"TX\",\"VA\",\"NE\",\"GA\",\"SC\",\"ND\",\"FL\",\"IL\",\"MI\",\"VT\",\"NC\",\"AL\",\"ID\",\"MA\",\"IN\",\"WY\",\"MD\",\"ME\",\"CO\",\"NY\",\"MN\"],\"name\":\"\",\"z\":[10.819778284410283,8.85366542803745,9.711115659888671,9.159047077588632,10.839580911706463,9.546812608597396,9.159047077588632,10.4341158035983,8.922658299524402,14.180153671552183,9.259130536145614,9.433483923290392,10.46310334047155,8.699514748210191,8.45531778769815,9.392661928770137,9.798127036878302,8.268731832117737,9.047821442478408,8.699514748210191,9.472704636443673,11.251560700835821,10.858998997563564,8.433811582477187,12.160028707028767,8.987196820661973,9.210340371976184,11.55214617812351,9.740968623038354,10.950806546816688,12.628067055589549,8.699514748210191,9.711115659888671,8.612503371220562,10.085809109330082,8.85366542803745,11.302204433654575,7.9724660159745655,9.104979856318357,8.612503371220562,8.922658299524402,8.039157390473237,8.160518247477505,10.203592144986466,10.239959789157341],\"type\":\"choropleth\"}],                        {\"template\":{\"data\":{\"bar\":[{\"error_x\":{\"color\":\"#2a3f5f\"},\"error_y\":{\"color\":\"#2a3f5f\"},\"marker\":{\"line\":{\"color\":\"#E5ECF6\",\"width\":0.5},\"pattern\":{\"fillmode\":\"overlay\",\"size\":10,\"solidity\":0.2}},\"type\":\"bar\"}],\"barpolar\":[{\"marker\":{\"line\":{\"color\":\"#E5ECF6\",\"width\":0.5},\"pattern\":{\"fillmode\":\"overlay\",\"size\":10,\"solidity\":0.2}},\"type\":\"barpolar\"}],\"carpet\":[{\"aaxis\":{\"endlinecolor\":\"#2a3f5f\",\"gridcolor\":\"white\",\"linecolor\":\"white\",\"minorgridcolor\":\"white\",\"startlinecolor\":\"#2a3f5f\"},\"baxis\":{\"endlinecolor\":\"#2a3f5f\",\"gridcolor\":\"white\",\"linecolor\":\"white\",\"minorgridcolor\":\"white\",\"startlinecolor\":\"#2a3f5f\"},\"type\":\"carpet\"}],\"choropleth\":[{\"colorbar\":{\"outlinewidth\":0,\"ticks\":\"\"},\"type\":\"choropleth\"}],\"contour\":[{\"colorbar\":{\"outlinewidth\":0,\"ticks\":\"\"},\"colorscale\":[[0.0,\"#0d0887\"],[0.1111111111111111,\"#46039f\"],[0.2222222222222222,\"#7201a8\"],[0.3333333333333333,\"#9c179e\"],[0.4444444444444444,\"#bd3786\"],[0.5555555555555556,\"#d8576b\"],[0.6666666666666666,\"#ed7953\"],[0.7777777777777778,\"#fb9f3a\"],[0.8888888888888888,\"#fdca26\"],[1.0,\"#f0f921\"]],\"type\":\"contour\"}],\"contourcarpet\":[{\"colorbar\":{\"outlinewidth\":0,\"ticks\":\"\"},\"type\":\"contourcarpet\"}],\"heatmap\":[{\"colorbar\":{\"outlinewidth\":0,\"ticks\":\"\"},\"colorscale\":[[0.0,\"#0d0887\"],[0.1111111111111111,\"#46039f\"],[0.2222222222222222,\"#7201a8\"],[0.3333333333333333,\"#9c179e\"],[0.4444444444444444,\"#bd3786\"],[0.5555555555555556,\"#d8576b\"],[0.6666666666666666,\"#ed7953\"],[0.7777777777777778,\"#fb9f3a\"],[0.8888888888888888,\"#fdca26\"],[1.0,\"#f0f921\"]],\"type\":\"heatmap\"}],\"heatmapgl\":[{\"colorbar\":{\"outlinewidth\":0,\"ticks\":\"\"},\"colorscale\":[[0.0,\"#0d0887\"],[0.1111111111111111,\"#46039f\"],[0.2222222222222222,\"#7201a8\"],[0.3333333333333333,\"#9c179e\"],[0.4444444444444444,\"#bd3786\"],[0.5555555555555556,\"#d8576b\"],[0.6666666666666666,\"#ed7953\"],[0.7777777777777778,\"#fb9f3a\"],[0.8888888888888888,\"#fdca26\"],[1.0,\"#f0f921\"]],\"type\":\"heatmapgl\"}],\"histogram\":[{\"marker\":{\"pattern\":{\"fillmode\":\"overlay\",\"size\":10,\"solidity\":0.2}},\"type\":\"histogram\"}],\"histogram2d\":[{\"colorbar\":{\"outlinewidth\":0,\"ticks\":\"\"},\"colorscale\":[[0.0,\"#0d0887\"],[0.1111111111111111,\"#46039f\"],[0.2222222222222222,\"#7201a8\"],[0.3333333333333333,\"#9c179e\"],[0.4444444444444444,\"#bd3786\"],[0.5555555555555556,\"#d8576b\"],[0.6666666666666666,\"#ed7953\"],[0.7777777777777778,\"#fb9f3a\"],[0.8888888888888888,\"#fdca26\"],[1.0,\"#f0f921\"]],\"type\":\"histogram2d\"}],\"histogram2dcontour\":[{\"colorbar\":{\"outlinewidth\":0,\"ticks\":\"\"},\"colorscale\":[[0.0,\"#0d0887\"],[0.1111111111111111,\"#46039f\"],[0.2222222222222222,\"#7201a8\"],[0.3333333333333333,\"#9c179e\"],[0.4444444444444444,\"#bd3786\"],[0.5555555555555556,\"#d8576b\"],[0.6666666666666666,\"#ed7953\"],[0.7777777777777778,\"#fb9f3a\"],[0.8888888888888888,\"#fdca26\"],[1.0,\"#f0f921\"]],\"type\":\"histogram2dcontour\"}],\"mesh3d\":[{\"colorbar\":{\"outlinewidth\":0,\"ticks\":\"\"},\"type\":\"mesh3d\"}],\"parcoords\":[{\"line\":{\"colorbar\":{\"outlinewidth\":0,\"ticks\":\"\"}},\"type\":\"parcoords\"}],\"pie\":[{\"automargin\":true,\"type\":\"pie\"}],\"scatter\":[{\"marker\":{\"colorbar\":{\"outlinewidth\":0,\"ticks\":\"\"}},\"type\":\"scatter\"}],\"scatter3d\":[{\"line\":{\"colorbar\":{\"outlinewidth\":0,\"ticks\":\"\"}},\"marker\":{\"colorbar\":{\"outlinewidth\":0,\"ticks\":\"\"}},\"type\":\"scatter3d\"}],\"scattercarpet\":[{\"marker\":{\"colorbar\":{\"outlinewidth\":0,\"ticks\":\"\"}},\"type\":\"scattercarpet\"}],\"scattergeo\":[{\"marker\":{\"colorbar\":{\"outlinewidth\":0,\"ticks\":\"\"}},\"type\":\"scattergeo\"}],\"scattergl\":[{\"marker\":{\"colorbar\":{\"outlinewidth\":0,\"ticks\":\"\"}},\"type\":\"scattergl\"}],\"scattermapbox\":[{\"marker\":{\"colorbar\":{\"outlinewidth\":0,\"ticks\":\"\"}},\"type\":\"scattermapbox\"}],\"scatterpolar\":[{\"marker\":{\"colorbar\":{\"outlinewidth\":0,\"ticks\":\"\"}},\"type\":\"scatterpolar\"}],\"scatterpolargl\":[{\"marker\":{\"colorbar\":{\"outlinewidth\":0,\"ticks\":\"\"}},\"type\":\"scatterpolargl\"}],\"scatterternary\":[{\"marker\":{\"colorbar\":{\"outlinewidth\":0,\"ticks\":\"\"}},\"type\":\"scatterternary\"}],\"surface\":[{\"colorbar\":{\"outlinewidth\":0,\"ticks\":\"\"},\"colorscale\":[[0.0,\"#0d0887\"],[0.1111111111111111,\"#46039f\"],[0.2222222222222222,\"#7201a8\"],[0.3333333333333333,\"#9c179e\"],[0.4444444444444444,\"#bd3786\"],[0.5555555555555556,\"#d8576b\"],[0.6666666666666666,\"#ed7953\"],[0.7777777777777778,\"#fb9f3a\"],[0.8888888888888888,\"#fdca26\"],[1.0,\"#f0f921\"]],\"type\":\"surface\"}],\"table\":[{\"cells\":{\"fill\":{\"color\":\"#EBF0F8\"},\"line\":{\"color\":\"white\"}},\"header\":{\"fill\":{\"color\":\"#C8D4E3\"},\"line\":{\"color\":\"white\"}},\"type\":\"table\"}]},\"layout\":{\"annotationdefaults\":{\"arrowcolor\":\"#2a3f5f\",\"arrowhead\":0,\"arrowwidth\":1},\"autotypenumbers\":\"strict\",\"coloraxis\":{\"colorbar\":{\"outlinewidth\":0,\"ticks\":\"\"}},\"colorscale\":{\"diverging\":[[0,\"#8e0152\"],[0.1,\"#c51b7d\"],[0.2,\"#de77ae\"],[0.3,\"#f1b6da\"],[0.4,\"#fde0ef\"],[0.5,\"#f7f7f7\"],[0.6,\"#e6f5d0\"],[0.7,\"#b8e186\"],[0.8,\"#7fbc41\"],[0.9,\"#4d9221\"],[1,\"#276419\"]],\"sequential\":[[0.0,\"#0d0887\"],[0.1111111111111111,\"#46039f\"],[0.2222222222222222,\"#7201a8\"],[0.3333333333333333,\"#9c179e\"],[0.4444444444444444,\"#bd3786\"],[0.5555555555555556,\"#d8576b\"],[0.6666666666666666,\"#ed7953\"],[0.7777777777777778,\"#fb9f3a\"],[0.8888888888888888,\"#fdca26\"],[1.0,\"#f0f921\"]],\"sequentialminus\":[[0.0,\"#0d0887\"],[0.1111111111111111,\"#46039f\"],[0.2222222222222222,\"#7201a8\"],[0.3333333333333333,\"#9c179e\"],[0.4444444444444444,\"#bd3786\"],[0.5555555555555556,\"#d8576b\"],[0.6666666666666666,\"#ed7953\"],[0.7777777777777778,\"#fb9f3a\"],[0.8888888888888888,\"#fdca26\"],[1.0,\"#f0f921\"]]},\"colorway\":[\"#636efa\",\"#EF553B\",\"#00cc96\",\"#ab63fa\",\"#FFA15A\",\"#19d3f3\",\"#FF6692\",\"#B6E880\",\"#FF97FF\",\"#FECB52\"],\"font\":{\"color\":\"#2a3f5f\"},\"geo\":{\"bgcolor\":\"white\",\"lakecolor\":\"white\",\"landcolor\":\"#E5ECF6\",\"showlakes\":true,\"showland\":true,\"subunitcolor\":\"white\"},\"hoverlabel\":{\"align\":\"left\"},\"hovermode\":\"closest\",\"mapbox\":{\"style\":\"light\"},\"paper_bgcolor\":\"white\",\"plot_bgcolor\":\"#E5ECF6\",\"polar\":{\"angularaxis\":{\"gridcolor\":\"white\",\"linecolor\":\"white\",\"ticks\":\"\"},\"bgcolor\":\"#E5ECF6\",\"radialaxis\":{\"gridcolor\":\"white\",\"linecolor\":\"white\",\"ticks\":\"\"}},\"scene\":{\"xaxis\":{\"backgroundcolor\":\"#E5ECF6\",\"gridcolor\":\"white\",\"gridwidth\":2,\"linecolor\":\"white\",\"showbackground\":true,\"ticks\":\"\",\"zerolinecolor\":\"white\"},\"yaxis\":{\"backgroundcolor\":\"#E5ECF6\",\"gridcolor\":\"white\",\"gridwidth\":2,\"linecolor\":\"white\",\"showbackground\":true,\"ticks\":\"\",\"zerolinecolor\":\"white\"},\"zaxis\":{\"backgroundcolor\":\"#E5ECF6\",\"gridcolor\":\"white\",\"gridwidth\":2,\"linecolor\":\"white\",\"showbackground\":true,\"ticks\":\"\",\"zerolinecolor\":\"white\"}},\"shapedefaults\":{\"line\":{\"color\":\"#2a3f5f\"}},\"ternary\":{\"aaxis\":{\"gridcolor\":\"white\",\"linecolor\":\"white\",\"ticks\":\"\"},\"baxis\":{\"gridcolor\":\"white\",\"linecolor\":\"white\",\"ticks\":\"\"},\"bgcolor\":\"#E5ECF6\",\"caxis\":{\"gridcolor\":\"white\",\"linecolor\":\"white\",\"ticks\":\"\"}},\"title\":{\"x\":0.05},\"xaxis\":{\"automargin\":true,\"gridcolor\":\"white\",\"linecolor\":\"white\",\"ticks\":\"\",\"title\":{\"standoff\":15},\"zerolinecolor\":\"white\",\"zerolinewidth\":2},\"yaxis\":{\"automargin\":true,\"gridcolor\":\"white\",\"linecolor\":\"white\",\"ticks\":\"\",\"title\":{\"standoff\":15},\"zerolinecolor\":\"white\",\"zerolinewidth\":2}}},\"geo\":{\"domain\":{\"x\":[0.0,1.0],\"y\":[0.0,1.0]},\"center\":{},\"scope\":\"usa\"},\"coloraxis\":{\"colorbar\":{\"title\":{\"text\":\"Starting Colonies\"}},\"colorscale\":[[0.0,\"rgb(75, 41, 145)\"],[0.16666666666666666,\"rgb(135, 44, 162)\"],[0.3333333333333333,\"rgb(192, 54, 157)\"],[0.5,\"rgb(234, 79, 136)\"],[0.6666666666666666,\"rgb(250, 120, 118)\"],[0.8333333333333334,\"rgb(246, 169, 122)\"],[1.0,\"rgb(237, 217, 163)\"]]},\"legend\":{\"tracegroupgap\":0},\"margin\":{\"t\":60},\"updatemenus\":[{\"buttons\":[{\"args\":[null,{\"frame\":{\"duration\":500,\"redraw\":true},\"mode\":\"immediate\",\"fromcurrent\":true,\"transition\":{\"duration\":500,\"easing\":\"linear\"}}],\"label\":\"&#9654;\",\"method\":\"animate\"},{\"args\":[[null],{\"frame\":{\"duration\":0,\"redraw\":true},\"mode\":\"immediate\",\"fromcurrent\":true,\"transition\":{\"duration\":0,\"easing\":\"linear\"}}],\"label\":\"&#9724;\",\"method\":\"animate\"}],\"direction\":\"left\",\"pad\":{\"r\":10,\"t\":70},\"showactive\":false,\"type\":\"buttons\",\"x\":0.1,\"xanchor\":\"right\",\"y\":0,\"yanchor\":\"top\"}],\"sliders\":[{\"active\":0,\"currentvalue\":{\"prefix\":\"Date=\"},\"len\":0.9,\"pad\":{\"b\":10,\"t\":60},\"steps\":[{\"args\":[[\"2015-01-01\"],{\"frame\":{\"duration\":0,\"redraw\":true},\"mode\":\"immediate\",\"fromcurrent\":true,\"transition\":{\"duration\":0,\"easing\":\"linear\"}}],\"label\":\"2015-01-01\",\"method\":\"animate\"},{\"args\":[[\"2015-04-01\"],{\"frame\":{\"duration\":0,\"redraw\":true},\"mode\":\"immediate\",\"fromcurrent\":true,\"transition\":{\"duration\":0,\"easing\":\"linear\"}}],\"label\":\"2015-04-01\",\"method\":\"animate\"},{\"args\":[[\"2015-07-01\"],{\"frame\":{\"duration\":0,\"redraw\":true},\"mode\":\"immediate\",\"fromcurrent\":true,\"transition\":{\"duration\":0,\"easing\":\"linear\"}}],\"label\":\"2015-07-01\",\"method\":\"animate\"},{\"args\":[[\"2015-10-01\"],{\"frame\":{\"duration\":0,\"redraw\":true},\"mode\":\"immediate\",\"fromcurrent\":true,\"transition\":{\"duration\":0,\"easing\":\"linear\"}}],\"label\":\"2015-10-01\",\"method\":\"animate\"},{\"args\":[[\"2016-01-01\"],{\"frame\":{\"duration\":0,\"redraw\":true},\"mode\":\"immediate\",\"fromcurrent\":true,\"transition\":{\"duration\":0,\"easing\":\"linear\"}}],\"label\":\"2016-01-01\",\"method\":\"animate\"},{\"args\":[[\"2016-04-01\"],{\"frame\":{\"duration\":0,\"redraw\":true},\"mode\":\"immediate\",\"fromcurrent\":true,\"transition\":{\"duration\":0,\"easing\":\"linear\"}}],\"label\":\"2016-04-01\",\"method\":\"animate\"},{\"args\":[[\"2016-07-01\"],{\"frame\":{\"duration\":0,\"redraw\":true},\"mode\":\"immediate\",\"fromcurrent\":true,\"transition\":{\"duration\":0,\"easing\":\"linear\"}}],\"label\":\"2016-07-01\",\"method\":\"animate\"},{\"args\":[[\"2016-10-01\"],{\"frame\":{\"duration\":0,\"redraw\":true},\"mode\":\"immediate\",\"fromcurrent\":true,\"transition\":{\"duration\":0,\"easing\":\"linear\"}}],\"label\":\"2016-10-01\",\"method\":\"animate\"},{\"args\":[[\"2017-01-01\"],{\"frame\":{\"duration\":0,\"redraw\":true},\"mode\":\"immediate\",\"fromcurrent\":true,\"transition\":{\"duration\":0,\"easing\":\"linear\"}}],\"label\":\"2017-01-01\",\"method\":\"animate\"},{\"args\":[[\"2017-04-01\"],{\"frame\":{\"duration\":0,\"redraw\":true},\"mode\":\"immediate\",\"fromcurrent\":true,\"transition\":{\"duration\":0,\"easing\":\"linear\"}}],\"label\":\"2017-04-01\",\"method\":\"animate\"},{\"args\":[[\"2017-07-01\"],{\"frame\":{\"duration\":0,\"redraw\":true},\"mode\":\"immediate\",\"fromcurrent\":true,\"transition\":{\"duration\":0,\"easing\":\"linear\"}}],\"label\":\"2017-07-01\",\"method\":\"animate\"},{\"args\":[[\"2017-10-01\"],{\"frame\":{\"duration\":0,\"redraw\":true},\"mode\":\"immediate\",\"fromcurrent\":true,\"transition\":{\"duration\":0,\"easing\":\"linear\"}}],\"label\":\"2017-10-01\",\"method\":\"animate\"},{\"args\":[[\"2018-01-01\"],{\"frame\":{\"duration\":0,\"redraw\":true},\"mode\":\"immediate\",\"fromcurrent\":true,\"transition\":{\"duration\":0,\"easing\":\"linear\"}}],\"label\":\"2018-01-01\",\"method\":\"animate\"},{\"args\":[[\"2018-04-01\"],{\"frame\":{\"duration\":0,\"redraw\":true},\"mode\":\"immediate\",\"fromcurrent\":true,\"transition\":{\"duration\":0,\"easing\":\"linear\"}}],\"label\":\"2018-04-01\",\"method\":\"animate\"},{\"args\":[[\"2018-07-01\"],{\"frame\":{\"duration\":0,\"redraw\":true},\"mode\":\"immediate\",\"fromcurrent\":true,\"transition\":{\"duration\":0,\"easing\":\"linear\"}}],\"label\":\"2018-07-01\",\"method\":\"animate\"},{\"args\":[[\"2018-10-01\"],{\"frame\":{\"duration\":0,\"redraw\":true},\"mode\":\"immediate\",\"fromcurrent\":true,\"transition\":{\"duration\":0,\"easing\":\"linear\"}}],\"label\":\"2018-10-01\",\"method\":\"animate\"},{\"args\":[[\"2019-01-01\"],{\"frame\":{\"duration\":0,\"redraw\":true},\"mode\":\"immediate\",\"fromcurrent\":true,\"transition\":{\"duration\":0,\"easing\":\"linear\"}}],\"label\":\"2019-01-01\",\"method\":\"animate\"},{\"args\":[[\"2019-04-01\"],{\"frame\":{\"duration\":0,\"redraw\":true},\"mode\":\"immediate\",\"fromcurrent\":true,\"transition\":{\"duration\":0,\"easing\":\"linear\"}}],\"label\":\"2019-04-01\",\"method\":\"animate\"},{\"args\":[[\"2019-07-01\"],{\"frame\":{\"duration\":0,\"redraw\":true},\"mode\":\"immediate\",\"fromcurrent\":true,\"transition\":{\"duration\":0,\"easing\":\"linear\"}}],\"label\":\"2019-07-01\",\"method\":\"animate\"},{\"args\":[[\"2019-10-01\"],{\"frame\":{\"duration\":0,\"redraw\":true},\"mode\":\"immediate\",\"fromcurrent\":true,\"transition\":{\"duration\":0,\"easing\":\"linear\"}}],\"label\":\"2019-10-01\",\"method\":\"animate\"},{\"args\":[[\"2020-01-01\"],{\"frame\":{\"duration\":0,\"redraw\":true},\"mode\":\"immediate\",\"fromcurrent\":true,\"transition\":{\"duration\":0,\"easing\":\"linear\"}}],\"label\":\"2020-01-01\",\"method\":\"animate\"},{\"args\":[[\"2020-04-01\"],{\"frame\":{\"duration\":0,\"redraw\":true},\"mode\":\"immediate\",\"fromcurrent\":true,\"transition\":{\"duration\":0,\"easing\":\"linear\"}}],\"label\":\"2020-04-01\",\"method\":\"animate\"},{\"args\":[[\"2020-07-01\"],{\"frame\":{\"duration\":0,\"redraw\":true},\"mode\":\"immediate\",\"fromcurrent\":true,\"transition\":{\"duration\":0,\"easing\":\"linear\"}}],\"label\":\"2020-07-01\",\"method\":\"animate\"},{\"args\":[[\"2020-10-01\"],{\"frame\":{\"duration\":0,\"redraw\":true},\"mode\":\"immediate\",\"fromcurrent\":true,\"transition\":{\"duration\":0,\"easing\":\"linear\"}}],\"label\":\"2020-10-01\",\"method\":\"animate\"},{\"args\":[[\"2021-01-01\"],{\"frame\":{\"duration\":0,\"redraw\":true},\"mode\":\"immediate\",\"fromcurrent\":true,\"transition\":{\"duration\":0,\"easing\":\"linear\"}}],\"label\":\"2021-01-01\",\"method\":\"animate\"}],\"x\":0.1,\"xanchor\":\"left\",\"y\":0,\"yanchor\":\"top\"}],\"title\":{\"font\":{\"family\":\"Times New Roman\",\"size\":22,\"color\":\"black\"},\"text\":\"Bee starting colonies in the U.S. states over time\",\"x\":0.45}},                        {\"responsive\": true}                    ).then(function(){\n                            Plotly.addFrames('fd8bee0a-91dd-4845-94c3-8912e0b0cd3a', [{\"data\":[{\"coloraxis\":\"coloraxis\",\"geo\":\"geo\",\"hovertemplate\":\"Date=2015-01-01<br>State=%{location}<br>Starting Colonies=%{z}<extra></extra>\",\"ids\":[10.819778284410283,8.85366542803745,9.711115659888671,9.159047077588632,10.839580911706463,9.546812608597396,9.159047077588632,10.4341158035983,8.922658299524402,14.180153671552183,9.259130536145614,9.433483923290392,10.46310334047155,8.699514748210191,8.45531778769815,9.392661928770137,9.798127036878302,8.268731832117737,9.047821442478408,8.699514748210191,9.472704636443673,11.251560700835821,10.858998997563564,8.433811582477187,12.160028707028767,8.987196820661973,9.210340371976184,11.55214617812351,9.740968623038354,10.950806546816688,12.628067055589549,8.699514748210191,9.711115659888671,8.612503371220562,10.085809109330082,8.85366542803745,11.302204433654575,7.9724660159745655,9.104979856318357,8.612503371220562,8.922658299524402,8.039157390473237,8.160518247477505,10.203592144986466,10.239959789157341],\"locationmode\":\"USA-states\",\"locations\":[\"SD\",\"NM\",\"WI\",\"OK\",\"LA\",\"PA\",\"TN\",\"MS\",\"KY\",\"CA\",\"HI\",\"IA\",\"AZ\",\"NJ\",\"WV\",\"MO\",\"OH\",\"CT\",\"MT\",\"UT\",\"AR\",\"OR\",\"WA\",\"KS\",\"TX\",\"VA\",\"NE\",\"GA\",\"SC\",\"ND\",\"FL\",\"IL\",\"MI\",\"VT\",\"NC\",\"AL\",\"ID\",\"MA\",\"IN\",\"WY\",\"MD\",\"ME\",\"CO\",\"NY\",\"MN\"],\"name\":\"\",\"z\":[10.819778284410283,8.85366542803745,9.711115659888671,9.159047077588632,10.839580911706463,9.546812608597396,9.159047077588632,10.4341158035983,8.922658299524402,14.180153671552183,9.259130536145614,9.433483923290392,10.46310334047155,8.699514748210191,8.45531778769815,9.392661928770137,9.798127036878302,8.268731832117737,9.047821442478408,8.699514748210191,9.472704636443673,11.251560700835821,10.858998997563564,8.433811582477187,12.160028707028767,8.987196820661973,9.210340371976184,11.55214617812351,9.740968623038354,10.950806546816688,12.628067055589549,8.699514748210191,9.711115659888671,8.612503371220562,10.085809109330082,8.85366542803745,11.302204433654575,7.9724660159745655,9.104979856318357,8.612503371220562,8.922658299524402,8.039157390473237,8.160518247477505,10.203592144986466,10.239959789157341],\"type\":\"choropleth\"}],\"name\":\"2015-01-01\"},{\"data\":[{\"coloraxis\":\"coloraxis\",\"geo\":\"geo\",\"hovertemplate\":\"Date=2015-04-01<br>State=%{location}<br>Starting Colonies=%{z}<extra></extra>\",\"ids\":[9.159047077588632,10.275051108968611,11.56171562913966,9.433483923290392,9.878169744551839,9.392661928770137,12.628067055589549,8.699514748210191,9.047821442478408,8.922658299524402,11.03488966402723,10.085809109330082,13.854731271117556,11.703545824578878,8.987196820661973,9.769956159911606,8.779557455883728,10.491274217438248,10.126631103850338,8.987196820661973,8.922658299524402,9.769956159911606,8.318742252692399,10.968198289528557,12.254862809699606,11.512925464970229,9.392661928770137,8.433811582477187,11.170435156023453,11.643953727376633,10.126631103850338,8.699514748210191,10.691944912900398,8.922658299524402,9.648595302907339,10.085809109330082,8.006367567650246,8.922658299524402,9.51044496442652,10.404262840448617,9.51044496442652,8.45531778769815,9.350102314351341,11.396391648714276,11.314474526246391],\"locationmode\":\"USA-states\",\"locations\":[\"IL\",\"NE\",\"WA\",\"IA\",\"NC\",\"CO\",\"TX\",\"VT\",\"NJ\",\"VA\",\"ID\",\"NY\",\"CA\",\"ND\",\"IN\",\"OH\",\"NM\",\"MT\",\"OK\",\"MD\",\"AL\",\"SC\",\"MA\",\"MI\",\"FL\",\"SD\",\"WY\",\"ME\",\"MN\",\"GA\",\"WI\",\"KS\",\"LA\",\"TN\",\"PA\",\"UT\",\"CT\",\"KY\",\"HI\",\"AZ\",\"AR\",\"WV\",\"MO\",\"MS\",\"OR\"],\"name\":\"\",\"z\":[9.159047077588632,10.275051108968611,11.56171562913966,9.433483923290392,9.878169744551839,9.392661928770137,12.628067055589549,8.699514748210191,9.047821442478408,8.922658299524402,11.03488966402723,10.085809109330082,13.854731271117556,11.703545824578878,8.987196820661973,9.769956159911606,8.779557455883728,10.491274217438248,10.126631103850338,8.987196820661973,8.922658299524402,9.769956159911606,8.318742252692399,10.968198289528557,12.254862809699606,11.512925464970229,9.392661928770137,8.433811582477187,11.170435156023453,11.643953727376633,10.126631103850338,8.699514748210191,10.691944912900398,8.922658299524402,9.648595302907339,10.085809109330082,8.006367567650246,8.922658299524402,9.51044496442652,10.404262840448617,9.51044496442652,8.45531778769815,9.350102314351341,11.396391648714276,11.314474526246391],\"type\":\"choropleth\"}],\"name\":\"2015-04-01\"},{\"data\":[{\"coloraxis\":\"coloraxis\",\"geo\":\"geo\",\"hovertemplate\":\"Date=2015-07-01<br>State=%{location}<br>Starting Colonies=%{z}<extra></extra>\",\"ids\":[8.216088098632316,9.392661928770137,9.878169744551839,11.289781913656018,11.589886506106357,13.038981768465277,9.581903928408666,11.238488619268468,12.594730635321957,10.275051108968611,10.126631103850338,11.127262984158243,9.210340371976184,10.043249494911286,12.007621706806335,9.047821442478408,10.341742483467284,9.104979856318357,11.84939770159144,9.546812608597396,9.546812608597396,8.85366542803745,9.210340371976184,10.043249494911286,11.33857207782545,10.596634733096073,11.002099841204238,11.79810440720389,11.396391648714276,10.275051108968611,8.699514748210191,8.922658299524402,8.85366542803745,10.819778284410283,10.275051108968611,10.043249494911286,13.500799813124575,8.699514748210191,8.779557455883728,9.825526011066415,10.691944912900398,11.112447898373103,8.987196820661973,10.085809109330082,9.615805480084347],\"locationmode\":\"USA-states\",\"locations\":[\"CT\",\"SC\",\"OK\",\"ID\",\"GA\",\"ND\",\"HI\",\"TX\",\"SD\",\"CO\",\"PA\",\"OR\",\"TN\",\"OH\",\"FL\",\"AL\",\"UT\",\"KS\",\"MT\",\"IL\",\"MO\",\"WV\",\"KY\",\"MS\",\"WA\",\"AZ\",\"WI\",\"MN\",\"MI\",\"WY\",\"ME\",\"MA\",\"MD\",\"LA\",\"IA\",\"AR\",\"CA\",\"VT\",\"NM\",\"NJ\",\"NY\",\"NE\",\"VA\",\"NC\",\"IN\"],\"name\":\"\",\"z\":[8.216088098632316,9.392661928770137,9.878169744551839,11.289781913656018,11.589886506106357,13.038981768465277,9.581903928408666,11.238488619268468,12.594730635321957,10.275051108968611,10.126631103850338,11.127262984158243,9.210340371976184,10.043249494911286,12.007621706806335,9.047821442478408,10.341742483467284,9.104979856318357,11.84939770159144,9.546812608597396,9.546812608597396,8.85366542803745,9.210340371976184,10.043249494911286,11.33857207782545,10.596634733096073,11.002099841204238,11.79810440720389,11.396391648714276,10.275051108968611,8.699514748210191,8.922658299524402,8.85366542803745,10.819778284410283,10.275051108968611,10.043249494911286,13.500799813124575,8.699514748210191,8.779557455883728,9.825526011066415,10.691944912900398,11.112447898373103,8.987196820661973,10.085809109330082,9.615805480084347],\"type\":\"choropleth\"}],\"name\":\"2015-07-01\"},{\"data\":[{\"coloraxis\":\"coloraxis\",\"geo\":\"geo\",\"hovertemplate\":\"Date=2015-10-01<br>State=%{location}<br>Starting Colonies=%{z}<extra></extra>\",\"ids\":[11.703545824578878,11.112447898373103,8.411832675758411,9.998797732340453,11.608235644774552,8.922658299524402,11.55214617812351,10.714417768752456,9.546812608597396,8.45531778769815,10.46310334047155,9.998797732340453,10.915088464214607,10.341742483467284,8.699514748210191,9.047821442478408,9.210340371976184,9.472704636443673,9.51044496442652,8.987196820661973,11.661345470088502,9.047821442478408,12.345834587905333,11.184421397998193,9.852194258148577,9.350102314351341,11.512925464970229,8.517193191416238,12.301382825334498,10.239959789157341,10.085809109330082,12.175613438045465,8.779557455883728,10.043249494911286,11.37366339763672,10.491274217438248,8.070906088787819,9.047821442478408,8.922658299524402,10.085809109330082,8.987196820661973,11.736069016284437,8.85366542803745,10.778956289890028,13.527828485512494],\"locationmode\":\"USA-states\",\"locations\":[\"ID\",\"MI\",\"MA\",\"NC\",\"GA\",\"MD\",\"MN\",\"NY\",\"IL\",\"ME\",\"IA\",\"PA\",\"LA\",\"MS\",\"NM\",\"KY\",\"SC\",\"HI\",\"MO\",\"NJ\",\"MT\",\"KS\",\"ND\",\"NE\",\"OH\",\"IN\",\"OR\",\"OK\",\"FL\",\"UT\",\"WY\",\"SD\",\"VT\",\"AR\",\"WA\",\"AZ\",\"CT\",\"TN\",\"VA\",\"CO\",\"AL\",\"TX\",\"WV\",\"WI\",\"CA\"],\"name\":\"\",\"z\":[11.703545824578878,11.112447898373103,8.411832675758411,9.998797732340453,11.608235644774552,8.922658299524402,11.55214617812351,10.714417768752456,9.546812608597396,8.45531778769815,10.46310334047155,9.998797732340453,10.915088464214607,10.341742483467284,8.699514748210191,9.047821442478408,9.210340371976184,9.472704636443673,9.51044496442652,8.987196820661973,11.661345470088502,9.047821442478408,12.345834587905333,11.184421397998193,9.852194258148577,9.350102314351341,11.512925464970229,8.517193191416238,12.301382825334498,10.239959789157341,10.085809109330082,12.175613438045465,8.779557455883728,10.043249494911286,11.37366339763672,10.491274217438248,8.070906088787819,9.047821442478408,8.922658299524402,10.085809109330082,8.987196820661973,11.736069016284437,8.85366542803745,10.778956289890028,13.527828485512494],\"type\":\"choropleth\"}],\"name\":\"2015-10-01\"},{\"data\":[{\"coloraxis\":\"coloraxis\",\"geo\":\"geo\",\"hovertemplate\":\"Date=2016-01-01<br>State=%{location}<br>Starting Colonies=%{z}<extra></extra>\",\"ids\":[8.779557455883728,13.937728190688523,8.779557455883728,7.90100705199242,7.696212639346407,8.779557455883728,9.51044496442652,7.90100705199242,10.126631103850338,10.341742483467284,9.711115659888671,9.210340371976184,9.392661928770137,9.825526011066415,9.047821442478408,9.95227771670556,9.903487552536127,10.491274217438248,10.896739325546411,8.517193191416238,12.388394202324129,8.612503371220562,11.396391648714276,11.418614785498987,8.699514748210191,8.517193191416238,12.524526376648708,8.922658299524402,8.922658299524402,11.251560700835821,9.711115659888671,9.472704636443673,10.757902880692196,9.711115659888671,10.203592144986466,9.104979856318357,9.305650551780507,8.006367567650246,9.433483923290392,8.779557455883728,9.615805480084347,8.699514748210191,11.127262984158243,11.512925464970229,10.308952660644293],\"locationmode\":\"USA-states\",\"locations\":[\"IN\",\"CA\",\"KY\",\"WY\",\"ME\",\"WV\",\"OK\",\"CT\",\"MI\",\"NY\",\"OH\",\"MO\",\"UT\",\"NC\",\"IL\",\"MS\",\"WI\",\"MN\",\"LA\",\"CO\",\"TX\",\"VT\",\"ND\",\"ID\",\"NM\",\"KS\",\"FL\",\"AL\",\"MD\",\"WA\",\"SC\",\"IA\",\"SD\",\"MT\",\"AR\",\"TN\",\"NE\",\"MA\",\"PA\",\"VA\",\"HI\",\"NJ\",\"OR\",\"GA\",\"AZ\"],\"name\":\"\",\"z\":[8.779557455883728,13.937728190688523,8.779557455883728,7.90100705199242,7.696212639346407,8.779557455883728,9.51044496442652,7.90100705199242,10.126631103850338,10.341742483467284,9.711115659888671,9.210340371976184,9.392661928770137,9.825526011066415,9.047821442478408,9.95227771670556,9.903487552536127,10.491274217438248,10.896739325546411,8.517193191416238,12.388394202324129,8.612503371220562,11.396391648714276,11.418614785498987,8.699514748210191,8.517193191416238,12.524526376648708,8.922658299524402,8.922658299524402,11.251560700835821,9.711115659888671,9.472704636443673,10.757902880692196,9.711115659888671,10.203592144986466,9.104979856318357,9.305650551780507,8.006367567650246,9.433483923290392,8.779557455883728,9.615805480084347,8.699514748210191,11.127262984158243,11.512925464970229,10.308952660644293],\"type\":\"choropleth\"}],\"name\":\"2016-01-01\"},{\"data\":[{\"coloraxis\":\"coloraxis\",\"geo\":\"geo\",\"hovertemplate\":\"Date=2016-04-01<br>State=%{location}<br>Starting Colonies=%{z}<extra></extra>\",\"ids\":[9.998797732340453,11.418614785498987,13.919870573288517,8.85366542803745,9.392661928770137,8.45531778769815,8.34283980427146,9.259130536145614,8.612503371220562,11.03488966402723,9.104979856318357,10.043249494911286,8.366370301681654,11.350406535472453,9.581903928408666,10.341742483467284,8.699514748210191,10.085809109330082,9.878169744551839,8.517193191416238,8.779557455883728,10.203592144986466,8.1886891244442,11.251560700835821,11.589886506106357,8.987196820661973,8.779557455883728,9.305650551780507,9.392661928770137,10.596634733096073,9.159047077588632,8.34283980427146,9.546812608597396,10.839580911706463,9.825526011066415,11.608235644774552,12.736700896592344,8.987196820661973,9.51044496442652,7.824046010856292,12.388394202324129,11.002099841204238,9.433483923290392,8.987196820661973,10.858998997563564],\"locationmode\":\"USA-states\",\"locations\":[\"AZ\",\"WA\",\"CA\",\"WV\",\"MO\",\"KS\",\"NJ\",\"IA\",\"KY\",\"MT\",\"IL\",\"NC\",\"IN\",\"MS\",\"UT\",\"NY\",\"VA\",\"AR\",\"NE\",\"VT\",\"NM\",\"MN\",\"ME\",\"OR\",\"GA\",\"AL\",\"WY\",\"PA\",\"OK\",\"MI\",\"CO\",\"MA\",\"OH\",\"SD\",\"WI\",\"ND\",\"TX\",\"TN\",\"HI\",\"CT\",\"FL\",\"ID\",\"SC\",\"MD\",\"LA\"],\"name\":\"\",\"z\":[9.998797732340453,11.418614785498987,13.919870573288517,8.85366542803745,9.392661928770137,8.45531778769815,8.34283980427146,9.259130536145614,8.612503371220562,11.03488966402723,9.104979856318357,10.043249494911286,8.366370301681654,11.350406535472453,9.581903928408666,10.341742483467284,8.699514748210191,10.085809109330082,9.878169744551839,8.517193191416238,8.779557455883728,10.203592144986466,8.1886891244442,11.251560700835821,11.589886506106357,8.987196820661973,8.779557455883728,9.305650551780507,9.392661928770137,10.596634733096073,9.159047077588632,8.34283980427146,9.546812608597396,10.839580911706463,9.825526011066415,11.608235644774552,12.736700896592344,8.987196820661973,9.51044496442652,7.824046010856292,12.388394202324129,11.002099841204238,9.433483923290392,8.987196820661973,10.858998997563564],\"type\":\"choropleth\"}],\"name\":\"2016-04-01\"},{\"data\":[{\"coloraxis\":\"coloraxis\",\"geo\":\"geo\",\"hovertemplate\":\"Date=2016-07-01<br>State=%{location}<br>Starting Colonies=%{z}<extra></extra>\",\"ids\":[10.373491181781864,13.514405465180353,9.798127036878302,11.532728092266408,9.51044496442652,11.580584113444043,11.76756768334381,11.898187865760873,10.373491181781864,10.714417768752456,8.987196820661973,8.779557455883728,12.089538829274222,9.852194258148577,10.819778284410283,8.85366542803745,8.987196820661973,9.472704636443673,12.206072645530174,9.159047077588632,8.987196820661973,8.039157390473237,8.922658299524402,13.142166004700508,9.305650551780507,11.790557201568507,10.308952660644293,11.170435156023453,9.95227771670556,10.126631103850338,11.589886506106357,11.27720313144916,10.404262840448617,10.203592144986466,9.51044496442652,9.852194258148577,10.933106969717286,10.950806546816688,8.216088098632316,9.159047077588632,8.612503371220562,8.922658299524402,8.779557455883728,9.210340371976184,10.839580911706463],\"locationmode\":\"USA-states\",\"locations\":[\"WY\",\"CA\",\"NJ\",\"GA\",\"HI\",\"OR\",\"TX\",\"MT\",\"AR\",\"NE\",\"AL\",\"NM\",\"SD\",\"PA\",\"IA\",\"MD\",\"KS\",\"SC\",\"FL\",\"MA\",\"VA\",\"CT\",\"WV\",\"ND\",\"IL\",\"MN\",\"AZ\",\"WI\",\"OH\",\"NC\",\"MI\",\"ID\",\"CO\",\"UT\",\"MO\",\"MS\",\"NY\",\"WA\",\"OK\",\"IN\",\"ME\",\"KY\",\"VT\",\"TN\",\"LA\"],\"name\":\"\",\"z\":[10.373491181781864,13.514405465180353,9.798127036878302,11.532728092266408,9.51044496442652,11.580584113444043,11.76756768334381,11.898187865760873,10.373491181781864,10.714417768752456,8.987196820661973,8.779557455883728,12.089538829274222,9.852194258148577,10.819778284410283,8.85366542803745,8.987196820661973,9.472704636443673,12.206072645530174,9.159047077588632,8.987196820661973,8.039157390473237,8.922658299524402,13.142166004700508,9.305650551780507,11.790557201568507,10.308952660644293,11.170435156023453,9.95227771670556,10.126631103850338,11.589886506106357,11.27720313144916,10.404262840448617,10.203592144986466,9.51044496442652,9.852194258148577,10.933106969717286,10.950806546816688,8.216088098632316,9.159047077588632,8.612503371220562,8.922658299524402,8.779557455883728,9.210340371976184,10.839580911706463],\"type\":\"choropleth\"}],\"name\":\"2016-07-01\"},{\"data\":[{\"coloraxis\":\"coloraxis\",\"geo\":\"geo\",\"hovertemplate\":\"Date=2016-10-01<br>State=%{location}<br>Starting Colonies=%{z}<extra></extra>\",\"ids\":[11.728036844587175,11.635143097694478,8.160518247477505,8.85366542803745,8.987196820661973,9.104979856318357,11.522875795823397,10.275051108968611,10.126631103850338,11.082142548877775,8.922658299524402,8.922658299524402,10.778956289890028,9.769956159911606,10.985292722887856,8.517193191416238,12.449018824140563,8.922658299524402,9.878169744551839,9.392661928770137,9.104979856318357,11.703545824578878,8.922658299524402,8.779557455883728,9.392661928770137,10.778956289890028,11.820410164718188,12.86099861326992,9.104979856318357,10.308952660644293,9.95227771670556,11.891361900690473,10.308952660644293,11.49272275765271,8.85366542803745,10.126631103850338,10.239959789157341,13.554145793829866,10.51867319162636,8.039157390473237,8.85366542803745,8.039157390473237,10.896739325546411,11.472103470449973,9.51044496442652],\"locationmode\":\"USA-states\",\"locations\":[\"MT\",\"MN\",\"ME\",\"AL\",\"MA\",\"MO\",\"MI\",\"AZ\",\"WY\",\"WA\",\"WV\",\"KY\",\"LA\",\"MS\",\"WI\",\"KS\",\"FL\",\"MD\",\"OH\",\"SC\",\"TN\",\"ID\",\"IN\",\"VT\",\"NJ\",\"NY\",\"TX\",\"ND\",\"IL\",\"UT\",\"PA\",\"SD\",\"CO\",\"OR\",\"NM\",\"NC\",\"AR\",\"CA\",\"NE\",\"CT\",\"VA\",\"OK\",\"IA\",\"GA\",\"HI\"],\"name\":\"\",\"z\":[11.728036844587175,11.635143097694478,8.160518247477505,8.85366542803745,8.987196820661973,9.104979856318357,11.522875795823397,10.275051108968611,10.126631103850338,11.082142548877775,8.922658299524402,8.922658299524402,10.778956289890028,9.769956159911606,10.985292722887856,8.517193191416238,12.449018824140563,8.922658299524402,9.878169744551839,9.392661928770137,9.104979856318357,11.703545824578878,8.922658299524402,8.779557455883728,9.392661928770137,10.778956289890028,11.820410164718188,12.86099861326992,9.104979856318357,10.308952660644293,9.95227771670556,11.891361900690473,10.308952660644293,11.49272275765271,8.85366542803745,10.126631103850338,10.239959789157341,13.554145793829866,10.51867319162636,8.039157390473237,8.85366542803745,8.039157390473237,10.896739325546411,11.472103470449973,9.51044496442652],\"type\":\"choropleth\"}],\"name\":\"2016-10-01\"},{\"data\":[{\"coloraxis\":\"coloraxis\",\"geo\":\"geo\",\"hovertemplate\":\"Date=2017-01-01<br>State=%{location}<br>Starting Colonies=%{z}<extra></extra>\",\"ids\":[8.612503371220562,11.719939634354555,9.95227771670556,8.922658299524402,8.039157390473237,11.461632170582678,10.691944912900398,9.648595302907339,10.275051108968611,9.740968623038354,11.170435156023453,9.047821442478408,7.90100705199242,9.680344001221918,9.472704636443673,9.104979856318357,10.165851817003619,10.819778284410283,9.305650551780507,12.524526376648708,9.210340371976184,8.242756345714477,9.825526011066415,9.740968623038354,8.987196820661973,9.798127036878302,8.699514748210191,11.127262984158243,8.779557455883728,13.972514306773938,8.85366542803745,12.468436909997665,10.203592144986466,8.612503371220562,8.101677747454572,8.85366542803745,9.740968623038354,9.159047077588632,8.779557455883728,10.341742483467284,10.373491181781864,8.779557455883728,8.85366542803745,10.341742483467284,9.680344001221918],\"locationmode\":\"USA-states\",\"locations\":[\"WV\",\"GA\",\"SD\",\"NE\",\"CT\",\"ID\",\"LA\",\"OH\",\"MI\",\"WI\",\"OR\",\"TN\",\"ME\",\"NC\",\"HI\",\"MD\",\"OK\",\"ND\",\"IL\",\"TX\",\"IA\",\"KS\",\"MT\",\"SC\",\"VA\",\"AR\",\"NJ\",\"WA\",\"WY\",\"CA\",\"MO\",\"FL\",\"MN\",\"NM\",\"MA\",\"IN\",\"PA\",\"CO\",\"KY\",\"MS\",\"NY\",\"VT\",\"AL\",\"AZ\",\"UT\"],\"name\":\"\",\"z\":[8.612503371220562,11.719939634354555,9.95227771670556,8.922658299524402,8.039157390473237,11.461632170582678,10.691944912900398,9.648595302907339,10.275051108968611,9.740968623038354,11.170435156023453,9.047821442478408,7.90100705199242,9.680344001221918,9.472704636443673,9.104979856318357,10.165851817003619,10.819778284410283,9.305650551780507,12.524526376648708,9.210340371976184,8.242756345714477,9.825526011066415,9.740968623038354,8.987196820661973,9.798127036878302,8.699514748210191,11.127262984158243,8.779557455883728,13.972514306773938,8.85366542803745,12.468436909997665,10.203592144986466,8.612503371220562,8.101677747454572,8.85366542803745,9.740968623038354,9.159047077588632,8.779557455883728,10.341742483467284,10.373491181781864,8.779557455883728,8.85366542803745,10.341742483467284,9.680344001221918],\"type\":\"choropleth\"}],\"name\":\"2017-01-01\"},{\"data\":[{\"coloraxis\":\"coloraxis\",\"geo\":\"geo\",\"hovertemplate\":\"Date=2017-04-01<br>State=%{location}<br>Starting Colonies=%{z}<extra></extra>\",\"ids\":[9.903487552536127,9.648595302907339,8.987196820661973,10.308952660644293,11.170435156023453,7.824046010856292,9.615805480084347,8.922658299524402,9.798127036878302,10.757902880692196,9.047821442478408,8.612503371220562,11.225243392518447,8.699514748210191,8.85366542803745,9.95227771670556,9.047821442478408,11.396391648714276,12.751299696013497,10.373491181781864,8.922658299524402,11.652687407345388,10.915088464214607,9.51044496442652,9.740968623038354,10.126631103850338,10.085809109330082,8.779557455883728,7.696212639346407,11.018629143155449,11.77528972943772,9.711115659888671,8.922658299524402,10.933106969717286,8.779557455883728,8.006367567650246,12.409013489526863,9.392661928770137,8.85366542803745,9.392661928770137,9.350102314351341,9.740968623038354,9.998797732340453,13.795307850646754,8.242756345714477],\"locationmode\":\"USA-states\",\"locations\":[\"SC\",\"PA\",\"MD\",\"SD\",\"OR\",\"MA\",\"WY\",\"NE\",\"WI\",\"MT\",\"VA\",\"NJ\",\"WA\",\"VT\",\"NM\",\"UT\",\"TN\",\"MS\",\"TX\",\"MN\",\"WV\",\"ND\",\"MI\",\"OH\",\"OK\",\"NY\",\"NC\",\"MO\",\"ME\",\"ID\",\"GA\",\"CO\",\"IN\",\"LA\",\"AL\",\"CT\",\"FL\",\"IA\",\"KY\",\"HI\",\"IL\",\"AR\",\"AZ\",\"CA\",\"KS\"],\"name\":\"\",\"z\":[9.903487552536127,9.648595302907339,8.987196820661973,10.308952660644293,11.170435156023453,7.824046010856292,9.615805480084347,8.922658299524402,9.798127036878302,10.757902880692196,9.047821442478408,8.612503371220562,11.225243392518447,8.699514748210191,8.85366542803745,9.95227771670556,9.047821442478408,11.396391648714276,12.751299696013497,10.373491181781864,8.922658299524402,11.652687407345388,10.915088464214607,9.51044496442652,9.740968623038354,10.126631103850338,10.085809109330082,8.779557455883728,7.696212639346407,11.018629143155449,11.77528972943772,9.711115659888671,8.922658299524402,10.933106969717286,8.779557455883728,8.006367567650246,12.409013489526863,9.392661928770137,8.85366542803745,9.392661928770137,9.350102314351341,9.740968623038354,9.998797732340453,13.795307850646754,8.242756345714477],\"type\":\"choropleth\"}],\"name\":\"2017-04-01\"},{\"data\":[{\"coloraxis\":\"coloraxis\",\"geo\":\"geo\",\"hovertemplate\":\"Date=2017-07-01<br>State=%{location}<br>Starting Colonies=%{z}<extra></extra>\",\"ids\":[9.350102314351341,10.46310334047155,8.85366542803745,11.451050061252142,9.104979856318357,10.985292722887856,9.104979856318357,11.314474526246391,11.542484267211773,10.043249494911286,10.46310334047155,9.047821442478408,11.211820372186306,8.389359819906353,9.581903928408666,9.615805480084347,10.085809109330082,12.078239274020289,9.472704636443673,10.165851817003619,11.820410164718188,11.06663836234181,10.275051108968611,11.931635799828413,9.104979856318357,9.210340371976184,9.825526011066415,9.047821442478408,10.165851817003619,9.680344001221918,9.472704636443673,13.287877815881902,11.55214617812351,8.160518247477505,10.46310334047155,11.703545824578878,8.922658299524402,11.396391648714276,10.596634733096073,9.104979856318357,8.612503371220562,13.060487973686241,11.944707881395766,8.85366542803745,10.736396675471232],\"locationmode\":\"USA-states\",\"locations\":[\"VA\",\"UT\",\"KS\",\"OR\",\"MO\",\"NY\",\"KY\",\"WA\",\"MI\",\"OH\",\"CO\",\"NM\",\"WI\",\"OK\",\"SC\",\"HI\",\"MS\",\"FL\",\"IL\",\"AZ\",\"MN\",\"LA\",\"AR\",\"SD\",\"MA\",\"TN\",\"PA\",\"MD\",\"NC\",\"NJ\",\"IN\",\"CA\",\"TX\",\"CT\",\"WY\",\"GA\",\"VT\",\"ID\",\"IA\",\"WV\",\"ME\",\"ND\",\"MT\",\"AL\",\"NE\"],\"name\":\"\",\"z\":[9.350102314351341,10.46310334047155,8.85366542803745,11.451050061252142,9.104979856318357,10.985292722887856,9.104979856318357,11.314474526246391,11.542484267211773,10.043249494911286,10.46310334047155,9.047821442478408,11.211820372186306,8.389359819906353,9.581903928408666,9.615805480084347,10.085809109330082,12.078239274020289,9.472704636443673,10.165851817003619,11.820410164718188,11.06663836234181,10.275051108968611,11.931635799828413,9.104979856318357,9.210340371976184,9.825526011066415,9.047821442478408,10.165851817003619,9.680344001221918,9.472704636443673,13.287877815881902,11.55214617812351,8.160518247477505,10.46310334047155,11.703545824578878,8.922658299524402,11.396391648714276,10.596634733096073,9.104979856318357,8.612503371220562,13.060487973686241,11.944707881395766,8.85366542803745,10.736396675471232],\"type\":\"choropleth\"}],\"name\":\"2017-07-01\"},{\"data\":[{\"coloraxis\":\"coloraxis\",\"geo\":\"geo\",\"hovertemplate\":\"Date=2017-10-01<br>State=%{location}<br>Starting Colonies=%{z}<extra></extra>\",\"ids\":[10.714417768752456,9.047821442478408,11.751942365440728,12.92391243868049,8.294049640102028,10.203592144986466,12.100712129872347,8.922658299524402,11.635143097694478,9.648595302907339,13.42984807715229,9.159047077588632,10.275051108968611,8.779557455883728,8.987196820661973,10.645424897265505,9.159047077588632,11.097410021008562,10.126631103850338,9.825526011066415,8.779557455883728,9.546812608597396,11.652687407345388,11.617285480294472,10.043249494911286,8.699514748210191,8.612503371220562,11.736069016284437,11.451050061252142,10.839580911706463,9.433483923290392,11.385092093460344,10.239959789157341,8.922658299524402,9.047821442478408,9.615805480084347,9.51044496442652,10.968198289528557,11.49272275765271,10.839580911706463,10.4341158035983,10.085809109330082,9.350102314351341,8.987196820661973,8.216088098632316],\"locationmode\":\"USA-states\",\"locations\":[\"IA\",\"TN\",\"TX\",\"ND\",\"CT\",\"AZ\",\"FL\",\"KY\",\"ID\",\"NJ\",\"CA\",\"VA\",\"UT\",\"KS\",\"NM\",\"NE\",\"MO\",\"WA\",\"AR\",\"OH\",\"VT\",\"MS\",\"MT\",\"SD\",\"NC\",\"MA\",\"ME\",\"GA\",\"OR\",\"WI\",\"SC\",\"MI\",\"WY\",\"AL\",\"WV\",\"HI\",\"IL\",\"LA\",\"MN\",\"NY\",\"CO\",\"PA\",\"IN\",\"MD\",\"OK\"],\"name\":\"\",\"z\":[10.714417768752456,9.047821442478408,11.751942365440728,12.92391243868049,8.294049640102028,10.203592144986466,12.100712129872347,8.922658299524402,11.635143097694478,9.648595302907339,13.42984807715229,9.159047077588632,10.275051108968611,8.779557455883728,8.987196820661973,10.645424897265505,9.159047077588632,11.097410021008562,10.126631103850338,9.825526011066415,8.779557455883728,9.546812608597396,11.652687407345388,11.617285480294472,10.043249494911286,8.699514748210191,8.612503371220562,11.736069016284437,11.451050061252142,10.839580911706463,9.433483923290392,11.385092093460344,10.239959789157341,8.922658299524402,9.047821442478408,9.615805480084347,9.51044496442652,10.968198289528557,11.49272275765271,10.839580911706463,10.4341158035983,10.085809109330082,9.350102314351341,8.987196820661973,8.216088098632316],\"type\":\"choropleth\"}],\"name\":\"2017-10-01\"},{\"data\":[{\"coloraxis\":\"coloraxis\",\"geo\":\"geo\",\"hovertemplate\":\"Date=2018-01-01<br>State=%{location}<br>Starting Colonies=%{z}<extra></extra>\",\"ids\":[11.097410021008562,11.302204433654575,8.85366542803745,8.216088098632316,12.230765258120545,8.216088098632316,9.998797732340453,8.922658299524402,9.711115659888671,10.46310334047155,12.007621706806335,11.805595078933049,9.210340371976184,10.165851817003619,7.9724660159745655,8.987196820661973,8.779557455883728,13.955272500339433,8.922658299524402,9.472704636443673,8.612503371220562,8.779557455883728,9.581903928408666,8.612503371220562,10.621327345686446,7.549609165154532,8.85366542803745,8.922658299524402,9.51044496442652,9.740968623038354,8.612503371220562,9.392661928770137,9.740968623038354,10.691944912900398,10.126631103850338,9.259130536145614,10.571316925111784,9.825526011066415,10.043249494911286,12.409013489526863,10.819778284410283,9.852194258148577,8.987196820661973,9.95227771670556,8.45531778769815],\"locationmode\":\"USA-states\",\"locations\":[\"ND\",\"OR\",\"VA\",\"KS\",\"TX\",\"MA\",\"AR\",\"UT\",\"MI\",\"MT\",\"ID\",\"GA\",\"TN\",\"NY\",\"CT\",\"MD\",\"NJ\",\"CA\",\"AL\",\"CO\",\"WY\",\"NE\",\"PA\",\"VT\",\"IA\",\"ME\",\"IN\",\"NM\",\"SC\",\"HI\",\"KY\",\"OH\",\"OK\",\"WA\",\"AZ\",\"IL\",\"MN\",\"NC\",\"SD\",\"FL\",\"LA\",\"MS\",\"MO\",\"WI\",\"WV\"],\"name\":\"\",\"z\":[11.097410021008562,11.302204433654575,8.85366542803745,8.216088098632316,12.230765258120545,8.216088098632316,9.998797732340453,8.922658299524402,9.711115659888671,10.46310334047155,12.007621706806335,11.805595078933049,9.210340371976184,10.165851817003619,7.9724660159745655,8.987196820661973,8.779557455883728,13.955272500339433,8.922658299524402,9.472704636443673,8.612503371220562,8.779557455883728,9.581903928408666,8.612503371220562,10.621327345686446,7.549609165154532,8.85366542803745,8.922658299524402,9.51044496442652,9.740968623038354,8.612503371220562,9.392661928770137,9.740968623038354,10.691944912900398,10.126631103850338,9.259130536145614,10.571316925111784,9.825526011066415,10.043249494911286,12.409013489526863,10.819778284410283,9.852194258148577,8.987196820661973,9.95227771670556,8.45531778769815],\"type\":\"choropleth\"}],\"name\":\"2018-01-01\"},{\"data\":[{\"coloraxis\":\"coloraxis\",\"geo\":\"geo\",\"hovertemplate\":\"Date=2018-04-01<br>State=%{location}<br>Starting Colonies=%{z}<extra></extra>\",\"ids\":[10.819778284410283,8.612503371220562,9.259130536145614,10.621327345686446,11.141861783579396,9.210340371976184,9.047821442478408,9.648595302907339,8.612503371220562,8.85366542803745,9.852194258148577,13.937728190688523,8.389359819906353,9.711115659888671,8.85366542803745,12.429216196844383,9.546812608597396,8.987196820661973,10.985292722887856,10.165851817003619,7.696212639346407,9.581903928408666,9.711115659888671,9.210340371976184,10.51867319162636,9.648595302907339,9.581903928408666,10.778956289890028,10.714417768752456,8.517193191416238,8.85366542803745,12.628067055589549,9.903487552536127,8.160518247477505,10.819778284410283,9.680344001221918,11.782952602183288,10.915088464214607,8.987196820661973,9.305650551780507,8.85366542803745,8.268731832117737,7.549609165154532,8.1886891244442,11.211820372186306],\"locationmode\":\"USA-states\",\"locations\":[\"MS\",\"VT\",\"NE\",\"OR\",\"MN\",\"SD\",\"WY\",\"PA\",\"KY\",\"MD\",\"AZ\",\"CA\",\"NJ\",\"HI\",\"WV\",\"FL\",\"SC\",\"TN\",\"ID\",\"WI\",\"ME\",\"AR\",\"CO\",\"IL\",\"MI\",\"OK\",\"UT\",\"LA\",\"IA\",\"VA\",\"AL\",\"TX\",\"NY\",\"MA\",\"MT\",\"NC\",\"GA\",\"WA\",\"IN\",\"OH\",\"MO\",\"KS\",\"NM\",\"CT\",\"ND\"],\"name\":\"\",\"z\":[10.819778284410283,8.612503371220562,9.259130536145614,10.621327345686446,11.141861783579396,9.210340371976184,9.047821442478408,9.648595302907339,8.612503371220562,8.85366542803745,9.852194258148577,13.937728190688523,8.389359819906353,9.711115659888671,8.85366542803745,12.429216196844383,9.546812608597396,8.987196820661973,10.985292722887856,10.165851817003619,7.696212639346407,9.581903928408666,9.711115659888671,9.210340371976184,10.51867319162636,9.648595302907339,9.581903928408666,10.778956289890028,10.714417768752456,8.517193191416238,8.85366542803745,12.628067055589549,9.903487552536127,8.160518247477505,10.819778284410283,9.680344001221918,11.782952602183288,10.915088464214607,8.987196820661973,9.305650551780507,8.85366542803745,8.268731832117737,7.549609165154532,8.1886891244442,11.211820372186306],\"type\":\"choropleth\"}],\"name\":\"2018-04-01\"},{\"data\":[{\"coloraxis\":\"coloraxis\",\"geo\":\"geo\",\"hovertemplate\":\"Date=2018-07-01<br>State=%{location}<br>Starting Colonies=%{z}<extra></extra>\",\"ids\":[8.699514748210191,10.915088464214607,9.798127036878302,10.4341158035983,10.933106969717286,9.350102314351341,11.626254150277232,10.308952660644293,9.546812608597396,9.903487552536127,12.190959007720126,9.711115659888671,10.341742483467284,9.159047077588632,8.922658299524402,9.711115659888671,11.703545824578878,11.018629143155449,7.649692623711514,10.87804719253426,11.385092093460344,8.987196820661973,9.433483923290392,9.047821442478408,10.404262840448617,11.661345470088502,8.922658299524402,11.805595078933049,9.104979856318357,9.680344001221918,9.305650551780507,8.779557455883728,13.287877815881902,10.858998997563564,8.85366542803745,8.699514748210191,11.884489021402711,13.028052697933088,10.275051108968611,11.238488619268468,8.922658299524402,8.070906088787819,12.031719258385396,11.314474526246391,9.210340371976184],\"locationmode\":\"USA-states\",\"locations\":[\"NM\",\"NY\",\"NC\",\"CO\",\"IA\",\"IN\",\"TX\",\"UT\",\"NJ\",\"PA\",\"FL\",\"MS\",\"AZ\",\"SC\",\"WV\",\"HI\",\"MN\",\"WI\",\"OK\",\"LA\",\"MI\",\"MA\",\"ME\",\"AL\",\"WY\",\"OR\",\"MD\",\"GA\",\"TN\",\"OH\",\"IL\",\"KY\",\"CA\",\"NE\",\"VT\",\"KS\",\"MT\",\"ND\",\"AR\",\"WA\",\"VA\",\"CT\",\"SD\",\"ID\",\"MO\"],\"name\":\"\",\"z\":[8.699514748210191,10.915088464214607,9.798127036878302,10.4341158035983,10.933106969717286,9.350102314351341,11.626254150277232,10.308952660644293,9.546812608597396,9.903487552536127,12.190959007720126,9.711115659888671,10.341742483467284,9.159047077588632,8.922658299524402,9.711115659888671,11.703545824578878,11.018629143155449,7.649692623711514,10.87804719253426,11.385092093460344,8.987196820661973,9.433483923290392,9.047821442478408,10.404262840448617,11.661345470088502,8.922658299524402,11.805595078933049,9.104979856318357,9.680344001221918,9.305650551780507,8.779557455883728,13.287877815881902,10.858998997563564,8.85366542803745,8.699514748210191,11.884489021402711,13.028052697933088,10.275051108968611,11.238488619268468,8.922658299524402,8.070906088787819,12.031719258385396,11.314474526246391,9.210340371976184],\"type\":\"choropleth\"}],\"name\":\"2018-07-01\"},{\"data\":[{\"coloraxis\":\"coloraxis\",\"geo\":\"geo\",\"hovertemplate\":\"Date=2018-10-01<br>State=%{location}<br>Starting Colonies=%{z}<extra></extra>\",\"ids\":[12.971540487669746,7.696212639346407,11.84939770159144,9.210340371976184,9.648595302907339,11.502875129116727,9.680344001221918,11.396391648714276,12.388394202324129,8.160518247477505,11.904967552746252,11.661345470088502,8.987196820661973,9.680344001221918,8.85366542803745,9.95227771670556,8.779557455883728,8.85366542803745,9.648595302907339,10.778956289890028,9.392661928770137,13.42984807715229,9.95227771670556,9.392661928770137,10.714417768752456,8.779557455883728,8.496990484098719,8.85366542803745,11.49272275765271,8.612503371220562,10.203592144986466,9.210340371976184,11.251560700835821,10.308952660644293,10.165851817003619,9.104979856318357,8.85366542803745,10.87804719253426,11.33857207782545,8.987196820661973,9.581903928408666,10.819778284410283,11.225243392518447,10.308952660644293,10.308952660644293],\"locationmode\":\"USA-states\",\"locations\":[\"ND\",\"OK\",\"SD\",\"SC\",\"OH\",\"ID\",\"NC\",\"OR\",\"FL\",\"CT\",\"GA\",\"TX\",\"TN\",\"HI\",\"WV\",\"IA\",\"AL\",\"KY\",\"NJ\",\"WI\",\"IL\",\"CA\",\"PA\",\"ME\",\"NE\",\"VT\",\"MA\",\"VA\",\"MT\",\"KS\",\"UT\",\"MO\",\"MI\",\"AR\",\"AZ\",\"IN\",\"MD\",\"NY\",\"MN\",\"NM\",\"MS\",\"LA\",\"WA\",\"WY\",\"CO\"],\"name\":\"\",\"z\":[12.971540487669746,7.696212639346407,11.84939770159144,9.210340371976184,9.648595302907339,11.502875129116727,9.680344001221918,11.396391648714276,12.388394202324129,8.160518247477505,11.904967552746252,11.661345470088502,8.987196820661973,9.680344001221918,8.85366542803745,9.95227771670556,8.779557455883728,8.85366542803745,9.648595302907339,10.778956289890028,9.392661928770137,13.42984807715229,9.95227771670556,9.392661928770137,10.714417768752456,8.779557455883728,8.496990484098719,8.85366542803745,11.49272275765271,8.612503371220562,10.203592144986466,9.210340371976184,11.251560700835821,10.308952660644293,10.165851817003619,9.104979856318357,8.85366542803745,10.87804719253426,11.33857207782545,8.987196820661973,9.581903928408666,10.819778284410283,11.225243392518447,10.308952660644293,10.308952660644293],\"type\":\"choropleth\"}],\"name\":\"2018-10-01\"},{\"data\":[{\"coloraxis\":\"coloraxis\",\"geo\":\"geo\",\"hovertemplate\":\"Date=2019-01-01<br>State=%{location}<br>Starting Colonies=%{z}<extra></extra>\",\"ids\":[8.612503371220562,11.429543856031177,9.392661928770137,10.799575577092764,9.711115659888671,9.825526011066415,9.95227771670556,9.047821442478408,10.165851817003619,9.740968623038354,10.085809109330082,8.216088098632316,9.711115659888671,9.259130536145614,8.411832675758411,10.839580911706463,12.611537753638338,9.998797732340453,11.790557201568507,9.104979856318357,8.922658299524402,9.615805480084347,11.695247021764184,10.085809109330082,8.987196820661973,12.468436909997665,8.517193191416238,11.396391648714276,8.779557455883728,8.476371196895983,8.699514748210191,9.259130536145614,8.699514748210191,9.047821442478408,8.85366542803745,8.039157390473237,13.946538820370678,10.239959789157341,8.699514748210191,8.612503371220562,8.517193191416238,9.51044496442652,8.779557455883728,10.51867319162636,8.242756345714477],\"locationmode\":\"USA-states\",\"locations\":[\"VA\",\"ND\",\"SC\",\"LA\",\"HI\",\"SD\",\"OK\",\"MO\",\"MS\",\"MN\",\"MI\",\"KY\",\"WI\",\"OH\",\"KS\",\"WA\",\"FL\",\"AZ\",\"ID\",\"IL\",\"IA\",\"PA\",\"GA\",\"NY\",\"MD\",\"TX\",\"CO\",\"OR\",\"WY\",\"NM\",\"IN\",\"NC\",\"TN\",\"UT\",\"ME\",\"CT\",\"CA\",\"AR\",\"NJ\",\"AL\",\"WV\",\"NE\",\"VT\",\"MT\",\"MA\"],\"name\":\"\",\"z\":[8.612503371220562,11.429543856031177,9.392661928770137,10.799575577092764,9.711115659888671,9.825526011066415,9.95227771670556,9.047821442478408,10.165851817003619,9.740968623038354,10.085809109330082,8.216088098632316,9.711115659888671,9.259130536145614,8.411832675758411,10.839580911706463,12.611537753638338,9.998797732340453,11.790557201568507,9.104979856318357,8.922658299524402,9.615805480084347,11.695247021764184,10.085809109330082,8.987196820661973,12.468436909997665,8.517193191416238,11.396391648714276,8.779557455883728,8.476371196895983,8.699514748210191,9.259130536145614,8.699514748210191,9.047821442478408,8.85366542803745,8.039157390473237,13.946538820370678,10.239959789157341,8.699514748210191,8.612503371220562,8.517193191416238,9.51044496442652,8.779557455883728,10.51867319162636,8.242756345714477],\"type\":\"choropleth\"}],\"name\":\"2019-01-01\"},{\"data\":[{\"coloraxis\":\"coloraxis\",\"geo\":\"geo\",\"hovertemplate\":\"Date=2019-04-01<br>State=%{location}<br>Starting Colonies=%{z}<extra></extra>\",\"ids\":[null,null,null,null,null,null,null,null,null,null,null,null,null,null,null,null,null,null,null,null,null,null,null,null,null,null,null,null,null,null,null,null,null,null,null,null,null,null,null,null,null,null,null,null,null],\"locationmode\":\"USA-states\",\"locations\":[\"WV\",\"WI\",\"HI\",\"WY\",\"GA\",\"MN\",\"SC\",\"AZ\",\"OK\",\"OR\",\"MA\",\"FL\",\"ME\",\"MI\",\"PA\",\"AL\",\"CT\",\"MD\",\"ID\",\"LA\",\"VT\",\"NE\",\"NJ\",\"CA\",\"UT\",\"TN\",\"IN\",\"NM\",\"NC\",\"CO\",\"TX\",\"NY\",\"IL\",\"MT\",\"KS\",\"ND\",\"IA\",\"SD\",\"MS\",\"VA\",\"KY\",\"OH\",\"WA\",\"MO\",\"AR\"],\"name\":\"\",\"z\":[null,null,null,null,null,null,null,null,null,null,null,null,null,null,null,null,null,null,null,null,null,null,null,null,null,null,null,null,null,null,null,null,null,null,null,null,null,null,null,null,null,null,null,null,null],\"type\":\"choropleth\"}],\"name\":\"2019-04-01\"},{\"data\":[{\"coloraxis\":\"coloraxis\",\"geo\":\"geo\",\"hovertemplate\":\"Date=2019-07-01<br>State=%{location}<br>Starting Colonies=%{z}<extra></extra>\",\"ids\":[9.210340371976184,10.085809109330082,10.404262840448617,11.744037185933616,10.165851817003619,11.350406535472453,12.254862809699606,11.05089000537367,12.449018824140563,10.085809109330082,9.852194258148577,13.38472764187182,9.903487552536127,8.85366542803745,9.104979856318357,8.85366542803745,9.581903928408666,9.546812608597396,8.389359819906353,8.922658299524402,9.680344001221918,9.740968623038354,8.987196820661973,8.922658299524402,11.461632170582678,11.898187865760873,10.596634733096073,10.308952660644293,11.661345470088502,9.546812608597396,7.783224016336037,11.082142548877775,9.998797732340453,9.878169744551839,9.51044496442652,13.180632285528304,9.259130536145614,10.043249494911286,8.922658299524402,11.326595886778735,10.645424897265505,11.744037185933616,11.451050061252142,9.350102314351341,9.51044496442652],\"locationmode\":\"USA-states\",\"locations\":[\"WV\",\"WY\",\"CO\",\"TX\",\"AZ\",\"WA\",\"FL\",\"WI\",\"SD\",\"UT\",\"PA\",\"CA\",\"AR\",\"AL\",\"VA\",\"VT\",\"SC\",\"TN\",\"CT\",\"MD\",\"NJ\",\"HI\",\"KY\",\"OK\",\"ID\",\"MT\",\"NE\",\"IA\",\"GA\",\"IN\",\"NM\",\"NY\",\"NC\",\"OH\",\"IL\",\"ND\",\"MO\",\"MS\",\"KS\",\"OR\",\"LA\",\"MN\",\"MI\",\"ME\",\"MA\"],\"name\":\"\",\"z\":[9.210340371976184,10.085809109330082,10.404262840448617,11.744037185933616,10.165851817003619,11.350406535472453,12.254862809699606,11.05089000537367,12.449018824140563,10.085809109330082,9.852194258148577,13.38472764187182,9.903487552536127,8.85366542803745,9.104979856318357,8.85366542803745,9.581903928408666,9.546812608597396,8.389359819906353,8.922658299524402,9.680344001221918,9.740968623038354,8.987196820661973,8.922658299524402,11.461632170582678,11.898187865760873,10.596634733096073,10.308952660644293,11.661345470088502,9.546812608597396,7.783224016336037,11.082142548877775,9.998797732340453,9.878169744551839,9.51044496442652,13.180632285528304,9.259130536145614,10.043249494911286,8.922658299524402,11.326595886778735,10.645424897265505,11.744037185933616,11.451050061252142,9.350102314351341,9.51044496442652],\"type\":\"choropleth\"}],\"name\":\"2019-07-01\"},{\"data\":[{\"coloraxis\":\"coloraxis\",\"geo\":\"geo\",\"hovertemplate\":\"Date=2019-10-01<br>State=%{location}<br>Starting Colonies=%{z}<extra></extra>\",\"ids\":[11.396391648714276,10.736396675471232,10.203592144986466,8.699514748210191,11.082142548877775,8.517193191416238,13.458835614025542,9.769956159911606,9.305650551780507,9.472704636443673,8.779557455883728,8.242756345714477,10.203592144986466,12.948009990259552,11.76756768334381,9.350102314351341,9.648595302907339,10.308952660644293,9.95227771670556,10.621327345686446,11.48246625748552,9.104979856318357,8.922658299524402,10.4341158035983,9.852194258148577,9.769956159911606,8.987196820661973,8.699514748210191,11.33857207782545,11.170435156023453,8.85366542803745,10.373491181781864,10.51867319162636,9.047821442478408,8.476371196895983,12.14950229404178,11.686878772093667,9.433483923290392,11.652687407345388,9.95227771670556,9.852194258148577,9.740968623038354,12.506177237980511,11.617285480294472,8.779557455883728],\"locationmode\":\"USA-states\",\"locations\":[\"WA\",\"WI\",\"CO\",\"NM\",\"NY\",\"MA\",\"CA\",\"NC\",\"TN\",\"IL\",\"MD\",\"CT\",\"WY\",\"ND\",\"TX\",\"ME\",\"NJ\",\"UT\",\"MS\",\"LA\",\"MN\",\"MO\",\"WV\",\"AZ\",\"AR\",\"IN\",\"VA\",\"AL\",\"MI\",\"MT\",\"VT\",\"IA\",\"NE\",\"KY\",\"KS\",\"SD\",\"GA\",\"SC\",\"OR\",\"PA\",\"OH\",\"HI\",\"FL\",\"ID\",\"OK\"],\"name\":\"\",\"z\":[11.396391648714276,10.736396675471232,10.203592144986466,8.699514748210191,11.082142548877775,8.517193191416238,13.458835614025542,9.769956159911606,9.305650551780507,9.472704636443673,8.779557455883728,8.242756345714477,10.203592144986466,12.948009990259552,11.76756768334381,9.350102314351341,9.648595302907339,10.308952660644293,9.95227771670556,10.621327345686446,11.48246625748552,9.104979856318357,8.922658299524402,10.4341158035983,9.852194258148577,9.769956159911606,8.987196820661973,8.699514748210191,11.33857207782545,11.170435156023453,8.85366542803745,10.373491181781864,10.51867319162636,9.047821442478408,8.476371196895983,12.14950229404178,11.686878772093667,9.433483923290392,11.652687407345388,9.95227771670556,9.852194258148577,9.740968623038354,12.506177237980511,11.617285480294472,8.779557455883728],\"type\":\"choropleth\"}],\"name\":\"2019-10-01\"},{\"data\":[{\"coloraxis\":\"coloraxis\",\"geo\":\"geo\",\"hovertemplate\":\"Date=2020-01-01<br>State=%{location}<br>Starting Colonies=%{z}<extra></extra>\",\"ids\":[8.85366542803745,9.104979856318357,11.957611286231675,9.047821442478408,10.275051108968611,9.680344001221918,9.680344001221918,12.367340793126296,9.392661928770137,8.779557455883728,8.699514748210191,12.594730635321957,8.411832675758411,9.798127036878302,7.170119543449628,8.411832675758411,9.903487552536127,9.878169744551839,8.699514748210191,9.104979856318357,8.987196820661973,10.165851817003619,9.615805480084347,8.612503371220562,8.779557455883728,10.87804719253426,8.216088098632316,10.275051108968611,9.648595302907339,8.699514748210191,9.825526011066415,9.95227771670556,14.115615150414612,8.242756345714477,11.48246625748552,11.652687407345388,10.691944912900398,11.002099841204238,9.305650551780507,8.85366542803745,9.350102314351341,9.472704636443673,10.799575577092764,8.294049640102028,9.711115659888671],\"locationmode\":\"USA-states\",\"locations\":[\"MD\",\"IA\",\"ID\",\"MO\",\"NY\",\"WI\",\"HI\",\"TX\",\"UT\",\"VT\",\"VA\",\"FL\",\"KS\",\"MT\",\"ME\",\"CO\",\"SD\",\"OK\",\"NM\",\"NE\",\"TN\",\"MS\",\"NC\",\"AL\",\"NJ\",\"ND\",\"CT\",\"AZ\",\"OH\",\"WV\",\"PA\",\"MN\",\"CA\",\"MA\",\"OR\",\"GA\",\"LA\",\"MI\",\"IN\",\"KY\",\"IL\",\"SC\",\"WA\",\"WY\",\"AR\"],\"name\":\"\",\"z\":[8.85366542803745,9.104979856318357,11.957611286231675,9.047821442478408,10.275051108968611,9.680344001221918,9.680344001221918,12.367340793126296,9.392661928770137,8.779557455883728,8.699514748210191,12.594730635321957,8.411832675758411,9.798127036878302,7.170119543449628,8.411832675758411,9.903487552536127,9.878169744551839,8.699514748210191,9.104979856318357,8.987196820661973,10.165851817003619,9.615805480084347,8.612503371220562,8.779557455883728,10.87804719253426,8.216088098632316,10.275051108968611,9.648595302907339,8.699514748210191,9.825526011066415,9.95227771670556,14.115615150414612,8.242756345714477,11.48246625748552,11.652687407345388,10.691944912900398,11.002099841204238,9.305650551780507,8.85366542803745,9.350102314351341,9.472704636443673,10.799575577092764,8.294049640102028,9.711115659888671],\"type\":\"choropleth\"}],\"name\":\"2020-01-01\"},{\"data\":[{\"coloraxis\":\"coloraxis\",\"geo\":\"geo\",\"hovertemplate\":\"Date=2020-04-01<br>State=%{location}<br>Starting Colonies=%{z}<extra></extra>\",\"ids\":[9.711115659888671,7.3777589082278725,8.85366542803745,9.648595302907339,8.389359819906353,13.997832114758229,8.922658299524402,9.680344001221918,9.047821442478408,11.06663836234181,8.922658299524402,10.985292722887856,10.87804719253426,9.305650551780507,11.396391648714276,10.778956289890028,10.165851817003619,10.085809109330082,12.644327576461329,10.4341158035983,10.203592144986466,9.95227771670556,8.922658299524402,8.779557455883728,10.819778284410283,9.740968623038354,9.95227771670556,11.884489021402711,9.159047077588632,12.793859310432293,9.711115659888671,10.4341158035983,8.039157390473237,8.85366542803745,8.268731832117737,10.085809109330082,9.392661928770137,9.51044496442652,9.769956159911606,9.825526011066415,10.778956289890028,9.305650551780507,8.85366542803745,9.648595302907339,11.112447898373103],\"locationmode\":\"USA-states\",\"locations\":[\"NE\",\"ME\",\"VT\",\"HI\",\"MA\",\"CA\",\"KS\",\"OK\",\"AL\",\"MI\",\"WV\",\"MN\",\"LA\",\"KY\",\"OR\",\"MT\",\"AZ\",\"PA\",\"FL\",\"MS\",\"WI\",\"UT\",\"VA\",\"MO\",\"WA\",\"AR\",\"IA\",\"GA\",\"SD\",\"TX\",\"CO\",\"NY\",\"NM\",\"MD\",\"CT\",\"NC\",\"IL\",\"TN\",\"WY\",\"SC\",\"ID\",\"IN\",\"NJ\",\"OH\",\"ND\"],\"name\":\"\",\"z\":[9.711115659888671,7.3777589082278725,8.85366542803745,9.648595302907339,8.389359819906353,13.997832114758229,8.922658299524402,9.680344001221918,9.047821442478408,11.06663836234181,8.922658299524402,10.985292722887856,10.87804719253426,9.305650551780507,11.396391648714276,10.778956289890028,10.165851817003619,10.085809109330082,12.644327576461329,10.4341158035983,10.203592144986466,9.95227771670556,8.922658299524402,8.779557455883728,10.819778284410283,9.740968623038354,9.95227771670556,11.884489021402711,9.159047077588632,12.793859310432293,9.711115659888671,10.4341158035983,8.039157390473237,8.85366542803745,8.268731832117737,10.085809109330082,9.392661928770137,9.51044496442652,9.769956159911606,9.825526011066415,10.778956289890028,9.305650551780507,8.85366542803745,9.648595302907339,11.112447898373103],\"type\":\"choropleth\"}],\"name\":\"2020-04-01\"},{\"data\":[{\"coloraxis\":\"coloraxis\",\"geo\":\"geo\",\"hovertemplate\":\"Date=2020-07-01<br>State=%{location}<br>Starting Colonies=%{z}<extra></extra>\",\"ids\":[11.156250521031495,8.922658299524402,9.047821442478408,11.127262984158243,9.852194258148577,9.392661928770137,9.104979856318357,11.918390573078392,13.028052697933088,11.472103470449973,11.018629143155449,10.165851817003619,12.301382825334498,8.45531778769815,8.987196820661973,10.165851817003619,11.451050061252142,10.239959789157341,10.404262840448617,12.345834587905333,9.615805480084347,9.350102314351341,9.546812608597396,10.203592144986466,10.778956289890028,11.643953727376633,10.085809109330082,12.025749091398891,9.615805480084347,10.4341158035983,10.275051108968611,13.369223455335854,9.305650551780507,8.922658299524402,10.757902880692196,11.835008964139341,8.612503371220562,9.998797732340453,8.85366542803745,9.159047077588632,8.85366542803745,9.769956159911606,8.987196820661973,9.825526011066415,11.532728092266408],\"locationmode\":\"USA-states\",\"locations\":[\"ID\",\"MD\",\"VA\",\"WI\",\"AR\",\"SC\",\"AL\",\"GA\",\"ND\",\"MI\",\"NY\",\"MS\",\"FL\",\"CT\",\"WV\",\"NC\",\"WA\",\"AZ\",\"WY\",\"SD\",\"TN\",\"KY\",\"IL\",\"PA\",\"LA\",\"MN\",\"UT\",\"TX\",\"IN\",\"IA\",\"CO\",\"CA\",\"MA\",\"VT\",\"NE\",\"MT\",\"NM\",\"OH\",\"OK\",\"ME\",\"KS\",\"NJ\",\"MO\",\"HI\",\"OR\"],\"name\":\"\",\"z\":[11.156250521031495,8.922658299524402,9.047821442478408,11.127262984158243,9.852194258148577,9.392661928770137,9.104979856318357,11.918390573078392,13.028052697933088,11.472103470449973,11.018629143155449,10.165851817003619,12.301382825334498,8.45531778769815,8.987196820661973,10.165851817003619,11.451050061252142,10.239959789157341,10.404262840448617,12.345834587905333,9.615805480084347,9.350102314351341,9.546812608597396,10.203592144986466,10.778956289890028,11.643953727376633,10.085809109330082,12.025749091398891,9.615805480084347,10.4341158035983,10.275051108968611,13.369223455335854,9.305650551780507,8.922658299524402,10.757902880692196,11.835008964139341,8.612503371220562,9.998797732340453,8.85366542803745,9.159047077588632,8.85366542803745,9.769956159911606,8.987196820661973,9.825526011066415,11.532728092266408],\"type\":\"choropleth\"}],\"name\":\"2020-07-01\"},{\"data\":[{\"coloraxis\":\"coloraxis\",\"geo\":\"geo\",\"hovertemplate\":\"Date=2020-10-01<br>State=%{location}<br>Starting Colonies=%{z}<extra></extra>\",\"ids\":[9.798127036878302,10.043249494911286,11.48246625748552,10.275051108968611,9.210340371976184,11.502875129116727,13.005829561148378,11.451050061252142,13.458835614025542,12.013700752882718,8.366370301681654,12.190959007720126,9.350102314351341,9.350102314351341,8.922658299524402,9.740968623038354,9.95227771670556,10.736396675471232,10.668955394675699,8.699514748210191,11.711776323715394,9.472704636443673,7.783224016336037,8.85366542803745,10.126631103850338,11.002099841204238,10.858998997563564,8.699514748210191,10.545341438708522,10.308952660644293,11.302204433654575,8.987196820661973,9.51044496442652,12.388394202324129,9.852194258148577,8.987196820661973,9.711115659888671,8.779557455883728,9.210340371976184,11.532728092266408,11.877568578558138,9.104979856318357,9.998797732340453,9.998797732340453,10.043249494911286],\"locationmode\":\"USA-states\",\"locations\":[\"NJ\",\"PA\",\"MI\",\"UT\",\"MA\",\"MN\",\"ND\",\"ID\",\"CA\",\"GA\",\"CT\",\"SD\",\"SC\",\"KY\",\"WV\",\"AL\",\"OH\",\"LA\",\"NE\",\"KS\",\"OR\",\"IL\",\"NM\",\"OK\",\"AZ\",\"WI\",\"NY\",\"MD\",\"IA\",\"MS\",\"MT\",\"VA\",\"TN\",\"FL\",\"CO\",\"VT\",\"NC\",\"MO\",\"IN\",\"WA\",\"TX\",\"ME\",\"HI\",\"AR\",\"WY\"],\"name\":\"\",\"z\":[9.798127036878302,10.043249494911286,11.48246625748552,10.275051108968611,9.210340371976184,11.502875129116727,13.005829561148378,11.451050061252142,13.458835614025542,12.013700752882718,8.366370301681654,12.190959007720126,9.350102314351341,9.350102314351341,8.922658299524402,9.740968623038354,9.95227771670556,10.736396675471232,10.668955394675699,8.699514748210191,11.711776323715394,9.472704636443673,7.783224016336037,8.85366542803745,10.126631103850338,11.002099841204238,10.858998997563564,8.699514748210191,10.545341438708522,10.308952660644293,11.302204433654575,8.987196820661973,9.51044496442652,12.388394202324129,9.852194258148577,8.987196820661973,9.711115659888671,8.779557455883728,9.210340371976184,11.532728092266408,11.877568578558138,9.104979856318357,9.998797732340453,9.998797732340453,10.043249494911286],\"type\":\"choropleth\"}],\"name\":\"2020-10-01\"},{\"data\":[{\"coloraxis\":\"coloraxis\",\"geo\":\"geo\",\"hovertemplate\":\"Date=2021-01-01<br>State=%{location}<br>Starting Colonies=%{z}<extra></extra>\",\"ids\":[8.85366542803745,11.26446410567173,7.9724660159745655,11.238488619268468,12.611537753638338,10.126631103850338,8.517193191416238,10.839580911706463,10.839580911706463,9.769956159911606,9.615805480084347,14.03062193758122,9.210340371976184,8.006367567650246,8.160518247477505,9.648595302907339,12.388394202324129,10.308952660644293,9.392661928770137,9.798127036878302,9.159047077588632,8.34283980427146,12.031719258385396,10.239959789157341,9.546812608597396,9.210340371976184,9.769956159911606,9.305650551780507,8.85366542803745,10.621327345686446,9.159047077588632,9.903487552536127,10.778956289890028,10.404262840448617,11.695247021764184,10.275051108968611,9.95227771670556,8.85366542803745,8.612503371220562,8.517193191416238,8.922658299524402,10.596634733096073,10.239959789157341,9.878169744551839,9.472704636443673],\"locationmode\":\"USA-states\",\"locations\":[\"MD\",\"MI\",\"ME\",\"OR\",\"FL\",\"WI\",\"MA\",\"ND\",\"LA\",\"UT\",\"IA\",\"CA\",\"IN\",\"CO\",\"NM\",\"SC\",\"TX\",\"NY\",\"TN\",\"NC\",\"IL\",\"CT\",\"ID\",\"SD\",\"NJ\",\"AL\",\"OH\",\"NE\",\"WV\",\"MN\",\"KY\",\"PA\",\"WA\",\"MS\",\"GA\",\"AZ\",\"AR\",\"VA\",\"MO\",\"KS\",\"VT\",\"MT\",\"OK\",\"HI\",\"WY\"],\"name\":\"\",\"z\":[8.85366542803745,11.26446410567173,7.9724660159745655,11.238488619268468,12.611537753638338,10.126631103850338,8.517193191416238,10.839580911706463,10.839580911706463,9.769956159911606,9.615805480084347,14.03062193758122,9.210340371976184,8.006367567650246,8.160518247477505,9.648595302907339,12.388394202324129,10.308952660644293,9.392661928770137,9.798127036878302,9.159047077588632,8.34283980427146,12.031719258385396,10.239959789157341,9.546812608597396,9.210340371976184,9.769956159911606,9.305650551780507,8.85366542803745,10.621327345686446,9.159047077588632,9.903487552536127,10.778956289890028,10.404262840448617,11.695247021764184,10.275051108968611,9.95227771670556,8.85366542803745,8.612503371220562,8.517193191416238,8.922658299524402,10.596634733096073,10.239959789157341,9.878169744551839,9.472704636443673],\"type\":\"choropleth\"}],\"name\":\"2021-01-01\"}]);\n                        }).then(function(){\n                            \nvar gd = document.getElementById('fd8bee0a-91dd-4845-94c3-8912e0b0cd3a');\nvar x = new MutationObserver(function (mutations, observer) {{\n        var display = window.getComputedStyle(gd).display;\n        if (!display || display === 'none') {{\n            console.log([gd, 'removed!']);\n            Plotly.purge(gd);\n            observer.disconnect();\n        }}\n}});\n\n// Listen for the removal of the full notebook cells\nvar notebookContainer = gd.closest('#notebook-container');\nif (notebookContainer) {{\n    x.observe(notebookContainer, {childList: true});\n}}\n\n// Listen for the clearing of the current output cell\nvar outputEl = gd.closest('.output');\nif (outputEl) {{\n    x.observe(outputEl, {childList: true});\n}}\n\n                        })                };                });            </script>        </div>"
     },
     "metadata": {},
     "output_type": "display_data"
    }
   ],
   "source": [
    "df = bees.copy()[['Date', 'Starting Colonies']]\n",
    "df = df.sort_values('Date') # Make sure you sort the time horizon column in ascending order because this column may be in random order\n",
    "df['Date'] = df['Date'].dt.date.astype(str)\n",
    "df = df.replace('(NA)', np.nan)\n",
    "df['Starting Colonies'] = np.log(pd.to_numeric(df['Starting Colonies']))  # important to apply log because of the large discrepancies\n",
    "df.rename(index=us_state_to_abbrev, inplace=True)\n",
    "title = 'Bee starting colonies in the U.S. states over time'\n",
    "fig = px.choropleth(df,\n",
    "                    locations=df.index,\n",
    "                    locationmode=\"USA-states\",\n",
    "                    color='Starting Colonies',\n",
    "                    color_continuous_scale=\"agsunset\",\n",
    "                    scope=\"usa\",\n",
    "                    animation_frame='Date',  # make sure 'Date' is string type and sorted in ascending order\n",
    "                    animation_group='Starting Colonies'\n",
    "                    )\n",
    "fig.update_layout(\n",
    "      title_text = title,\n",
    "      title_font_family=\"Times New Roman\",\n",
    "      title_font_size = 22,\n",
    "      title_font_color=\"black\",\n",
    "      title_x=0.45,\n",
    "     )\n",
    "fig.write_image(f\"../Leitfaden/plot/{title}.jpg\")\n",
    "fig.show()"
   ],
   "metadata": {
    "collapsed": false,
    "pycharm": {
     "name": "#%%\n"
    }
   }
  },
  {
   "cell_type": "code",
   "execution_count": 105,
   "outputs": [
    {
     "data": {
      "text/plain": "array([2015, 2016, 2017, 2018, 2019, 2020], dtype=int64)"
     },
     "execution_count": 105,
     "metadata": {},
     "output_type": "execute_result"
    }
   ],
   "source": [
    "honey.Year.dt.year.unique()"
   ],
   "metadata": {
    "collapsed": false,
    "pycharm": {
     "name": "#%%\n"
    }
   }
  },
  {
   "cell_type": "code",
   "execution_count": 118,
   "outputs": [
    {
     "data": {
      "text/plain": "<Figure size 864x432 with 2 Axes>",
      "image/png": "[encoded data removed]"
     },
     "metadata": {},
     "output_type": "display_data"
    }
   ],
   "source": [
    "suptitle = \"Honey and Bees\"\n",
    "title = \"Log Honey Production\"\n",
    "fig, ax = plt.subplots(figsize=(12,6))\n",
    "\n",
    "df = honey.copy()\n",
    "df.production_kg = np.log(df.production_kg)  # normalize or choose quantiles\n",
    "df.boxplot(column=\"production_kg\", by=\"Year\", ax=ax)\n",
    "\n",
    "plt.suptitle(suptitle, size=30, y=1, c='#3C4EE0', fontweight=\"bold\")\n",
    "plt.title(title, fontsize=15)\n",
    "plt.xlabel('Year')\n",
    "plt.ylabel('Log Production [kg]')\n",
    "ax.set_xticklabels(honey.Year.dt.year.unique())\n",
    "\n",
    "# TA Logo\n",
    "im = plt.imread(\"../logos/TA_Logo_Vertical1.png\")\n",
    "newax = fig.add_axes([.75, .2, .2, 0.6], anchor='NE', zorder=1)\n",
    "newax.imshow(im, alpha=1)\n",
    "newax.axis('off')\n",
    "\n",
    "plt.savefig(f\"../Leitfaden/plot/{title}.jpg\", bbox_inches=\"tight\", dpi=800)\n",
    "\n",
    "plt.show()"
   ],
   "metadata": {
    "collapsed": false,
    "pycharm": {
     "name": "#%%\n"
    }
   }
  }
 ],
 "metadata": {
  "kernelspec": {
   "display_name": "Python 3",
   "language": "python",
   "name": "python3"
  },
  "language_info": {
   "codemirror_mode": {
    "name": "ipython",
    "version": 2
   },
   "file_extension": ".py",
   "mimetype": "text/x-python",
   "name": "python",
   "nbconvert_exporter": "python",
   "pygments_lexer": "ipython2",
   "version": "2.7.6"
  }
 },
 "nbformat": 4,
 "nbformat_minor": 0
}