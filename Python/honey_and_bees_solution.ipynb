{
 "cells": [
  {
   "cell_type": "markdown",
   "source": [
    "# TechAcademy: Honey and Bees Python Solution"
   ],
   "metadata": {
    "collapsed": false
   }
  },
  {
   "cell_type": "markdown",
   "source": [
    " # Exlporatory Data Analysis (EDA)"
   ],
   "metadata": {
    "collapsed": false
   }
  },
  {
   "cell_type": "markdown",
   "source": [
    "## Import Packages"
   ],
   "metadata": {
    "collapsed": false
   }
  },
  {
   "cell_type": "code",
   "execution_count": 21,
   "metadata": {
    "collapsed": true
   },
   "outputs": [],
   "source": [
    "import pandas as pd\n",
    "from matplotlib import pyplot as plt\n",
    "from matplotlib import dates as mdates"
   ]
  },
  {
   "cell_type": "markdown",
   "source": [
    "## Plot Styles"
   ],
   "metadata": {
    "collapsed": false
   }
  },
  {
   "cell_type": "code",
   "execution_count": 26,
   "outputs": [],
   "source": [
    "plt.style.use('./styles/ta.mplstyle')  # TA-Style\n",
    "myFmt = mdates.DateFormatter('%Y-%m')"
   ],
   "metadata": {
    "collapsed": false,
    "pycharm": {
     "name": "#%%\n"
    }
   }
  },
  {
   "cell_type": "markdown",
   "source": [
    "## Load the data"
   ],
   "metadata": {
    "collapsed": false
   }
  },
  {
   "cell_type": "code",
   "execution_count": 3,
   "outputs": [],
   "source": [
    "# Bees\n",
    "bees = pd.read_csv('https://drive.google.com/uc?export=download&id=1lop3qnrSve5A13jNcL6wCehGpDaCrGRO', index_col=0)\n",
    "# Honey\n",
    "honey = pd.read_csv('https://drive.google.com/uc?export=download&id=1bQtWQluwwGUIgZuDOsJOE-4Om7x4HOxP', index_col=0)\n",
    "# Stressors\n",
    "stressors = pd.read_csv('https://drive.google.com/uc?export=download&id=1nqCXkgnaLDQtO0M-K--rAcatuZD_VLXq', index_col=0)\n",
    "# Weather\n",
    "weather = pd.read_csv('https://drive.google.com/uc?export=download&id=1N78o7a8l2v9O9T3rurGfyEBAZEAOTG2h', index_col=0)"
   ],
   "metadata": {
    "collapsed": false,
    "pycharm": {
     "name": "#%%\n"
    }
   }
  },
  {
   "cell_type": "markdown",
   "source": [
    "## Rename the weather index nicely"
   ],
   "metadata": {
    "collapsed": false
   }
  },
  {
   "cell_type": "code",
   "execution_count": null,
   "outputs": [],
   "source": [
    "# enjoy this link to rename the weather index https://gist.github.com/rogerallen/1583593\n",
    "us_state_to_abbrev = {\n",
    "    \"Alabama\": \"AL\",\n",
    "    \"Alaska\": \"AK\",\n",
    "    \"Arizona\": \"AZ\",\n",
    "    \"Arkansas\": \"AR\",\n",
    "    \"California\": \"CA\",\n",
    "    \"Colorado\": \"CO\",\n",
    "    \"Connecticut\": \"CT\",\n",
    "    \"Delaware\": \"DE\",\n",
    "    \"Florida\": \"FL\",\n",
    "    \"Georgia\": \"GA\",\n",
    "    \"Hawaii\": \"HI\",\n",
    "    \"Idaho\": \"ID\",\n",
    "    \"Illinois\": \"IL\",\n",
    "    \"Indiana\": \"IN\",\n",
    "    \"Iowa\": \"IA\",\n",
    "    \"Kansas\": \"KS\",\n",
    "    \"Kentucky\": \"KY\",\n",
    "    \"Louisiana\": \"LA\",\n",
    "    \"Maine\": \"ME\",\n",
    "    \"Maryland\": \"MD\",\n",
    "    \"Massachusetts\": \"MA\",\n",
    "    \"Michigan\": \"MI\",\n",
    "    \"Minnesota\": \"MN\",\n",
    "    \"Mississippi\": \"MS\",\n",
    "    \"Missouri\": \"MO\",\n",
    "    \"Montana\": \"MT\",\n",
    "    \"Nebraska\": \"NE\",\n",
    "    \"Nevada\": \"NV\",\n",
    "    \"New Hampshire\": \"NH\",\n",
    "    \"New Jersey\": \"NJ\",\n",
    "    \"New Mexico\": \"NM\",\n",
    "    \"New York\": \"NY\",\n",
    "    \"North Carolina\": \"NC\",\n",
    "    \"North Dakota\": \"ND\",\n",
    "    \"Ohio\": \"OH\",\n",
    "    \"Oklahoma\": \"OK\",\n",
    "    \"Oregon\": \"OR\",\n",
    "    \"Pennsylvania\": \"PA\",\n",
    "    \"Rhode Island\": \"RI\",\n",
    "    \"South Carolina\": \"SC\",\n",
    "    \"South Dakota\": \"SD\",\n",
    "    \"Tennessee\": \"TN\",\n",
    "    \"Texas\": \"TX\",\n",
    "    \"Utah\": \"UT\",\n",
    "    \"Vermont\": \"VT\",\n",
    "    \"Virginia\": \"VA\",\n",
    "    \"Washington\": \"WA\",\n",
    "    \"West Virginia\": \"WV\",\n",
    "    \"Wisconsin\": \"WI\",\n",
    "    \"Wyoming\": \"WY\",\n",
    "    \"District of Columbia\": \"DC\",\n",
    "    \"American Samoa\": \"AS\",\n",
    "    \"Guam\": \"GU\",\n",
    "    \"Northern Mariana Islands\": \"MP\",\n",
    "    \"Puerto Rico\": \"PR\",\n",
    "    \"United States Minor Outlying Islands\": \"UM\",\n",
    "    \"U.S. Virgin Islands\": \"VI\",\n",
    "}\n",
    "\n",
    "# invert the dictionary\n",
    "abbrev_to_us_state = dict(map(reversed, us_state_to_abbrev.items()))\n",
    "weather.rename(index=abbrev_to_us_state, inplace=True)"
   ],
   "metadata": {
    "collapsed": false,
    "pycharm": {
     "name": "#%%\n"
    }
   }
  },
  {
   "cell_type": "markdown",
   "source": [
    "## Get a feeling for the data"
   ],
   "metadata": {
    "collapsed": false
   }
  },
  {
   "cell_type": "code",
   "execution_count": 4,
   "outputs": [
    {
     "name": "stdout",
     "output_type": "stream",
     "text": [
      "            Date Starting Colonies Maximum Colonies Lost Colonies  \\\n",
      "State                                                               \n",
      "Alabama  2015-Q3              8500             9000          1400   \n",
      "Alabama  2015-Q4              8000             8000           610   \n",
      "Alabama  2016-Q1              7500             7500          1700   \n",
      "Alabama  2015-Q2              7500             7500           860   \n",
      "Alabama  2015-Q1              7000             7000          1800   \n",
      "\n",
      "        Added Colonies Renovated Colonies Percent Renovated  \\\n",
      "State                                                         \n",
      "Alabama            160                260                 3   \n",
      "Alabama             80                 60                 1   \n",
      "Alabama           2100                 90                 1   \n",
      "Alabama           1900                680                 9   \n",
      "Alabama           2800                250                 4   \n",
      "\n",
      "        Varroa Mites (Percent) Other pests and parasites (Percent)  \\\n",
      "State                                                                \n",
      "Alabama                   63.1                                70.6   \n",
      "Alabama                    3.1                                 6.4   \n",
      "Alabama                   24.2                                  22   \n",
      "Alabama                   16.7                                42.5   \n",
      "Alabama                     10                                 5.4   \n",
      "\n",
      "        Diseases (percent) Pesticides (percent) Other (percent)  \\\n",
      "State                                                             \n",
      "Alabama                (Z)                  2.6             2.2   \n",
      "Alabama                0.2                  0.2             2.8   \n",
      "Alabama                4.3                  8.1             2.4   \n",
      "Alabama                (Z)                  2.3             3.2   \n",
      "Alabama                (Z)                  2.2             9.1   \n",
      "\n",
      "        Unknown (percent) State_code   Latitude  Longitude  \n",
      "State                                                       \n",
      "Alabama              17.7         AL  32.601011 -86.680736  \n",
      "Alabama               1.9         AL  32.601011 -86.680736  \n",
      "Alabama              11.3         AL  32.601011 -86.680736  \n",
      "Alabama               4.1         AL  32.601011 -86.680736  \n",
      "Alabama               9.4         AL  32.601011 -86.680736  \n",
      "            Honey producing colonies (thousand)  Yield per colony (pounds)  \\\n",
      "State                                                                        \n",
      "Alabama                                       7                       47.0   \n",
      "Arizona                                      26                       49.0   \n",
      "Arkansas                                     24                       72.0   \n",
      "California                                  275                       30.0   \n",
      "Colorado                                     29                       51.0   \n",
      "\n",
      "            Production (1,000 pounds)  Stocks December 15  (1,000 pounds)   \\\n",
      "State                                                                        \n",
      "Alabama                           329                                   13   \n",
      "Arizona                          1274                                  306   \n",
      "Arkansas                         1728                                  121   \n",
      "California                       8250                                 1485   \n",
      "Colorado                         1479                                  399   \n",
      "\n",
      "            Average price per pound (dollars)  \\\n",
      "State                                           \n",
      "Alabama                                  3.83   \n",
      "Arizona                                  2.17   \n",
      "Arkansas                                 2.02   \n",
      "California                               2.04   \n",
      "Colorado                                 2.18   \n",
      "\n",
      "            Value of production (1,000 dollars)  Year  \n",
      "State                                                  \n",
      "Alabama                                    1260  2015  \n",
      "Arizona                                    2765  2015  \n",
      "Arkansas                                   3491  2015  \n",
      "California                                16830  2015  \n",
      "Colorado                                   3224  2015  \n",
      "           Varroa Mites (Percent) Other pests and parasites (Percent)  \\\n",
      "State                                                                   \n",
      "Alabama                        10                                 5.4   \n",
      "Arizona                      26.9                                20.5   \n",
      "Arkansas                     17.6                                11.4   \n",
      "California                   24.7                                 7.2   \n",
      "Colorado                     14.6                                 0.9   \n",
      "\n",
      "           Diseases (percent) Pesticides (percent) Other (percent)  \\\n",
      "State                                                                \n",
      "Alabama                   (Z)                  2.2             9.1   \n",
      "Arizona                   0.1                  (Z)             1.8   \n",
      "Arkansas                  1.5                  3.4               1   \n",
      "California                  3                  7.5             6.5   \n",
      "Colorado                  1.8                  0.6             2.6   \n",
      "\n",
      "           Unknown (percent)     Year  \n",
      "State                                  \n",
      "Alabama                  9.4  2015-Q1  \n",
      "Arizona                  3.1  2015-Q1  \n",
      "Arkansas                   1  2015-Q1  \n",
      "California               2.8  2015-Q1  \n",
      "Colorado                 5.9  2015-Q1  \n",
      "      latitude  longitude    datetime  tempmax  tempmin  temp  feelslikemax  \\\n",
      "name                                                                          \n",
      "AK      61.303   -158.775  2015-01-01     -1.0     -7.0  -3.6          -1.0   \n",
      "AK      61.303   -158.775  2015-01-02     -7.0    -14.0 -11.4          -7.0   \n",
      "AK      61.303   -158.775  2015-01-03    -14.0    -19.0 -16.7         -14.0   \n",
      "AK      61.303   -158.775  2015-01-04    -18.0    -22.0 -20.4         -18.0   \n",
      "AK      61.303   -158.775  2015-01-05    -17.0    -20.0 -17.8         -17.0   \n",
      "\n",
      "      feelslikemin  feelslike   dew  ...  windgust  windspeed  winddir  \\\n",
      "name                                 ...                                 \n",
      "AK            -7.0       -3.6  -4.6  ...       NaN        0.0      0.0   \n",
      "AK           -14.0      -11.4 -12.7  ...       NaN        0.0      0.0   \n",
      "AK           -19.0      -16.7 -18.4  ...       NaN        0.0      0.0   \n",
      "AK           -22.0      -20.4 -22.3  ...       NaN        0.0      0.0   \n",
      "AK           -26.5      -20.6 -21.0  ...      29.5       16.6    130.0   \n",
      "\n",
      "      sealevelpressure  cloudcover  visibility  solarradiation  solarenergy  \\\n",
      "name                                                                          \n",
      "AK                 NaN        94.5        11.3             NaN          NaN   \n",
      "AK                 NaN        28.0        14.0             NaN          NaN   \n",
      "AK                 NaN        29.9        16.0             NaN          NaN   \n",
      "AK                 NaN         0.0        16.0             NaN          NaN   \n",
      "AK                 NaN        12.5        16.0             NaN          NaN   \n",
      "\n",
      "      uvindex  severerisk  \n",
      "name                       \n",
      "AK        NaN         NaN  \n",
      "AK        NaN         NaN  \n",
      "AK        NaN         NaN  \n",
      "AK        NaN         NaN  \n",
      "AK        NaN         NaN  \n",
      "\n",
      "[5 rows x 27 columns]\n",
      "Date                                    object\n",
      "Starting Colonies                       object\n",
      "Maximum Colonies                        object\n",
      "Lost Colonies                           object\n",
      "Added Colonies                          object\n",
      "Renovated Colonies                      object\n",
      "Percent Renovated                       object\n",
      "Varroa Mites (Percent)                  object\n",
      "Other pests and parasites (Percent)     object\n",
      "Diseases (percent)                      object\n",
      "Pesticides (percent)                    object\n",
      "Other (percent)                         object\n",
      "Unknown (percent)                       object\n",
      "State_code                              object\n",
      "Latitude                               float64\n",
      "Longitude                              float64\n",
      "dtype: object\n",
      "Honey producing colonies (thousand)      int64\n",
      "Yield per colony (pounds)              float64\n",
      "Production (1,000 pounds)                int64\n",
      "Stocks December 15  (1,000 pounds)       int64\n",
      "Average price per pound (dollars)      float64\n",
      "Value of production (1,000 dollars)      int64\n",
      "Year                                     int64\n",
      "dtype: object\n",
      "Varroa Mites (Percent)                 object\n",
      "Other pests and parasites (Percent)    object\n",
      "Diseases (percent)                     object\n",
      "Pesticides (percent)                   object\n",
      "Other (percent)                        object\n",
      "Unknown (percent)                      object\n",
      "Year                                   object\n",
      "dtype: object\n",
      "latitude            float64\n",
      "longitude           float64\n",
      "datetime             object\n",
      "tempmax             float64\n",
      "tempmin             float64\n",
      "temp                float64\n",
      "feelslikemax        float64\n",
      "feelslikemin        float64\n",
      "feelslike           float64\n",
      "dew                 float64\n",
      "humidity            float64\n",
      "precip              float64\n",
      "precipprob          float64\n",
      "precipcover         float64\n",
      "preciptype          float64\n",
      "snow                float64\n",
      "snowdepth           float64\n",
      "windgust            float64\n",
      "windspeed           float64\n",
      "winddir             float64\n",
      "sealevelpressure    float64\n",
      "cloudcover          float64\n",
      "visibility          float64\n",
      "solarradiation      float64\n",
      "solarenergy         float64\n",
      "uvindex             float64\n",
      "severerisk          float64\n",
      "dtype: object\n"
     ]
    }
   ],
   "source": [
    "print(bees.head())\n",
    "print(honey.head())\n",
    "print(stressors.head())\n",
    "print(weather.head())\n",
    "\n",
    "print(bees.dtypes)\n",
    "print(honey.dtypes)\n",
    "print(stressors.dtypes)\n",
    "print(weather.dtypes)"
   ],
   "metadata": {
    "collapsed": false,
    "pycharm": {
     "name": "#%%\n"
    }
   }
  },
  {
   "cell_type": "markdown",
   "source": [
    "## Task 1: Convert from pounds to kg and prices to $/kg"
   ],
   "metadata": {
    "collapsed": false
   }
  },
  {
   "cell_type": "code",
   "execution_count": 5,
   "outputs": [],
   "source": [
    "honey[\"honey_producing_colonies\"] = honey[\"Honey producing colonies (thousand)\"] * 1000\n",
    "honey[\"yield_colony_kg\"] = honey[\"Yield per colony (pounds)\"] * 0.453592\n",
    "honey[\"production_kg\"] = honey[\"Production (1,000 pounds)\"] * 1000 * 0.453592\n",
    "honey[\"stock_price_kg\"] = honey[\"Stocks December 15  (1,000 pounds) \"] / 1000 * 0.453592 * 100\n",
    "honey[\"avg_price_kk\"] = honey[\"Average price per pound (dollars)\"] * 0.453592\n",
    "honey[\"prod_value\"] = honey[\"Value of production (1,000 dollars)\"] * 1000\n",
    "\n",
    "honey.drop(\n",
    "    [\"Honey producing colonies (thousand)\", \"Yield per colony (pounds)\", \"Production (1,000 pounds)\",\n",
    "     \"Stocks December 15  (1,000 pounds) \", \"Average price per pound (dollars)\", \"Value of production (1,000 dollars)\"],\n",
    "    axis=1,\n",
    "    inplace=True,\n",
    ")"
   ],
   "metadata": {
    "collapsed": false,
    "pycharm": {
     "name": "#%%\n"
    }
   }
  },
  {
   "cell_type": "markdown",
   "source": [
    "## Task 2: write loop to round up to the decimal place you prefer (does not make sense for Python really)"
   ],
   "metadata": {
    "collapsed": false
   }
  },
  {
   "cell_type": "code",
   "execution_count": 7,
   "outputs": [],
   "source": [
    "honey = honey.round(2)"
   ],
   "metadata": {
    "collapsed": false,
    "pycharm": {
     "name": "#%%\n"
    }
   }
  },
  {
   "cell_type": "markdown",
   "source": [
    "## Task 3: Years in date format"
   ],
   "metadata": {
    "collapsed": false
   }
  },
  {
   "cell_type": "code",
   "execution_count": 8,
   "outputs": [],
   "source": [
    "honey.Year = pd.to_datetime(honey.Year, format=\"%Y\")  # assumes start of year 01.01 by convention\n",
    "stressors.Year = pd.to_datetime(stressors.Year)  # actually with Quarter included\n",
    "bees.Date = pd.to_datetime(bees.Date)\n",
    "weather.datetime = pd.to_datetime(weather.datetime)"
   ],
   "metadata": {
    "collapsed": false,
    "pycharm": {
     "name": "#%%\n"
    }
   }
  },
  {
   "cell_type": "markdown",
   "source": [
    "## Task 4: numbers into numeric format, numeric should be a loop"
   ],
   "metadata": {
    "collapsed": false
   }
  },
  {
   "cell_type": "code",
   "execution_count": 8,
   "outputs": [],
   "source": [],
   "metadata": {
    "collapsed": false,
    "pycharm": {
     "name": "#%%\n"
    }
   }
  },
  {
   "cell_type": "markdown",
   "source": [
    "## Task 5: Calculate the percentage of lost colonies & round, why id you decide to round the way you have to?"
   ],
   "metadata": {
    "collapsed": false
   }
  },
  {
   "cell_type": "code",
   "execution_count": 8,
   "outputs": [],
   "source": [],
   "metadata": {
    "collapsed": false,
    "pycharm": {
     "name": "#%%\n"
    }
   }
  },
  {
   "cell_type": "markdown",
   "source": [
    "## Other stuff"
   ],
   "metadata": {
    "collapsed": false
   }
  },
  {
   "cell_type": "code",
   "execution_count": 30,
   "outputs": [],
   "source": [
    "# average production by state\n",
    "avg_state_prod = honey.groupby(honey.index)[\"production_kg\"].mean()\n",
    "\n",
    "# production by state and year\n",
    "state_year_prod = honey.groupby([honey.index, honey.Year])[\"production_kg\"].sum()\n"
   ],
   "metadata": {
    "collapsed": false,
    "pycharm": {
     "name": "#%%\n"
    }
   }
  },
  {
   "cell_type": "code",
   "execution_count": 29,
   "outputs": [
    {
     "data": {
      "text/plain": "<Figure size 864x432 with 2 Axes>",
      "image/png": "[encoded data removed]"
     },
     "metadata": {},
     "output_type": "display_data"
    }
   ],
   "source": [
    "state = \"Wyoming\"\n",
    "suptitle = \"Honey and Bees\"\n",
    "title = f\"Honey production in {state} over time\"\n",
    "fig, ax = plt.subplots(figsize=(12,6))\n",
    "plt.suptitle(suptitle, size=30, y=1, c='#3C4EE0', fontweight=\"bold\")\n",
    "plt.title(title, fontsize=15)\n",
    "plt.xlabel('Year')\n",
    "plt.ylabel('Production [kg]')\n",
    "\n",
    "# plot data\n",
    "df = state_year_prod[state:state]\n",
    "ax.plot(df.index.get_level_values('Year'), df.values)\n",
    "\n",
    "# TA Logo\n",
    "im = plt.imread(\"../logos/TA_Logo_Vertical1.png\")\n",
    "newax = fig.add_axes([.75, .2, .2, 0.6], anchor='NE', zorder=1)\n",
    "newax.imshow(im, alpha=1)\n",
    "newax.axis('off')\n",
    "# date formatting\n",
    "ax.xaxis.set_major_formatter(myFmt)\n",
    "plt.savefig(f\"./figs/{title}.jpg\", bbox_inches=\"tight\", dpi=800)"
   ],
   "metadata": {
    "collapsed": false,
    "pycharm": {
     "name": "#%%\n"
    }
   }
  }
 ],
 "metadata": {
  "kernelspec": {
   "display_name": "Python 3",
   "language": "python",
   "name": "python3"
  },
  "language_info": {
   "codemirror_mode": {
    "name": "ipython",
    "version": 2
   },
   "file_extension": ".py",
   "mimetype": "text/x-python",
   "name": "python",
   "nbconvert_exporter": "python",
   "pygments_lexer": "ipython2",
   "version": "2.7.6"
  }
 },
 "nbformat": 4,
 "nbformat_minor": 0
}